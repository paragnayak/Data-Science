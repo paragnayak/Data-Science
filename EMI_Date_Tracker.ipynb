{
  "nbformat": 4,
  "nbformat_minor": 0,
  "metadata": {
    "colab": {
      "name": "EMI_Date_Tracker.ipynb",
      "provenance": [],
      "collapsed_sections": [],
      "include_colab_link": true
    },
    "kernelspec": {
      "name": "python3",
      "display_name": "Python 3"
    },
    "accelerator": "GPU"
  },
  "cells": [
    {
      "cell_type": "markdown",
      "metadata": {
        "id": "view-in-github",
        "colab_type": "text"
      },
      "source": [
        "<a href=\"https://colab.research.google.com/github/paragnayak/Data-Science/blob/master/EMI_Date_Tracker.ipynb\" target=\"_parent\"><img src=\"https://colab.research.google.com/assets/colab-badge.svg\" alt=\"Open In Colab\"/></a>"
      ]
    },
    {
      "cell_type": "code",
      "metadata": {
        "id": "XPWaCfNLX69D",
        "colab_type": "code",
        "colab": {}
      },
      "source": [
        "import pandas as pd\n",
        "import numpy as np\n",
        "import matplotlib.pyplot as plt\n",
        "import seaborn as sns"
      ],
      "execution_count": 0,
      "outputs": []
    },
    {
      "cell_type": "code",
      "metadata": {
        "id": "k_JDOHJsYee6",
        "colab_type": "code",
        "colab": {}
      },
      "source": [
        "from google.colab import drive\n",
        "drive.mount('/content/drive')"
      ],
      "execution_count": 0,
      "outputs": []
    },
    {
      "cell_type": "code",
      "metadata": {
        "id": "Sadbx-fbY5EQ",
        "colab_type": "code",
        "colab": {}
      },
      "source": [
        "data = pd.read_excel('/content/drive/My Drive/Liquiloans/Master Collection Report (1).xlsx')"
      ],
      "execution_count": 0,
      "outputs": []
    },
    {
      "cell_type": "code",
      "metadata": {
        "id": "oYP8dwrWZWIQ",
        "colab_type": "code",
        "colab": {}
      },
      "source": [
        "data.shape"
      ],
      "execution_count": 0,
      "outputs": []
    },
    {
      "cell_type": "code",
      "metadata": {
        "id": "FUkfauVEZo_S",
        "colab_type": "code",
        "colab": {}
      },
      "source": [
        "pd.set_option('display.max_columns',500)"
      ],
      "execution_count": 0,
      "outputs": []
    },
    {
      "cell_type": "code",
      "metadata": {
        "id": "5yji4_FCZg8t",
        "colab_type": "code",
        "colab": {}
      },
      "source": [
        "data.head(1)"
      ],
      "execution_count": 0,
      "outputs": []
    },
    {
      "cell_type": "code",
      "metadata": {
        "id": "6m4JeLO8Zl9f",
        "colab_type": "code",
        "colab": {}
      },
      "source": [
        "print(data.info())"
      ],
      "execution_count": 0,
      "outputs": []
    },
    {
      "cell_type": "code",
      "metadata": {
        "id": "-2xBRtDhaBma",
        "colab_type": "code",
        "colab": {}
      },
      "source": [
        "data['Last Payment Date(s)']"
      ],
      "execution_count": 0,
      "outputs": []
    },
    {
      "cell_type": "code",
      "metadata": {
        "id": "fhBywNQpcZjY",
        "colab_type": "code",
        "colab": {}
      },
      "source": [
        "(data.isnull().sum()[data.isnull().sum()!=0]/len(data))*100"
      ],
      "execution_count": 0,
      "outputs": []
    },
    {
      "cell_type": "code",
      "metadata": {
        "id": "nhP5EsR_i_4x",
        "colab_type": "code",
        "colab": {}
      },
      "source": [
        "col1 = data['Last Payment Date(s)']\n",
        "col2 = []\n",
        "for i in range(len(col1)):\n",
        "  if type(col1[i]) == str:\n",
        "    col2.append(sorted(col1[i].split(',')))\n",
        "  else:\n",
        "    col2.append(0)"
      ],
      "execution_count": 0,
      "outputs": []
    },
    {
      "cell_type": "code",
      "metadata": {
        "id": "koYFUs_equEY",
        "colab_type": "code",
        "colab": {}
      },
      "source": [
        "col2"
      ],
      "execution_count": 0,
      "outputs": []
    },
    {
      "cell_type": "code",
      "metadata": {
        "id": "nc_lVtJzpgrG",
        "colab_type": "code",
        "colab": {}
      },
      "source": [
        "count1 = 0\n",
        "count2 = 0\n",
        "count3 = 0\n",
        "count4 = 0\n",
        "count5 = 0\n",
        "for i in range(len(col2)):\n",
        "  if col2[i] != 0:\n",
        "    a = col2[i]\n",
        "    for j in range(len(a)-1):\n",
        "      delta = pd.to_datetime(a[j+1])-pd.to_datetime(a[j])\n",
        "      x = delta.days\n",
        "      if (x>0) and (x<=30):\n",
        "        count1 = count1 +1\n",
        "      elif (x>30) and (x<=60):\n",
        "        count2 = count2+1\n",
        "      elif (x>60) and (x<=90):\n",
        "        count3 = count3 +1\n",
        "      elif x>90:\n",
        "        count4 = count4 +1\n",
        "      else:\n",
        "        count5 = count5+1"
      ],
      "execution_count": 0,
      "outputs": []
    },
    {
      "cell_type": "code",
      "metadata": {
        "id": "Wi2GDVDdKDrl",
        "colab_type": "code",
        "colab": {}
      },
      "source": [
        "import datetime\n",
        "data['EMI Start Date']= [datetime.datetime.strptime(x, '%d/%m/%Y %H:%M:%S') for x in data['EMI Start Date'] ] "
      ],
      "execution_count": 0,
      "outputs": []
    },
    {
      "cell_type": "code",
      "metadata": {
        "id": "nDPvRkZyKFeb",
        "colab_type": "code",
        "colab": {}
      },
      "source": [
        "import datetime\n",
        "data['Upcoming EMI Date']= pd.to_datetime(data['Upcoming EMI Date'],format = '%d/%m/%Y')"
      ],
      "execution_count": 0,
      "outputs": []
    },
    {
      "cell_type": "code",
      "metadata": {
        "id": "i5kyTnsiU3T4",
        "colab_type": "code",
        "colab": {}
      },
      "source": [
        "import datetime\n",
        "from datetime import timedelta\n",
        "EMI_cat = []\n",
        "index1 = []\n",
        "for i in range(len(col2)):\n",
        "  if col2[i] != 0:\n",
        "    a = col2[i]\n",
        "    for j in range(len(a)):\n",
        "      delta = pd.to_datetime(a[j])-(pd.to_datetime(data['EMI Start Date'][i]) + timedelta(days=(30*j)))\n",
        "      x = delta.days\n",
        "      if ((x>=0) and (x<=5)) or (x<0):\n",
        "        EMI_cat.append('0')\n",
        "      elif (x>5) and (x<=30):\n",
        "        EMI_cat.append('1')\n",
        "      elif (x>30) and (x<=60):\n",
        "        EMI_cat.append('2')\n",
        "      elif (x>60) and (x<=90):\n",
        "        EMI_cat.append('3')\n",
        "      elif x>90:\n",
        "        EMI_cat.append('4')\n",
        "  else:\n",
        "    EMI_cat.append('Not_paid_single_EMI')"
      ],
      "execution_count": 0,
      "outputs": []
    },
    {
      "cell_type": "code",
      "metadata": {
        "id": "LF2hcJWKOPA7",
        "colab_type": "code",
        "colab": {}
      },
      "source": [
        "\n",
        "sns.countplot(EMI_cat)\n",
        "plt.xticks(rotation=45)\n",
        "plt.show()"
      ],
      "execution_count": 0,
      "outputs": []
    },
    {
      "cell_type": "code",
      "metadata": {
        "id": "4lu2eQ0QkRRB",
        "colab_type": "code",
        "colab": {}
      },
      "source": [
        "Loan_ID_Risk = []\n",
        "for i in index1:\n",
        "  Loan_ID_Risk.append(data['Loan Id'][i])\n",
        "  "
      ],
      "execution_count": 0,
      "outputs": []
    },
    {
      "cell_type": "code",
      "metadata": {
        "id": "CLMmu0_SlPS3",
        "colab_type": "code",
        "colab": {}
      },
      "source": [
        "Loan_ID_Risk"
      ],
      "execution_count": 0,
      "outputs": []
    },
    {
      "cell_type": "code",
      "metadata": {
        "id": "lwd-kgOzflCq",
        "colab_type": "code",
        "colab": {}
      },
      "source": [
        "pd.Series(EMI_cat).value_counts()"
      ],
      "execution_count": 0,
      "outputs": []
    },
    {
      "cell_type": "code",
      "metadata": {
        "id": "X_40dyegwPL4",
        "colab_type": "code",
        "colab": {}
      },
      "source": [
        "str1 = '2019-02-08'\n",
        "str2 = '2019-03-08'\n",
        "delta = pd.to_datetime(str2)-pd.to_datetime(str1)\n",
        "print(delta.days)"
      ],
      "execution_count": 0,
      "outputs": []
    },
    {
      "cell_type": "code",
      "metadata": {
        "id": "cYVTNqDo-k9d",
        "colab_type": "code",
        "colab": {}
      },
      "source": [
        "l1 = []\n",
        "l2 = []\n",
        "for i in range(len(data)):\n",
        "  if data['Upcoming EMI Date'][i] != 'nan':\n",
        "    l1.append(i)\n",
        "  else:\n",
        "    l2.append(i)\n"
      ],
      "execution_count": 0,
      "outputs": []
    },
    {
      "cell_type": "code",
      "metadata": {
        "id": "32TKExNvfG5w",
        "colab_type": "code",
        "colab": {}
      },
      "source": [
        "l2"
      ],
      "execution_count": 0,
      "outputs": []
    },
    {
      "cell_type": "code",
      "metadata": {
        "id": "EkIb6oQDy1Hc",
        "colab_type": "code",
        "colab": {}
      },
      "source": [
        "Pay_string = []\n",
        "for i in range(len(data)):\n",
        "  str1 = ''\n",
        "  if col2[i] != 0:\n",
        "    a = col2[i]\n",
        "    for j in range(len(a)):\n",
        "      delta = pd.to_datetime(a[j])-(pd.to_datetime(data['EMI Start Date'][i]) + timedelta(days=(30*j)))\n",
        "      x = delta.days\n",
        "      if ((x>=0) and (x<=5)) or (x<0):\n",
        "        str1 = str1 + str(0)\n",
        "      elif (x>=6) and (x<=30):\n",
        "        str1 = str1 + str(1)\n",
        "      elif (x>=31) and (x<=60):\n",
        "        str1 = str1 + str(2)\n",
        "      elif (x>=61) and (x<=90):\n",
        "        str1 = str1 + str(3)\n",
        "      elif (x>90):\n",
        "        str1 = str1 + str(4)\n",
        "  else:\n",
        "    str1 = str1 + ''\n",
        "  Pay_string.append(str1)\n",
        "\n"
      ],
      "execution_count": 0,
      "outputs": []
    },
    {
      "cell_type": "code",
      "metadata": {
        "id": "lyOpedzCA1I1",
        "colab_type": "code",
        "colab": {}
      },
      "source": [
        "import pandas\n",
        "col3 = data['Upcoming EMI Date']\n",
        "col4 = []\n",
        "for i in range(len(col3)):\n",
        "  if type(col3[i]) == pandas._libs.tslibs.timestamps.Timestamp:\n",
        "    col4.append(1)\n",
        "  else:\n",
        "    col4.append(0)"
      ],
      "execution_count": 0,
      "outputs": []
    },
    {
      "cell_type": "code",
      "metadata": {
        "id": "iYILtj8XGzRF",
        "colab_type": "code",
        "colab": {}
      },
      "source": [
        "type(col3[3])"
      ],
      "execution_count": 0,
      "outputs": []
    },
    {
      "cell_type": "code",
      "metadata": {
        "id": "C81O8Tpx7QRJ",
        "colab_type": "code",
        "colab": {}
      },
      "source": [
        "from datetime import date\n",
        "import math\n",
        "list5 = []\n",
        "for i in range(len(data)):\n",
        "    str1 = ''\n",
        "    delta = (pd.to_datetime(date.today())-pd.to_datetime(data['Upcoming EMI Date'][i]))\n",
        "    x = delta.days\n",
        "    if x<0 and (col4[i] != 0):\n",
        "      str1 = str1 + ''\n",
        "    elif (x>0) and (x> (int(data['No. Of Pending EMIs'][i]*30))) and (col4[i] != 0):\n",
        "      str1 = str1 + (int(data['No. Of Pending EMIs'][i])*'9')\n",
        "    elif (x>0) and (x< (int(data['No. Of Pending EMIs'][i]*30))) and (col4[i] != 0):\n",
        "      str1 = str1 + (int((math.ceil(x/30)))*'9')\n",
        "    list5.append(str1)"
      ],
      "execution_count": 0,
      "outputs": []
    },
    {
      "cell_type": "code",
      "metadata": {
        "colab_type": "code",
        "id": "eIVdvM5aLdkA",
        "colab": {}
      },
      "source": [
        "print(len(list5))\n",
        "print(len(Pay_string))"
      ],
      "execution_count": 0,
      "outputs": []
    },
    {
      "cell_type": "markdown",
      "metadata": {
        "colab_type": "text",
        "id": "SPY87HMVN3nK"
      },
      "source": [
        ""
      ]
    },
    {
      "cell_type": "code",
      "metadata": {
        "id": "Hsfc7tcZHvX0",
        "colab_type": "code",
        "colab": {}
      },
      "source": [
        "NEW_Pay_String = []\n",
        "for i in range(len(data)):\n",
        "  NEW_Pay_String.append(Pay_string[i] + list5[i])"
      ],
      "execution_count": 0,
      "outputs": []
    },
    {
      "cell_type": "code",
      "metadata": {
        "id": "-InRKQKHITO9",
        "colab_type": "code",
        "colab": {}
      },
      "source": [
        "NEW_Pay_String"
      ],
      "execution_count": 0,
      "outputs": []
    },
    {
      "cell_type": "code",
      "metadata": {
        "id": "X8K_YK3uVoIs",
        "colab_type": "code",
        "colab": {}
      },
      "source": [
        "dict4 = {'Loan_Id':data['Loan Id'],'New_pay_string':NEW_Pay_String}\n",
        "df5 = pd.DataFrame(dict4)\n",
        "df5.head(40)"
      ],
      "execution_count": 0,
      "outputs": []
    },
    {
      "cell_type": "code",
      "metadata": {
        "id": "MxJI_9jRCEh8",
        "colab_type": "code",
        "colab": {}
      },
      "source": [
        "'01' + (int(data['No. Of Pending EMIs'][3])*'9')"
      ],
      "execution_count": 0,
      "outputs": []
    },
    {
      "cell_type": "code",
      "metadata": {
        "id": "t4gBUlegEZxz",
        "colab_type": "code",
        "colab": {}
      },
      "source": [
        "270> (int(data['No. Of Pending EMIs'][3]*30))"
      ],
      "execution_count": 0,
      "outputs": []
    },
    {
      "cell_type": "code",
      "metadata": {
        "id": "9Elvi5WuE9ZG",
        "colab_type": "code",
        "colab": {}
      },
      "source": [
        "col4[3]!=0"
      ],
      "execution_count": 0,
      "outputs": []
    },
    {
      "cell_type": "code",
      "metadata": {
        "id": "x_8q60XsCfc6",
        "colab_type": "code",
        "colab": {}
      },
      "source": [
        "import math\n",
        "delta = pd.to_datetime('2019-11-27')-pd.to_datetime('2018-12-25')\n",
        "x = delta.days\n",
        "print(x)\n",
        "print(x/30)\n",
        "print(math.ceil(x/30))\n"
      ],
      "execution_count": 0,
      "outputs": []
    },
    {
      "cell_type": "code",
      "metadata": {
        "id": "05tUBdgq5iRN",
        "colab_type": "code",
        "colab": {}
      },
      "source": [
        "print(pd.to_datetime(date.today()))\n",
        "print(pd.to_datetime('2019-11-27'))\n",
        "delta = pd.to_datetime(date.today())-pd.to_datetime(data['Upcoming EMI Date'][3])\n",
        "x = delta.days\n",
        "x"
      ],
      "execution_count": 0,
      "outputs": []
    },
    {
      "cell_type": "code",
      "metadata": {
        "id": "HtYKK3X-2ACx",
        "colab_type": "code",
        "colab": {}
      },
      "source": [
        "#from datetime import date\n",
        "#for i in range(len(data)):\n",
        "  #delta = (pd.to_datetime(date.today())-pd.to_datetime(data['Upcoming EMI Date'][3]))\n",
        "  #x = delta.days\n",
        "  #if delta<0:\n",
        "    #str1 = str1 + ''\n",
        "  #elif (delta>0) and (delta> (data['No. Of Pending EMIs'][i]*30)):\n",
        "    #str1 = str1 + (data['No. Of Pending EMIs'][i]*'9')\n",
        "  #elif (delta>0) and (delta< (data['No. Of Pending EMIs'][i]*30)):\n",
        "    #str1 = str1 + ((math.ceil(delta/30))*'9')"
      ],
      "execution_count": 0,
      "outputs": []
    },
    {
      "cell_type": "code",
      "metadata": {
        "id": "M6XSyrgY34Sz",
        "colab_type": "code",
        "colab": {}
      },
      "source": [
        "str1 = 'SUP'\n",
        "str1*3"
      ],
      "execution_count": 0,
      "outputs": []
    },
    {
      "cell_type": "code",
      "metadata": {
        "id": "SDkfKnXDpTEU",
        "colab_type": "code",
        "colab": {}
      },
      "source": [
        "month1 = []\n",
        "month2 = []\n",
        "month3 = []\n",
        "month4 = []\n",
        "month5 = []\n",
        "month6 = []\n",
        "month7 = []\n",
        "month8 = []\n",
        "month9 = []\n",
        "month10 = []\n",
        "month11 = []\n",
        "month12 = []\n",
        "for i in NEW_Pay_String:\n",
        "  list1 = list(i)\n",
        "  for j in range(len(list1)):\n",
        "    if j==0:\n",
        "      month1.append(list1[j])\n",
        "    elif j==1:\n",
        "      month2.append(list1[j])\n",
        "    elif j==2:\n",
        "      month3.append(list1[j])\n",
        "    elif j==3:\n",
        "      month4.append(list1[j])\n",
        "    elif j==4:\n",
        "      month5.append(list1[j])\n",
        "    elif j==5:\n",
        "      month6.append(list1[j])\n",
        "    elif j==6:\n",
        "      month7.append(list1[j])\n",
        "    elif j==7:\n",
        "      month8.append(list1[j])\n",
        "    elif j==8:\n",
        "      month9.append(list1[j])\n",
        "    elif j==9:\n",
        "      month10.append(list1[j])\n",
        "    elif j==10:\n",
        "      month11.append(list1[j])\n",
        "    elif j==11:\n",
        "      month12.append(list1[j])"
      ],
      "execution_count": 0,
      "outputs": []
    },
    {
      "cell_type": "code",
      "metadata": {
        "id": "Yv2jrfV-zUd0",
        "colab_type": "code",
        "colab": {}
      },
      "source": [
        "plt.figure(0)\n",
        "plt.figure(figsize=(18,15))\n",
        "\n",
        "\n",
        "plt.subplot(431)\n",
        "sns.countplot(month1)\n",
        "plt.xlabel('Month1')\n",
        "\n",
        "plt.subplot(432)\n",
        "sns.countplot(month2)\n",
        "plt.xlabel('Month2')\n",
        "\n",
        "plt.subplot(433)\n",
        "sns.countplot(month3)\n",
        "plt.xlabel('Month3')\n",
        "\n",
        "plt.subplot(434)\n",
        "sns.countplot(month4)\n",
        "plt.xlabel('Month4')\n",
        "\n",
        "plt.subplot(435)\n",
        "sns.countplot(month5)\n",
        "plt.xlabel('Month5')\n",
        "\n",
        "plt.subplot(436)\n",
        "sns.countplot(month6)\n",
        "plt.xlabel('Month6')\n",
        "\n",
        "plt.subplot(437)\n",
        "sns.countplot(month7)\n",
        "plt.xlabel('Month7')\n",
        "\n",
        "plt.subplot(438)\n",
        "sns.countplot(month8)\n",
        "plt.xlabel('Month8')\n",
        "\n",
        "plt.subplot(439)\n",
        "sns.countplot(month9)\n",
        "plt.xlabel('Month9')\n",
        "\n",
        "plt.subplot(4,3,10)\n",
        "sns.countplot(month10)\n",
        "plt.xlabel('Month10')\n",
        "\n",
        "plt.subplot(4,3,11)\n",
        "sns.countplot(month11)\n",
        "plt.xlabel('Month11')\n",
        "\n",
        "plt.subplot(4,3,12)\n",
        "sns.countplot(month12)\n",
        "plt.xlabel('Month12')\n",
        "\n",
        "plt.show()\n",
        "\n"
      ],
      "execution_count": 0,
      "outputs": []
    },
    {
      "cell_type": "code",
      "metadata": {
        "id": "KQ3MsWlwxqN6",
        "colab_type": "code",
        "colab": {}
      },
      "source": [
        "df5.loc[14000:14030]"
      ],
      "execution_count": 0,
      "outputs": []
    },
    {
      "cell_type": "code",
      "metadata": {
        "id": "guFBX0gbw1Cy",
        "colab_type": "code",
        "colab": {}
      },
      "source": [
        "delta = pd.to_datetime('2019-08-14')-(pd.to_datetime('2019-01-10') + timedelta(days=(30*7)))\n",
        "x = delta\n",
        "x"
      ],
      "execution_count": 0,
      "outputs": []
    },
    {
      "cell_type": "code",
      "metadata": {
        "id": "TmNEhgk31FEH",
        "colab_type": "code",
        "colab": {}
      },
      "source": [
        ""
      ],
      "execution_count": 0,
      "outputs": []
    }
  ]
}