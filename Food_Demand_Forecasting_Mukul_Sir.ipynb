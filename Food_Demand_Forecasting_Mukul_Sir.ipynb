{
  "nbformat": 4,
  "nbformat_minor": 0,
  "metadata": {
    "colab": {
      "name": "Food_Demand_Forecasting_Mukul_Sir.ipynb",
      "version": "0.3.2",
      "provenance": [],
      "collapsed_sections": [],
      "machine_shape": "hm",
      "include_colab_link": true
    },
    "kernelspec": {
      "name": "python3",
      "display_name": "Python 3"
    }
  },
  "cells": [
    {
      "cell_type": "markdown",
      "metadata": {
        "id": "view-in-github",
        "colab_type": "text"
      },
      "source": [
        "<a href=\"https://colab.research.google.com/github/paragnayak/Data-Science/blob/master/Food_Demand_Forecasting_Mukul_Sir.ipynb\" target=\"_parent\"><img src=\"https://colab.research.google.com/assets/colab-badge.svg\" alt=\"Open In Colab\"/></a>"
      ]
    },
    {
      "cell_type": "code",
      "metadata": {
        "id": "qVSPow9Ws5Je",
        "colab_type": "code",
        "outputId": "0fbc48e5-d1c8-43c6-b573-1f26638f8c36",
        "colab": {
          "base_uri": "https://localhost:8080/",
          "height": 34
        }
      },
      "source": [
        "from google.colab import drive\n",
        "drive.mount('/content/drive')"
      ],
      "execution_count": 3,
      "outputs": [
        {
          "output_type": "stream",
          "text": [
            "Drive already mounted at /content/drive; to attempt to forcibly remount, call drive.mount(\"/content/drive\", force_remount=True).\n"
          ],
          "name": "stdout"
        }
      ]
    },
    {
      "cell_type": "code",
      "metadata": {
        "id": "A9tfr-Mjjrpn",
        "colab_type": "code",
        "colab": {}
      },
      "source": [
        "import pandas as pd \n",
        "import numpy as np\n",
        "import matplotlib.pyplot as plt\n",
        "from sklearn.preprocessing import LabelEncoder\n",
        "from sklearn.model_selection import train_test_split\n",
        "from sklearn.linear_model import LinearRegression\n",
        "from sklearn.metrics import mean_squared_error\n",
        "import seaborn as sns\n",
        "%matplotlib inline\n",
        "import warnings\n",
        "warnings.filterwarnings(\"ignore\")"
      ],
      "execution_count": 0,
      "outputs": []
    },
    {
      "cell_type": "markdown",
      "metadata": {
        "id": "EP9Cpm_NlMVe",
        "colab_type": "text"
      },
      "source": [
        "# Problem Statement\n",
        "\n",
        "Help a food delivery business in forecasting the food demand for the upcoming weeks so that we can plan the stock of raw materials. A perfect challenge to test your time series knowledge.\n",
        "\n",
        "About Food Demand Forecasting Challenge\n",
        "Demand forecasting is a key component to every growing online business. Without proper demand forecasting processes in place, it can be nearly impossible to have the right amount of stock on hand at any given time. A food delivery service has to deal with a lot of perishable raw materials which makes it all the more important for such a company to accurately forecast daily and weekly demand.\n",
        " \n",
        "Too much inventory in the warehouse means more risk of wastage, and not enough could lead to out-of-stocks — and push customers to seek solutions from your competitors. In this challenge, get a taste of demand forecasting challenge using a real dataset.\n",
        "\n",
        "Problem Statement\n",
        "\n",
        "Your client is a meal delivery company which operates in multiple cities. They have various fulfillment centers in these cities for dispatching meal orders to their customers. The client wants you to help these centers with demand forecasting for upcoming weeks so that these centers will plan the stock of raw materials accordingly.\n",
        "\n",
        "The replenishment of majority of raw materials is done on weekly basis and since the raw material is perishable, the procurement planning is of utmost importance. Secondly, staffing of the centers is also one area wherein accurate demand forecasts are really helpful. Given the following information, the task is to predict the demand for the next 10 weeks (Weeks: 146-155) for the center-meal combinations in the test set:  \n",
        "\n",
        "Historical data of demand for a product-center combination (Weeks: 1 to 145)\n",
        "Product(Meal) features such as category, sub-category, current price and discount\n",
        "Information for fulfillment center like center area, city information etc."
      ]
    },
    {
      "cell_type": "markdown",
      "metadata": {
        "id": "lfV3bDYco2pO",
        "colab_type": "text"
      },
      "source": [
        "# Hypothesis of Food Demand Forecasting\n",
        "\n",
        "1) Number of Orders\n",
        "\n",
        "2) Location\n",
        "\n",
        "3) Price\n",
        "\n",
        "4) Type Of Food\n",
        "\n",
        "5) Discount/Offers\n",
        "\n",
        "6) Time of the Day\n",
        "\n",
        "7) Delivery Time\n",
        "\n",
        "8) Day\n",
        "\n",
        "9) Weather\n",
        "\n",
        "10) Number of Delivery Folks\n",
        "\n",
        "11) Quality of Food\n",
        "\n",
        "12) Raw Materials\n",
        "\n",
        "13) Previous Record\n",
        "\n",
        "14) Reviews\n",
        "\n",
        "15) Storage Area\n",
        "\n",
        "16) Outlets/Warehouse"
      ]
    },
    {
      "cell_type": "code",
      "metadata": {
        "id": "5sfWTclNjy4k",
        "colab_type": "code",
        "colab": {}
      },
      "source": [
        "train=pd.read_csv('/content/drive/My Drive/Colab Notebooks/Unsupervised Learning Classification/Food Demand Forecasting/train.csv')"
      ],
      "execution_count": 0,
      "outputs": []
    },
    {
      "cell_type": "code",
      "metadata": {
        "id": "xi3IKCUMlEdp",
        "colab_type": "code",
        "colab": {}
      },
      "source": [
        "test=pd.read_csv('/content/drive/My Drive/Colab Notebooks/Unsupervised Learning Classification/Food Demand Forecasting/test_QoiMO9B.csv')"
      ],
      "execution_count": 0,
      "outputs": []
    },
    {
      "cell_type": "code",
      "metadata": {
        "id": "16OAzvCSlLPL",
        "colab_type": "code",
        "colab": {}
      },
      "source": [
        "centre=pd.read_csv('/content/drive/My Drive/Colab Notebooks/Unsupervised Learning Classification/Food Demand Forecasting/fulfilment_center_info.csv')"
      ],
      "execution_count": 0,
      "outputs": []
    },
    {
      "cell_type": "code",
      "metadata": {
        "id": "9F46aFtKsppK",
        "colab_type": "code",
        "colab": {}
      },
      "source": [
        "meal=pd.read_csv('/content/drive/My Drive/Colab Notebooks/Unsupervised Learning Classification/Food Demand Forecasting/meal_info.csv')\n"
      ],
      "execution_count": 0,
      "outputs": []
    },
    {
      "cell_type": "code",
      "metadata": {
        "id": "EXXIJGnMs1uI",
        "colab_type": "code",
        "outputId": "5ad0639d-28bb-4447-83a9-d913dc5d8690",
        "colab": {
          "base_uri": "https://localhost:8080/",
          "height": 204
        }
      },
      "source": [
        "train.head()"
      ],
      "execution_count": 9,
      "outputs": [
        {
          "output_type": "execute_result",
          "data": {
            "text/html": [
              "<div>\n",
              "<style scoped>\n",
              "    .dataframe tbody tr th:only-of-type {\n",
              "        vertical-align: middle;\n",
              "    }\n",
              "\n",
              "    .dataframe tbody tr th {\n",
              "        vertical-align: top;\n",
              "    }\n",
              "\n",
              "    .dataframe thead th {\n",
              "        text-align: right;\n",
              "    }\n",
              "</style>\n",
              "<table border=\"1\" class=\"dataframe\">\n",
              "  <thead>\n",
              "    <tr style=\"text-align: right;\">\n",
              "      <th></th>\n",
              "      <th>id</th>\n",
              "      <th>week</th>\n",
              "      <th>center_id</th>\n",
              "      <th>meal_id</th>\n",
              "      <th>checkout_price</th>\n",
              "      <th>base_price</th>\n",
              "      <th>emailer_for_promotion</th>\n",
              "      <th>homepage_featured</th>\n",
              "      <th>num_orders</th>\n",
              "    </tr>\n",
              "  </thead>\n",
              "  <tbody>\n",
              "    <tr>\n",
              "      <th>0</th>\n",
              "      <td>1379560</td>\n",
              "      <td>1</td>\n",
              "      <td>55</td>\n",
              "      <td>1885</td>\n",
              "      <td>136.83</td>\n",
              "      <td>152.29</td>\n",
              "      <td>0</td>\n",
              "      <td>0</td>\n",
              "      <td>177</td>\n",
              "    </tr>\n",
              "    <tr>\n",
              "      <th>1</th>\n",
              "      <td>1466964</td>\n",
              "      <td>1</td>\n",
              "      <td>55</td>\n",
              "      <td>1993</td>\n",
              "      <td>136.83</td>\n",
              "      <td>135.83</td>\n",
              "      <td>0</td>\n",
              "      <td>0</td>\n",
              "      <td>270</td>\n",
              "    </tr>\n",
              "    <tr>\n",
              "      <th>2</th>\n",
              "      <td>1346989</td>\n",
              "      <td>1</td>\n",
              "      <td>55</td>\n",
              "      <td>2539</td>\n",
              "      <td>134.86</td>\n",
              "      <td>135.86</td>\n",
              "      <td>0</td>\n",
              "      <td>0</td>\n",
              "      <td>189</td>\n",
              "    </tr>\n",
              "    <tr>\n",
              "      <th>3</th>\n",
              "      <td>1338232</td>\n",
              "      <td>1</td>\n",
              "      <td>55</td>\n",
              "      <td>2139</td>\n",
              "      <td>339.50</td>\n",
              "      <td>437.53</td>\n",
              "      <td>0</td>\n",
              "      <td>0</td>\n",
              "      <td>54</td>\n",
              "    </tr>\n",
              "    <tr>\n",
              "      <th>4</th>\n",
              "      <td>1448490</td>\n",
              "      <td>1</td>\n",
              "      <td>55</td>\n",
              "      <td>2631</td>\n",
              "      <td>243.50</td>\n",
              "      <td>242.50</td>\n",
              "      <td>0</td>\n",
              "      <td>0</td>\n",
              "      <td>40</td>\n",
              "    </tr>\n",
              "  </tbody>\n",
              "</table>\n",
              "</div>"
            ],
            "text/plain": [
              "        id  week  ...  homepage_featured  num_orders\n",
              "0  1379560     1  ...                  0         177\n",
              "1  1466964     1  ...                  0         270\n",
              "2  1346989     1  ...                  0         189\n",
              "3  1338232     1  ...                  0          54\n",
              "4  1448490     1  ...                  0          40\n",
              "\n",
              "[5 rows x 9 columns]"
            ]
          },
          "metadata": {
            "tags": []
          },
          "execution_count": 9
        }
      ]
    },
    {
      "cell_type": "code",
      "metadata": {
        "id": "IaA8RCv-vMBF",
        "colab_type": "code",
        "outputId": "4284a73f-4081-4e0b-aff6-d8bae36e6902",
        "colab": {
          "base_uri": "https://localhost:8080/",
          "height": 204
        }
      },
      "source": [
        "test.head()"
      ],
      "execution_count": 10,
      "outputs": [
        {
          "output_type": "execute_result",
          "data": {
            "text/html": [
              "<div>\n",
              "<style scoped>\n",
              "    .dataframe tbody tr th:only-of-type {\n",
              "        vertical-align: middle;\n",
              "    }\n",
              "\n",
              "    .dataframe tbody tr th {\n",
              "        vertical-align: top;\n",
              "    }\n",
              "\n",
              "    .dataframe thead th {\n",
              "        text-align: right;\n",
              "    }\n",
              "</style>\n",
              "<table border=\"1\" class=\"dataframe\">\n",
              "  <thead>\n",
              "    <tr style=\"text-align: right;\">\n",
              "      <th></th>\n",
              "      <th>id</th>\n",
              "      <th>week</th>\n",
              "      <th>center_id</th>\n",
              "      <th>meal_id</th>\n",
              "      <th>checkout_price</th>\n",
              "      <th>base_price</th>\n",
              "      <th>emailer_for_promotion</th>\n",
              "      <th>homepage_featured</th>\n",
              "    </tr>\n",
              "  </thead>\n",
              "  <tbody>\n",
              "    <tr>\n",
              "      <th>0</th>\n",
              "      <td>1028232</td>\n",
              "      <td>146</td>\n",
              "      <td>55</td>\n",
              "      <td>1885</td>\n",
              "      <td>158.11</td>\n",
              "      <td>159.11</td>\n",
              "      <td>0</td>\n",
              "      <td>0</td>\n",
              "    </tr>\n",
              "    <tr>\n",
              "      <th>1</th>\n",
              "      <td>1127204</td>\n",
              "      <td>146</td>\n",
              "      <td>55</td>\n",
              "      <td>1993</td>\n",
              "      <td>160.11</td>\n",
              "      <td>159.11</td>\n",
              "      <td>0</td>\n",
              "      <td>0</td>\n",
              "    </tr>\n",
              "    <tr>\n",
              "      <th>2</th>\n",
              "      <td>1212707</td>\n",
              "      <td>146</td>\n",
              "      <td>55</td>\n",
              "      <td>2539</td>\n",
              "      <td>157.14</td>\n",
              "      <td>159.14</td>\n",
              "      <td>0</td>\n",
              "      <td>0</td>\n",
              "    </tr>\n",
              "    <tr>\n",
              "      <th>3</th>\n",
              "      <td>1082698</td>\n",
              "      <td>146</td>\n",
              "      <td>55</td>\n",
              "      <td>2631</td>\n",
              "      <td>162.02</td>\n",
              "      <td>162.02</td>\n",
              "      <td>0</td>\n",
              "      <td>0</td>\n",
              "    </tr>\n",
              "    <tr>\n",
              "      <th>4</th>\n",
              "      <td>1400926</td>\n",
              "      <td>146</td>\n",
              "      <td>55</td>\n",
              "      <td>1248</td>\n",
              "      <td>163.93</td>\n",
              "      <td>163.93</td>\n",
              "      <td>0</td>\n",
              "      <td>0</td>\n",
              "    </tr>\n",
              "  </tbody>\n",
              "</table>\n",
              "</div>"
            ],
            "text/plain": [
              "        id  week  ...  emailer_for_promotion  homepage_featured\n",
              "0  1028232   146  ...                      0                  0\n",
              "1  1127204   146  ...                      0                  0\n",
              "2  1212707   146  ...                      0                  0\n",
              "3  1082698   146  ...                      0                  0\n",
              "4  1400926   146  ...                      0                  0\n",
              "\n",
              "[5 rows x 8 columns]"
            ]
          },
          "metadata": {
            "tags": []
          },
          "execution_count": 10
        }
      ]
    },
    {
      "cell_type": "code",
      "metadata": {
        "id": "17hqfAMPs3rh",
        "colab_type": "code",
        "colab": {}
      },
      "source": [
        "# Merge all the dataframes into train datast\n",
        "\n",
        "train=pd.merge(train,meal,on='meal_id')"
      ],
      "execution_count": 0,
      "outputs": []
    },
    {
      "cell_type": "code",
      "metadata": {
        "id": "5FPJauRvtj8P",
        "colab_type": "code",
        "colab": {}
      },
      "source": [
        "train=pd.merge(train,centre,on='center_id')"
      ],
      "execution_count": 0,
      "outputs": []
    },
    {
      "cell_type": "code",
      "metadata": {
        "id": "6qgeGxVetr8W",
        "colab_type": "code",
        "outputId": "17d1df61-2a4a-4486-c64b-fc64d2a3d347",
        "colab": {
          "base_uri": "https://localhost:8080/",
          "height": 85
        }
      },
      "source": [
        "train.columns  # nUmber of orders is the target"
      ],
      "execution_count": 13,
      "outputs": [
        {
          "output_type": "execute_result",
          "data": {
            "text/plain": [
              "Index(['id', 'week', 'center_id', 'meal_id', 'checkout_price', 'base_price',\n",
              "       'emailer_for_promotion', 'homepage_featured', 'num_orders', 'category',\n",
              "       'cuisine', 'city_code', 'region_code', 'center_type', 'op_area'],\n",
              "      dtype='object')"
            ]
          },
          "metadata": {
            "tags": []
          },
          "execution_count": 13
        }
      ]
    },
    {
      "cell_type": "code",
      "metadata": {
        "id": "R_oZe5k9v0sM",
        "colab_type": "code",
        "colab": {}
      },
      "source": [
        "\n",
        "test=pd.merge(test,meal,on='meal_id')"
      ],
      "execution_count": 0,
      "outputs": []
    },
    {
      "cell_type": "code",
      "metadata": {
        "id": "s8vaUTTev57R",
        "colab_type": "code",
        "colab": {}
      },
      "source": [
        "test=pd.merge(test,centre,on='center_id')"
      ],
      "execution_count": 0,
      "outputs": []
    },
    {
      "cell_type": "code",
      "metadata": {
        "id": "ASARGwzCv-oB",
        "colab_type": "code",
        "outputId": "2295aeda-eab2-4c85-e584-cc1b20ba541c",
        "colab": {
          "base_uri": "https://localhost:8080/",
          "height": 34
        }
      },
      "source": [
        "train.shape\n"
      ],
      "execution_count": 16,
      "outputs": [
        {
          "output_type": "execute_result",
          "data": {
            "text/plain": [
              "(456548, 15)"
            ]
          },
          "metadata": {
            "tags": []
          },
          "execution_count": 16
        }
      ]
    },
    {
      "cell_type": "code",
      "metadata": {
        "id": "Kxat0xbbwC4J",
        "colab_type": "code",
        "outputId": "39a5ef03-ffd5-486a-cebc-6004e1833042",
        "colab": {
          "base_uri": "https://localhost:8080/",
          "height": 34
        }
      },
      "source": [
        "test.shape"
      ],
      "execution_count": 17,
      "outputs": [
        {
          "output_type": "execute_result",
          "data": {
            "text/plain": [
              "(32573, 14)"
            ]
          },
          "metadata": {
            "tags": []
          },
          "execution_count": 17
        }
      ]
    },
    {
      "cell_type": "markdown",
      "metadata": {
        "id": "fYKKk64IwHsC",
        "colab_type": "text"
      },
      "source": [
        "# Univariate Analysis"
      ]
    },
    {
      "cell_type": "code",
      "metadata": {
        "id": "35nYKB0ztvNM",
        "colab_type": "code",
        "outputId": "923ce81c-551b-445b-e651-bfddc45d8b04",
        "colab": {
          "base_uri": "https://localhost:8080/",
          "height": 301
        }
      },
      "source": [
        "# Number of orders\n",
        "\n",
        "sns.distplot(train.num_orders)"
      ],
      "execution_count": 18,
      "outputs": [
        {
          "output_type": "execute_result",
          "data": {
            "text/plain": [
              "<matplotlib.axes._subplots.AxesSubplot at 0x7fc58d88ff98>"
            ]
          },
          "metadata": {
            "tags": []
          },
          "execution_count": 18
        },
        {
          "output_type": "display_data",
          "data": {
            "image/png": "[encoded data removed]",
            "text/plain": [
              "<Figure size 432x288 with 1 Axes>"
            ]
          },
          "metadata": {
            "tags": []
          }
        }
      ]
    },
    {
      "cell_type": "markdown",
      "metadata": {
        "id": "9UsRz3Riwom0",
        "colab_type": "text"
      },
      "source": [
        "# Observations:Num_Orders\n",
        "\n",
        "The number of orders varibale is highly skewed in nature. This means that the company gets orders of the small magnitude. ranging from minimum 13 to 24299 pieces with a mean order size of261 units and median of 136 units.\n"
      ]
    },
    {
      "cell_type": "code",
      "metadata": {
        "id": "196q_SU8uGs4",
        "colab_type": "code",
        "outputId": "07abed74-0733-43f1-ca0d-0d9bef90f919",
        "colab": {
          "base_uri": "https://localhost:8080/",
          "height": 170
        }
      },
      "source": [
        "train.num_orders.describe()"
      ],
      "execution_count": 19,
      "outputs": [
        {
          "output_type": "execute_result",
          "data": {
            "text/plain": [
              "count    456548.000000\n",
              "mean        261.872760\n",
              "std         395.922798\n",
              "min          13.000000\n",
              "25%          54.000000\n",
              "50%         136.000000\n",
              "75%         324.000000\n",
              "max       24299.000000\n",
              "Name: num_orders, dtype: float64"
            ]
          },
          "metadata": {
            "tags": []
          },
          "execution_count": 19
        }
      ]
    },
    {
      "cell_type": "code",
      "metadata": {
        "id": "7R40izk2xYCo",
        "colab_type": "code",
        "outputId": "463afa9c-922a-4c21-af55-6ca2b8c94dbf",
        "colab": {
          "base_uri": "https://localhost:8080/",
          "height": 330
        }
      },
      "source": [
        "# Base Price and Checkout Price\n",
        "plt.figure(1)\n",
        "plt.figure(figsize=[13,10])\n",
        "\n",
        "plt.subplot(221)\n",
        "sns.distplot(train.base_price)\n",
        "\n",
        "\n",
        "plt.subplot(222)\n",
        "sns.distplot(train.checkout_price,color='green')\n",
        "plt.show()"
      ],
      "execution_count": 20,
      "outputs": [
        {
          "output_type": "display_data",
          "data": {
            "text/plain": [
              "<Figure size 432x288 with 0 Axes>"
            ]
          },
          "metadata": {
            "tags": []
          }
        },
        {
          "output_type": "display_data",
          "data": {
            "image/png": "[encoded data removed]",
            "text/plain": [
              "<Figure size 936x720 with 2 Axes>"
            ]
          },
          "metadata": {
            "tags": []
          }
        }
      ]
    },
    {
      "cell_type": "code",
      "metadata": {
        "id": "eZMPyO-LxgUz",
        "colab_type": "code",
        "outputId": "94940587-76e3-429b-ffa4-2259e3136133",
        "colab": {
          "base_uri": "https://localhost:8080/",
          "height": 342
        }
      },
      "source": [
        "plt.figure(1)\n",
        "plt.figure(figsize=[13,10])\n",
        "\n",
        "plt.subplot(221)\n",
        "plt.scatter(train.base_price,train.num_orders,color='magenta')\n",
        "plt.xlabel('Base Price')\n",
        "plt.ylabel('Number of Orders')\n",
        "plt.title('Scatter Plot: Base Price Vs Number Of Orders')\n",
        "\n",
        "plt.subplot(222)\n",
        "plt.scatter(train.base_price,train.checkout_price,color='hotpink')\n",
        "plt.xlabel('Base Price')\n",
        "plt.ylabel('Checkout Price')\n",
        "plt.title('Scatter Plot: Checkout PRice')\n",
        "plt.show()"
      ],
      "execution_count": 21,
      "outputs": [
        {
          "output_type": "display_data",
          "data": {
            "text/plain": [
              "<Figure size 432x288 with 0 Axes>"
            ]
          },
          "metadata": {
            "tags": []
          }
        },
        {
          "output_type": "display_data",
          "data": {
            "image/png": "[encoded data removed]",
            "text/plain": [
              "<Figure size 936x720 with 2 Axes>"
            ]
          },
          "metadata": {
            "tags": []
          }
        }
      ]
    },
    {
      "cell_type": "code",
      "metadata": {
        "id": "CmWIbnYC0dh1",
        "colab_type": "code",
        "outputId": "ab518a84-4d9c-43b8-970e-a4a87222e5a4",
        "colab": {
          "base_uri": "https://localhost:8080/",
          "height": 286
        }
      },
      "source": [
        "plt.scatter(train.checkout_price,train.num_orders,color='hotpink')"
      ],
      "execution_count": 22,
      "outputs": [
        {
          "output_type": "execute_result",
          "data": {
            "text/plain": [
              "<matplotlib.collections.PathCollection at 0x7fc589c6d390>"
            ]
          },
          "metadata": {
            "tags": []
          },
          "execution_count": 22
        },
        {
          "output_type": "display_data",
          "data": {
            "image/png": "[encoded data removed]",
            "text/plain": [
              "<Figure size 432x288 with 1 Axes>"
            ]
          },
          "metadata": {
            "tags": []
          }
        }
      ]
    },
    {
      "cell_type": "markdown",
      "metadata": {
        "id": "l7M1Yjo4zjUz",
        "colab_type": "text"
      },
      "source": [
        "# Observations:  Base Price Vs Number Of Orders\n",
        "\n",
        "1) The prices have different patterns which are showing up at Rs 100 and then btween 200 and 400. Having said that, there is one data point focussing on the price of Rs 850 and more.\n",
        "\n",
        "# Observations: Base Price Vs Checkout Price\n",
        "\n",
        "1) A linear patter of prices is showing up which means that the base price and checkout price are largely related. It also shows that the base price is greater than the checkout price.\n",
        "\n",
        "2) The co-realtion between the base price and the checkout price is 95%\n",
        "\n",
        "# Observations:  Checkout Price Vs Number Of Orders\n",
        "\n",
        "1) WE can see that there is one order at 0 price and one order of Rs 300 approx with a demand of 24000 items"
      ]
    },
    {
      "cell_type": "code",
      "metadata": {
        "id": "5TvR01RzydYS",
        "colab_type": "code",
        "outputId": "2776a00e-56c5-41e0-a4bf-2fdb95f2d3c1",
        "colab": {
          "base_uri": "https://localhost:8080/",
          "height": 111
        }
      },
      "source": [
        "train[['base_price','checkout_price']].corr() # 0.95"
      ],
      "execution_count": 23,
      "outputs": [
        {
          "output_type": "execute_result",
          "data": {
            "text/html": [
              "<div>\n",
              "<style scoped>\n",
              "    .dataframe tbody tr th:only-of-type {\n",
              "        vertical-align: middle;\n",
              "    }\n",
              "\n",
              "    .dataframe tbody tr th {\n",
              "        vertical-align: top;\n",
              "    }\n",
              "\n",
              "    .dataframe thead th {\n",
              "        text-align: right;\n",
              "    }\n",
              "</style>\n",
              "<table border=\"1\" class=\"dataframe\">\n",
              "  <thead>\n",
              "    <tr style=\"text-align: right;\">\n",
              "      <th></th>\n",
              "      <th>base_price</th>\n",
              "      <th>checkout_price</th>\n",
              "    </tr>\n",
              "  </thead>\n",
              "  <tbody>\n",
              "    <tr>\n",
              "      <th>base_price</th>\n",
              "      <td>1.000000</td>\n",
              "      <td>0.953389</td>\n",
              "    </tr>\n",
              "    <tr>\n",
              "      <th>checkout_price</th>\n",
              "      <td>0.953389</td>\n",
              "      <td>1.000000</td>\n",
              "    </tr>\n",
              "  </tbody>\n",
              "</table>\n",
              "</div>"
            ],
            "text/plain": [
              "                base_price  checkout_price\n",
              "base_price        1.000000        0.953389\n",
              "checkout_price    0.953389        1.000000"
            ]
          },
          "metadata": {
            "tags": []
          },
          "execution_count": 23
        }
      ]
    },
    {
      "cell_type": "code",
      "metadata": {
        "id": "PuASHbf60xtg",
        "colab_type": "code",
        "outputId": "8db2cca5-95ed-4533-e70c-fc804e064c7e",
        "colab": {
          "base_uri": "https://localhost:8080/",
          "height": 373
        }
      },
      "source": [
        "# Category\n",
        "sns.countplot(train.category)\n",
        "plt.xticks(rotation=90)"
      ],
      "execution_count": 24,
      "outputs": [
        {
          "output_type": "execute_result",
          "data": {
            "text/plain": [
              "(array([ 0,  1,  2,  3,  4,  5,  6,  7,  8,  9, 10, 11, 12, 13]),\n",
              " <a list of 14 Text xticklabel objects>)"
            ]
          },
          "metadata": {
            "tags": []
          },
          "execution_count": 24
        },
        {
          "output_type": "display_data",
          "data": {
            "image/png": "[encoded data removed]",
            "text/plain": [
              "<Figure size 432x288 with 1 Axes>"
            ]
          },
          "metadata": {
            "tags": []
          }
        }
      ]
    },
    {
      "cell_type": "code",
      "metadata": {
        "id": "z_Scmdct15Ou",
        "colab_type": "code",
        "outputId": "9670323d-c459-43bd-bf2c-84585652ae2b",
        "colab": {
          "base_uri": "https://localhost:8080/",
          "height": 119
        }
      },
      "source": [
        "train.category.value_counts()[0:5]"
      ],
      "execution_count": 25,
      "outputs": [
        {
          "output_type": "execute_result",
          "data": {
            "text/plain": [
              "Beverages    127890\n",
              "Rice Bowl     33408\n",
              "Sandwich      33291\n",
              "Pizza         33138\n",
              "Starters      29941\n",
              "Name: category, dtype: int64"
            ]
          },
          "metadata": {
            "tags": []
          },
          "execution_count": 25
        }
      ]
    },
    {
      "cell_type": "code",
      "metadata": {
        "id": "DtLTxwRo3027",
        "colab_type": "code",
        "outputId": "c43b9efa-7656-405e-d58d-e5eea176581a",
        "colab": {
          "base_uri": "https://localhost:8080/",
          "height": 119
        }
      },
      "source": [
        "train.category.value_counts()[0:5]"
      ],
      "execution_count": 26,
      "outputs": [
        {
          "output_type": "execute_result",
          "data": {
            "text/plain": [
              "Beverages    127890\n",
              "Rice Bowl     33408\n",
              "Sandwich      33291\n",
              "Pizza         33138\n",
              "Starters      29941\n",
              "Name: category, dtype: int64"
            ]
          },
          "metadata": {
            "tags": []
          },
          "execution_count": 26
        }
      ]
    },
    {
      "cell_type": "markdown",
      "metadata": {
        "id": "zwS33uGO2GNK",
        "colab_type": "text"
      },
      "source": [
        "# Observations: Category\n",
        "\n",
        "The top 5 selling products are :-\n",
        "\n",
        "1) Beverages\n",
        "\n",
        "2) Rice Bowl\n",
        "\n",
        "3) Sandwich\n",
        "\n",
        "4) Pizza\n",
        "\n",
        "5) Starters\n",
        "\n",
        "Actionables:\n",
        "\n",
        "1) Find out the Demand of these 5 products and demand of the others and see the percentage wise. Here we see that our top 5 products contribute 56%of the data\n"
      ]
    },
    {
      "cell_type": "code",
      "metadata": {
        "id": "A_qFemvK2CUe",
        "colab_type": "code",
        "outputId": "855b1974-923e-4f2f-d060-a3d60c42b750",
        "colab": {
          "base_uri": "https://localhost:8080/",
          "height": 119
        }
      },
      "source": [
        "train.category.value_counts(normalize=True)[0:5]"
      ],
      "execution_count": 27,
      "outputs": [
        {
          "output_type": "execute_result",
          "data": {
            "text/plain": [
              "Beverages    0.280124\n",
              "Rice Bowl    0.073175\n",
              "Sandwich     0.072919\n",
              "Pizza        0.072584\n",
              "Starters     0.065581\n",
              "Name: category, dtype: float64"
            ]
          },
          "metadata": {
            "tags": []
          },
          "execution_count": 27
        }
      ]
    },
    {
      "cell_type": "code",
      "metadata": {
        "id": "eKtczFWb2e9x",
        "colab_type": "code",
        "outputId": "0a049e31-de92-433d-c226-7a5417084717",
        "colab": {
          "base_uri": "https://localhost:8080/",
          "height": 34
        }
      },
      "source": [
        "train.category.value_counts(normalize=True)[0:5].sum()*100"
      ],
      "execution_count": 28,
      "outputs": [
        {
          "output_type": "execute_result",
          "data": {
            "text/plain": [
              "56.438315357859416"
            ]
          },
          "metadata": {
            "tags": []
          },
          "execution_count": 28
        }
      ]
    },
    {
      "cell_type": "code",
      "metadata": {
        "id": "UYeRNjKN4CIF",
        "colab_type": "code",
        "outputId": "445f0248-0efe-46d0-ef69-522e5c7f29a3",
        "colab": {
          "base_uri": "https://localhost:8080/",
          "height": 609
        }
      },
      "source": [
        "# Boxplot\n",
        "plt.figure(figsize=[13,10])\n",
        "sns.boxplot(x=train.category, y=train.num_orders)\n",
        "plt.show()"
      ],
      "execution_count": 29,
      "outputs": [
        {
          "output_type": "display_data",
          "data": {
            "image/png": "[encoded data removed]",
            "text/plain": [
              "<Figure size 936x720 with 1 Axes>"
            ]
          },
          "metadata": {
            "tags": []
          }
        }
      ]
    },
    {
      "cell_type": "markdown",
      "metadata": {
        "id": "stZ9po4F49Tb",
        "colab_type": "text"
      },
      "source": [
        "# Observations: Category vs Number of Orders\n",
        "\n",
        "1)  Huge Demand is visible in beverages, rice bowl, sandwiches and salad\n",
        "\n",
        "2) Outlier is identified in Rice Bowl wherein the order size is of 25000"
      ]
    },
    {
      "cell_type": "code",
      "metadata": {
        "id": "l5a9pb654Wzh",
        "colab_type": "code",
        "outputId": "0212982d-644d-47f1-ba6b-2430c238f52e",
        "colab": {
          "base_uri": "https://localhost:8080/",
          "height": 334
        }
      },
      "source": [
        "# Cuisine categorical variable\n",
        "\n",
        "train.cuisine.value_counts().plot(kind='bar', color=['blue', 'orange', 'green', 'red'])"
      ],
      "execution_count": 30,
      "outputs": [
        {
          "output_type": "execute_result",
          "data": {
            "text/plain": [
              "<matplotlib.axes._subplots.AxesSubplot at 0x7fc5877e05c0>"
            ]
          },
          "metadata": {
            "tags": []
          },
          "execution_count": 30
        },
        {
          "output_type": "display_data",
          "data": {
            "image/png": "[encoded data removed]",
            "text/plain": [
              "<Figure size 432x288 with 1 Axes>"
            ]
          },
          "metadata": {
            "tags": []
          }
        }
      ]
    },
    {
      "cell_type": "code",
      "metadata": {
        "id": "z_Si2uYa6lOv",
        "colab_type": "code",
        "outputId": "7dee97be-4a3a-41e4-c296-ad6315db0107",
        "colab": {
          "base_uri": "https://localhost:8080/",
          "height": 102
        }
      },
      "source": [
        "\n",
        "\n",
        "train.cuisine.value_counts(normalize=True)"
      ],
      "execution_count": 31,
      "outputs": [
        {
          "output_type": "execute_result",
          "data": {
            "text/plain": [
              "Italian        0.269249\n",
              "Thai           0.258934\n",
              "Indian         0.246660\n",
              "Continental    0.225157\n",
              "Name: cuisine, dtype: float64"
            ]
          },
          "metadata": {
            "tags": []
          },
          "execution_count": 31
        }
      ]
    },
    {
      "cell_type": "markdown",
      "metadata": {
        "id": "yxnKVuuD6JTP",
        "colab_type": "text"
      },
      "source": [
        "# Observations: Cuisine\n",
        "\n",
        "The most demanded cuisine is the Italian then Thai then Indian and last is Continental\n",
        "\n",
        "The percentages are as 27%,26%,25% adn 23% respectively"
      ]
    },
    {
      "cell_type": "code",
      "metadata": {
        "id": "aajHu_lE5siK",
        "colab_type": "code",
        "outputId": "65059731-c5cc-4d2f-d21f-2622b615b58c",
        "colab": {
          "base_uri": "https://localhost:8080/",
          "height": 282
        }
      },
      "source": [
        "# Email Promotion \n",
        "# Promotion increases orders\n",
        "\n",
        "train.emailer_for_promotion.value_counts().plot(kind='bar', color=['red','green'])"
      ],
      "execution_count": 32,
      "outputs": [
        {
          "output_type": "execute_result",
          "data": {
            "text/plain": [
              "<matplotlib.axes._subplots.AxesSubplot at 0x7fc5877bf080>"
            ]
          },
          "metadata": {
            "tags": []
          },
          "execution_count": 32
        },
        {
          "output_type": "display_data",
          "data": {
            "image/png": "[encoded data removed]",
            "text/plain": [
              "<Figure size 432x288 with 1 Axes>"
            ]
          },
          "metadata": {
            "tags": []
          }
        }
      ]
    },
    {
      "cell_type": "code",
      "metadata": {
        "id": "7AjHUGSW7F_M",
        "colab_type": "code",
        "outputId": "20a4139e-5b8a-495b-e3a0-b2ce63222d2c",
        "colab": {
          "base_uri": "https://localhost:8080/",
          "height": 170
        }
      },
      "source": [
        "train[train.emailer_for_promotion==1]['num_orders'].describe()"
      ],
      "execution_count": 33,
      "outputs": [
        {
          "output_type": "execute_result",
          "data": {
            "text/plain": [
              "count    37050.000000\n",
              "mean       631.097544\n",
              "std        886.153796\n",
              "min         13.000000\n",
              "25%        161.000000\n",
              "50%        338.000000\n",
              "75%        742.000000\n",
              "max      24299.000000\n",
              "Name: num_orders, dtype: float64"
            ]
          },
          "metadata": {
            "tags": []
          },
          "execution_count": 33
        }
      ]
    },
    {
      "cell_type": "code",
      "metadata": {
        "id": "GVEKDFUw7du3",
        "colab_type": "code",
        "outputId": "dfde93d8-244d-46bc-815c-0136c87df8bf",
        "colab": {
          "base_uri": "https://localhost:8080/",
          "height": 312
        }
      },
      "source": [
        "plt.figure(figsize=[13,10])\n",
        "\n",
        "plt.subplot(221)\n",
        "train[train.emailer_for_promotion==0]['num_orders'].plot(kind='box')\n",
        "plt.title(\"No Emails Sent\")\n",
        "\n",
        "plt.subplot(222)\n",
        "train[train.emailer_for_promotion==1]['num_orders'].plot(kind='box')\n",
        "plt.title(\" Emails Sent\")\n",
        "plt.show()"
      ],
      "execution_count": 34,
      "outputs": [
        {
          "output_type": "display_data",
          "data": {
            "image/png": "[encoded data removed]",
            "text/plain": [
              "<Figure size 936x720 with 2 Axes>"
            ]
          },
          "metadata": {
            "tags": []
          }
        }
      ]
    },
    {
      "cell_type": "markdown",
      "metadata": {
        "id": "shkvyw1H8oIp",
        "colab_type": "text"
      },
      "source": [
        "# Observations: Email promotion\n",
        "\n",
        "1) The demand is impacted by the email promotion. when the emailer was not sent, the 25% count was 53 orders and when the emailers were sent the same count jumped up to 163 orders whic clearly states that the email promtion is viatl for the business"
      ]
    },
    {
      "cell_type": "code",
      "metadata": {
        "id": "alzX7NQv8k1W",
        "colab_type": "code",
        "outputId": "a510e24f-1137-4ad8-f663-461044a2a3e1",
        "colab": {
          "base_uri": "https://localhost:8080/",
          "height": 68
        }
      },
      "source": [
        "\n",
        "# homepage_featured\n",
        "train.homepage_featured.value_counts(normalize=True)"
      ],
      "execution_count": 35,
      "outputs": [
        {
          "output_type": "execute_result",
          "data": {
            "text/plain": [
              "0    0.8908\n",
              "1    0.1092\n",
              "Name: homepage_featured, dtype: float64"
            ]
          },
          "metadata": {
            "tags": []
          },
          "execution_count": 35
        }
      ]
    },
    {
      "cell_type": "code",
      "metadata": {
        "id": "ZzaQTTIAJwRq",
        "colab_type": "code",
        "outputId": "c8f1a4fc-5a25-4c61-91ae-c02b25c6bd12",
        "colab": {
          "base_uri": "https://localhost:8080/",
          "height": 312
        }
      },
      "source": [
        "plt.figure(figsize=[13,10])\n",
        "\n",
        "plt.subplot(221)\n",
        "train[train.homepage_featured==0]['num_orders'].plot(kind='box')\n",
        "plt.title(\"No Deals Seen \")\n",
        "\n",
        "plt.subplot(222)\n",
        "train[train.homepage_featured==1]['num_orders'].plot(kind='box')\n",
        "plt.title(\" Deals Seen\")\n",
        "plt.show()"
      ],
      "execution_count": 36,
      "outputs": [
        {
          "output_type": "display_data",
          "data": {
            "image/png": "[encoded data removed]",
            "text/plain": [
              "<Figure size 936x720 with 2 Axes>"
            ]
          },
          "metadata": {
            "tags": []
          }
        }
      ]
    },
    {
      "cell_type": "code",
      "metadata": {
        "id": "flhvM2ReKR2E",
        "colab_type": "code",
        "outputId": "2897e005-a627-4539-9937-ad15c5744738",
        "colab": {
          "base_uri": "https://localhost:8080/",
          "height": 170
        }
      },
      "source": [
        "train[train.homepage_featured==0]['num_orders'].describe()"
      ],
      "execution_count": 37,
      "outputs": [
        {
          "output_type": "execute_result",
          "data": {
            "text/plain": [
              "count    406693.000000\n",
              "mean        221.050040\n",
              "std         290.169058\n",
              "min          13.000000\n",
              "25%          53.000000\n",
              "50%         123.000000\n",
              "75%         285.000000\n",
              "max       13580.000000\n",
              "Name: num_orders, dtype: float64"
            ]
          },
          "metadata": {
            "tags": []
          },
          "execution_count": 37
        }
      ]
    },
    {
      "cell_type": "code",
      "metadata": {
        "id": "UTW4IrolKysc",
        "colab_type": "code",
        "outputId": "4951adff-ca89-4fa6-f589-7695857585c6",
        "colab": {
          "base_uri": "https://localhost:8080/",
          "height": 170
        }
      },
      "source": [
        "\n",
        "train[train.homepage_featured==1]['num_orders'].describe()"
      ],
      "execution_count": 38,
      "outputs": [
        {
          "output_type": "execute_result",
          "data": {
            "text/plain": [
              "count    49855.000000\n",
              "mean       594.884786\n",
              "std        790.036459\n",
              "min         13.000000\n",
              "25%        136.000000\n",
              "50%        350.000000\n",
              "75%        743.000000\n",
              "max      24299.000000\n",
              "Name: num_orders, dtype: float64"
            ]
          },
          "metadata": {
            "tags": []
          },
          "execution_count": 38
        }
      ]
    },
    {
      "cell_type": "markdown",
      "metadata": {
        "id": "BQedlekcJ39F",
        "colab_type": "text"
      },
      "source": [
        "# Observations: Homepage_featured\n",
        "\n",
        "Max 11% of the home page featured deals are seen\n",
        "\n",
        "Homepage ads are creating the demand and its 25% demand is  136 orders in contrast with the no homepage ads where the 25% demand is limited to 53 orders\n"
      ]
    },
    {
      "cell_type": "code",
      "metadata": {
        "id": "YM6UtI8lK1-f",
        "colab_type": "code",
        "outputId": "b2672fb6-cc34-4783-c0d9-ad4feefb92e0",
        "colab": {
          "base_uri": "https://localhost:8080/",
          "height": 85
        }
      },
      "source": [
        "# Demand Centre wise\n",
        "train.center_type.value_counts(normalize=True)"
      ],
      "execution_count": 39,
      "outputs": [
        {
          "output_type": "execute_result",
          "data": {
            "text/plain": [
              "TYPE_A    0.575801\n",
              "TYPE_C    0.218144\n",
              "TYPE_B    0.206055\n",
              "Name: center_type, dtype: float64"
            ]
          },
          "metadata": {
            "tags": []
          },
          "execution_count": 39
        }
      ]
    },
    {
      "cell_type": "code",
      "metadata": {
        "id": "kE_edea5LNa3",
        "colab_type": "code",
        "colab": {}
      },
      "source": [
        "# Lets find out what type of food and cuisine it serves and whether they use email promotion or not\n",
        "typea=train[train.center_type=='TYPE_A']"
      ],
      "execution_count": 0,
      "outputs": []
    },
    {
      "cell_type": "code",
      "metadata": {
        "id": "3lDbhVdCLp9o",
        "colab_type": "code",
        "outputId": "aaddf8ea-5b79-466f-8378-abdc1a7e8fac",
        "colab": {
          "base_uri": "https://localhost:8080/",
          "height": 342
        }
      },
      "source": [
        "typea['category'].value_counts(normalize=True).plot(kind='bar')"
      ],
      "execution_count": 41,
      "outputs": [
        {
          "output_type": "execute_result",
          "data": {
            "text/plain": [
              "<matplotlib.axes._subplots.AxesSubplot at 0x7fc58782af28>"
            ]
          },
          "metadata": {
            "tags": []
          },
          "execution_count": 41
        },
        {
          "output_type": "display_data",
          "data": {
            "image/png": "[encoded data removed]",
            "text/plain": [
              "<Figure size 432x288 with 1 Axes>"
            ]
          },
          "metadata": {
            "tags": []
          }
        }
      ]
    },
    {
      "cell_type": "code",
      "metadata": {
        "id": "sctIADNYLvjJ",
        "colab_type": "code",
        "outputId": "ee9a6b98-c1ef-46e0-f091-71fb394f34ea",
        "colab": {
          "base_uri": "https://localhost:8080/",
          "height": 334
        }
      },
      "source": [
        "typea['cuisine'].value_counts(normalize=True).plot(kind='bar',color=['blue', 'orange', 'green', 'red'])"
      ],
      "execution_count": 42,
      "outputs": [
        {
          "output_type": "execute_result",
          "data": {
            "text/plain": [
              "<matplotlib.axes._subplots.AxesSubplot at 0x7fc58d746208>"
            ]
          },
          "metadata": {
            "tags": []
          },
          "execution_count": 42
        },
        {
          "output_type": "display_data",
          "data": {
            "image/png": "[encoded data removed]",
            "text/plain": [
              "<Figure size 432x288 with 1 Axes>"
            ]
          },
          "metadata": {
            "tags": []
          }
        }
      ]
    },
    {
      "cell_type": "code",
      "metadata": {
        "id": "8FmJYSbfL5In",
        "colab_type": "code",
        "outputId": "640a9e6f-9a00-433a-ad53-b265119c1f7b",
        "colab": {
          "base_uri": "https://localhost:8080/",
          "height": 170
        }
      },
      "source": [
        "typea[typea.emailer_for_promotion==1]['num_orders'].describe()"
      ],
      "execution_count": 43,
      "outputs": [
        {
          "output_type": "execute_result",
          "data": {
            "text/plain": [
              "count    21146.000000\n",
              "mean       652.390381\n",
              "std        919.992943\n",
              "min         13.000000\n",
              "25%        163.000000\n",
              "50%        350.000000\n",
              "75%        769.000000\n",
              "max      24299.000000\n",
              "Name: num_orders, dtype: float64"
            ]
          },
          "metadata": {
            "tags": []
          },
          "execution_count": 43
        }
      ]
    },
    {
      "cell_type": "code",
      "metadata": {
        "id": "BfInTyTzMNGo",
        "colab_type": "code",
        "outputId": "2479f39c-5f85-485a-f7fb-1d71f6208e12",
        "colab": {
          "base_uri": "https://localhost:8080/",
          "height": 170
        }
      },
      "source": [
        "typea[typea.emailer_for_promotion==0]['num_orders'].describe()"
      ],
      "execution_count": 44,
      "outputs": [
        {
          "output_type": "execute_result",
          "data": {
            "text/plain": [
              "count    241735.000000\n",
              "mean        228.279190\n",
              "std         294.637774\n",
              "min          13.000000\n",
              "25%          53.000000\n",
              "50%         123.000000\n",
              "75%         297.000000\n",
              "max       14229.000000\n",
              "Name: num_orders, dtype: float64"
            ]
          },
          "metadata": {
            "tags": []
          },
          "execution_count": 44
        }
      ]
    },
    {
      "cell_type": "code",
      "metadata": {
        "id": "JJU7sHhMMhMD",
        "colab_type": "code",
        "outputId": "e21b6d73-cc31-4ed9-c557-0d7a30111555",
        "colab": {
          "base_uri": "https://localhost:8080/",
          "height": 170
        }
      },
      "source": [
        "typea[typea.homepage_featured==0]['num_orders'].describe()"
      ],
      "execution_count": 45,
      "outputs": [
        {
          "output_type": "execute_result",
          "data": {
            "text/plain": [
              "count    232483.000000\n",
              "mean        218.659523\n",
              "std         283.006281\n",
              "min          13.000000\n",
              "25%          53.000000\n",
              "50%         123.000000\n",
              "75%         285.000000\n",
              "max       10544.000000\n",
              "Name: num_orders, dtype: float64"
            ]
          },
          "metadata": {
            "tags": []
          },
          "execution_count": 45
        }
      ]
    },
    {
      "cell_type": "code",
      "metadata": {
        "id": "gnMRqfcuMkGp",
        "colab_type": "code",
        "outputId": "327f4f7c-4aa3-41f8-dda6-8add61e6a324",
        "colab": {
          "base_uri": "https://localhost:8080/",
          "height": 170
        }
      },
      "source": [
        "typea[typea.homepage_featured==1]['num_orders'].describe()"
      ],
      "execution_count": 46,
      "outputs": [
        {
          "output_type": "execute_result",
          "data": {
            "text/plain": [
              "count    30398.000000\n",
              "mean       596.877920\n",
              "std        809.402224\n",
              "min         13.000000\n",
              "25%        135.000000\n",
              "50%        338.000000\n",
              "75%        755.000000\n",
              "max      24299.000000\n",
              "Name: num_orders, dtype: float64"
            ]
          },
          "metadata": {
            "tags": []
          },
          "execution_count": 46
        }
      ]
    },
    {
      "cell_type": "code",
      "metadata": {
        "id": "dUGFJ3NpMmn7",
        "colab_type": "code",
        "colab": {}
      },
      "source": [
        "typeb=train[train.center_type=='TYPE_B']"
      ],
      "execution_count": 0,
      "outputs": []
    },
    {
      "cell_type": "code",
      "metadata": {
        "id": "-NlsHBxuMq2H",
        "colab_type": "code",
        "outputId": "2efa8346-d63b-4603-812d-d875555130cc",
        "colab": {
          "base_uri": "https://localhost:8080/",
          "height": 342
        }
      },
      "source": [
        "typeb['category'].value_counts(normalize=True).plot(kind='bar')"
      ],
      "execution_count": 48,
      "outputs": [
        {
          "output_type": "execute_result",
          "data": {
            "text/plain": [
              "<matplotlib.axes._subplots.AxesSubplot at 0x7fc589dfc240>"
            ]
          },
          "metadata": {
            "tags": []
          },
          "execution_count": 48
        },
        {
          "output_type": "display_data",
          "data": {
            "image/png": "[encoded data removed]",
            "text/plain": [
              "<Figure size 432x288 with 1 Axes>"
            ]
          },
          "metadata": {
            "tags": []
          }
        }
      ]
    },
    {
      "cell_type": "code",
      "metadata": {
        "id": "WvXyHnmWMuBh",
        "colab_type": "code",
        "outputId": "b94bafe0-b1f1-4160-92cd-a77cae24754d",
        "colab": {
          "base_uri": "https://localhost:8080/",
          "height": 334
        }
      },
      "source": [
        "typeb['cuisine'].value_counts(normalize=True).plot(kind='bar',color=['blue', 'orange', 'green', 'red'])"
      ],
      "execution_count": 49,
      "outputs": [
        {
          "output_type": "execute_result",
          "data": {
            "text/plain": [
              "<matplotlib.axes._subplots.AxesSubplot at 0x7fc589e48fd0>"
            ]
          },
          "metadata": {
            "tags": []
          },
          "execution_count": 49
        },
        {
          "output_type": "display_data",
          "data": {
            "image/png": "[encoded data removed]",
            "text/plain": [
              "<Figure size 432x288 with 1 Axes>"
            ]
          },
          "metadata": {
            "tags": []
          }
        }
      ]
    },
    {
      "cell_type": "code",
      "metadata": {
        "id": "JLcyDuSyMy2z",
        "colab_type": "code",
        "outputId": "71f6add3-8973-481a-965a-0443581f345d",
        "colab": {
          "base_uri": "https://localhost:8080/",
          "height": 170
        }
      },
      "source": [
        "typeb[typeb.emailer_for_promotion==0]['num_orders'].describe()"
      ],
      "execution_count": 50,
      "outputs": [
        {
          "output_type": "execute_result",
          "data": {
            "text/plain": [
              "count    86695.000000\n",
              "mean       288.721876\n",
              "std        354.587708\n",
              "min         13.000000\n",
              "25%         68.000000\n",
              "50%        163.000000\n",
              "75%        365.000000\n",
              "max       9044.000000\n",
              "Name: num_orders, dtype: float64"
            ]
          },
          "metadata": {
            "tags": []
          },
          "execution_count": 50
        }
      ]
    },
    {
      "cell_type": "code",
      "metadata": {
        "id": "MVg2CPPIM6sh",
        "colab_type": "code",
        "outputId": "8d072f51-128f-49e0-bd5b-d6195930f71d",
        "colab": {
          "base_uri": "https://localhost:8080/",
          "height": 170
        }
      },
      "source": [
        "typeb[typeb.emailer_for_promotion==1]['num_orders'].describe()"
      ],
      "execution_count": 51,
      "outputs": [
        {
          "output_type": "execute_result",
          "data": {
            "text/plain": [
              "count     7379.000000\n",
              "mean       672.900122\n",
              "std        904.981631\n",
              "min         13.000000\n",
              "25%        177.000000\n",
              "50%        377.000000\n",
              "75%        784.000000\n",
              "max      13580.000000\n",
              "Name: num_orders, dtype: float64"
            ]
          },
          "metadata": {
            "tags": []
          },
          "execution_count": 51
        }
      ]
    },
    {
      "cell_type": "code",
      "metadata": {
        "id": "JUnXzxnLM9Dh",
        "colab_type": "code",
        "outputId": "f36233c8-a982-4c4b-c277-9195610fd52b",
        "colab": {
          "base_uri": "https://localhost:8080/",
          "height": 170
        }
      },
      "source": [
        "typeb[typeb.homepage_featured==0]['num_orders'].describe()"
      ],
      "execution_count": 52,
      "outputs": [
        {
          "output_type": "execute_result",
          "data": {
            "text/plain": [
              "count    83693.000000\n",
              "mean       279.154338\n",
              "std        349.960225\n",
              "min         13.000000\n",
              "25%         68.000000\n",
              "50%        162.000000\n",
              "75%        351.000000\n",
              "max      13580.000000\n",
              "Name: num_orders, dtype: float64"
            ]
          },
          "metadata": {
            "tags": []
          },
          "execution_count": 52
        }
      ]
    },
    {
      "cell_type": "code",
      "metadata": {
        "id": "LJc8w76KNCEX",
        "colab_type": "code",
        "outputId": "0e69c851-9efc-4e62-fdc7-89f565dfe389",
        "colab": {
          "base_uri": "https://localhost:8080/",
          "height": 170
        }
      },
      "source": [
        "typeb[typeb.homepage_featured==1]['num_orders'].describe()"
      ],
      "execution_count": 53,
      "outputs": [
        {
          "output_type": "execute_result",
          "data": {
            "text/plain": [
              "count    10381.000000\n",
              "mean       638.937386\n",
              "std        791.392623\n",
              "min         13.000000\n",
              "25%        175.000000\n",
              "50%        391.000000\n",
              "75%        797.000000\n",
              "max      12327.000000\n",
              "Name: num_orders, dtype: float64"
            ]
          },
          "metadata": {
            "tags": []
          },
          "execution_count": 53
        }
      ]
    },
    {
      "cell_type": "code",
      "metadata": {
        "id": "2TuJkh9mNEY2",
        "colab_type": "code",
        "colab": {}
      },
      "source": [
        "typec=train[train.center_type=='TYPE_C']"
      ],
      "execution_count": 0,
      "outputs": []
    },
    {
      "cell_type": "code",
      "metadata": {
        "id": "_S0jVrh7NKbi",
        "colab_type": "code",
        "outputId": "84604ad7-ef1a-4f8d-a1a5-9495ff4bfc28",
        "colab": {
          "base_uri": "https://localhost:8080/",
          "height": 342
        }
      },
      "source": [
        "typec['category'].value_counts(normalize=True).plot(kind='bar')"
      ],
      "execution_count": 55,
      "outputs": [
        {
          "output_type": "execute_result",
          "data": {
            "text/plain": [
              "<matplotlib.axes._subplots.AxesSubplot at 0x7fc5878a1cc0>"
            ]
          },
          "metadata": {
            "tags": []
          },
          "execution_count": 55
        },
        {
          "output_type": "display_data",
          "data": {
            "image/png": "[encoded data removed]",
            "text/plain": [
              "<Figure size 432x288 with 1 Axes>"
            ]
          },
          "metadata": {
            "tags": []
          }
        }
      ]
    },
    {
      "cell_type": "code",
      "metadata": {
        "id": "hsEo0TZ1NORR",
        "colab_type": "code",
        "outputId": "35683ef8-6867-48e9-a855-442576c84a18",
        "colab": {
          "base_uri": "https://localhost:8080/",
          "height": 334
        }
      },
      "source": [
        "typec['cuisine'].value_counts(normalize=True).plot(kind='bar',color=['blue', 'orange', 'green', 'red'])"
      ],
      "execution_count": 56,
      "outputs": [
        {
          "output_type": "execute_result",
          "data": {
            "text/plain": [
              "<matplotlib.axes._subplots.AxesSubplot at 0x7fc5878a5748>"
            ]
          },
          "metadata": {
            "tags": []
          },
          "execution_count": 56
        },
        {
          "output_type": "display_data",
          "data": {
            "image/png": "[encoded data removed]",
            "text/plain": [
              "<Figure size 432x288 with 1 Axes>"
            ]
          },
          "metadata": {
            "tags": []
          }
        }
      ]
    },
    {
      "cell_type": "code",
      "metadata": {
        "id": "qqokDwLaNSBK",
        "colab_type": "code",
        "outputId": "18ad925e-ece4-4dd3-dcf8-d824de54dabe",
        "colab": {
          "base_uri": "https://localhost:8080/",
          "height": 170
        }
      },
      "source": [
        "typec[typec.emailer_for_promotion==0]['num_orders'].describe()"
      ],
      "execution_count": 57,
      "outputs": [
        {
          "output_type": "execute_result",
          "data": {
            "text/plain": [
              "count    91068.000000\n",
              "mean       175.270216\n",
              "std        222.732278\n",
              "min         13.000000\n",
              "25%         40.000000\n",
              "50%         95.000000\n",
              "75%        242.000000\n",
              "max       6912.000000\n",
              "Name: num_orders, dtype: float64"
            ]
          },
          "metadata": {
            "tags": []
          },
          "execution_count": 57
        }
      ]
    },
    {
      "cell_type": "code",
      "metadata": {
        "id": "ol1BJTtUNVt2",
        "colab_type": "code",
        "outputId": "0bd2aded-62fe-465d-cdf5-29cf4cf480a7",
        "colab": {
          "base_uri": "https://localhost:8080/",
          "height": 170
        }
      },
      "source": [
        "typec[typec.emailer_for_promotion==1]['num_orders'].describe()"
      ],
      "execution_count": 58,
      "outputs": [
        {
          "output_type": "execute_result",
          "data": {
            "text/plain": [
              "count     8525.000000\n",
              "mean       542.098182\n",
              "std        770.773058\n",
              "min         13.000000\n",
              "25%        121.000000\n",
              "50%        284.000000\n",
              "75%        620.000000\n",
              "max      10124.000000\n",
              "Name: num_orders, dtype: float64"
            ]
          },
          "metadata": {
            "tags": []
          },
          "execution_count": 58
        }
      ]
    },
    {
      "cell_type": "code",
      "metadata": {
        "id": "TVP2hVM3NYTK",
        "colab_type": "code",
        "outputId": "568658f5-679f-4094-f836-961bd5ae7fb1",
        "colab": {
          "base_uri": "https://localhost:8080/",
          "height": 170
        }
      },
      "source": [
        "typec[typec.homepage_featured==0]['num_orders'].describe()"
      ],
      "execution_count": 59,
      "outputs": [
        {
          "output_type": "execute_result",
          "data": {
            "text/plain": [
              "count    90517.000000\n",
              "mean       173.465957\n",
              "std        232.283119\n",
              "min         13.000000\n",
              "25%         40.000000\n",
              "50%         95.000000\n",
              "75%        231.000000\n",
              "max       7601.000000\n",
              "Name: num_orders, dtype: float64"
            ]
          },
          "metadata": {
            "tags": []
          },
          "execution_count": 59
        }
      ]
    },
    {
      "cell_type": "code",
      "metadata": {
        "id": "vXk6xtxqNiHN",
        "colab_type": "code",
        "outputId": "0a60e20f-eb7b-4885-a731-ec69728f7baf",
        "colab": {
          "base_uri": "https://localhost:8080/",
          "height": 170
        }
      },
      "source": [
        "typec[typec.homepage_featured==1]['num_orders'].describe()"
      ],
      "execution_count": 60,
      "outputs": [
        {
          "output_type": "execute_result",
          "data": {
            "text/plain": [
              "count     9076.000000\n",
              "mean       537.822499\n",
              "std        715.962860\n",
              "min         13.000000\n",
              "25%        109.000000\n",
              "50%        324.000000\n",
              "75%        662.000000\n",
              "max      10124.000000\n",
              "Name: num_orders, dtype: float64"
            ]
          },
          "metadata": {
            "tags": []
          },
          "execution_count": 60
        }
      ]
    },
    {
      "cell_type": "code",
      "metadata": {
        "id": "K_rZ75CRNk5F",
        "colab_type": "code",
        "outputId": "bff9a72c-e94b-429e-cab5-dfde9883e9d4",
        "colab": {
          "base_uri": "https://localhost:8080/",
          "height": 301
        }
      },
      "source": [
        "\n",
        "sns.boxplot(x=train.emailer_for_promotion, y=train.num_orders, hue=train.center_type)"
      ],
      "execution_count": 61,
      "outputs": [
        {
          "output_type": "execute_result",
          "data": {
            "text/plain": [
              "<matplotlib.axes._subplots.AxesSubplot at 0x7fc587659b00>"
            ]
          },
          "metadata": {
            "tags": []
          },
          "execution_count": 61
        },
        {
          "output_type": "display_data",
          "data": {
            "image/png": "[encoded data removed]",
            "text/plain": [
              "<Figure size 432x288 with 1 Axes>"
            ]
          },
          "metadata": {
            "tags": []
          }
        }
      ]
    },
    {
      "cell_type": "code",
      "metadata": {
        "id": "vNjDynwZPRuB",
        "colab_type": "code",
        "outputId": "a36fe0ed-f4b0-4068-c3c7-78bda940baa8",
        "colab": {
          "base_uri": "https://localhost:8080/",
          "height": 301
        }
      },
      "source": [
        "sns.barplot(x=train.center_type, y=train.num_orders) # This plot is plotting with the mean hence we cannot take this plot\n"
      ],
      "execution_count": 62,
      "outputs": [
        {
          "output_type": "execute_result",
          "data": {
            "text/plain": [
              "<matplotlib.axes._subplots.AxesSubplot at 0x7fc587596b00>"
            ]
          },
          "metadata": {
            "tags": []
          },
          "execution_count": 62
        },
        {
          "output_type": "display_data",
          "data": {
            "image/png": "[encoded data removed]",
            "text/plain": [
              "<Figure size 432x288 with 1 Axes>"
            ]
          },
          "metadata": {
            "tags": []
          }
        }
      ]
    },
    {
      "cell_type": "markdown",
      "metadata": {
        "id": "WXmeH5JSObpW",
        "colab_type": "text"
      },
      "source": [
        "# Observation: Centre Type\n",
        "\n",
        "1) Type A is the most contributing centre amongst all the centre types.\n",
        "\n",
        "2) Type B and Type C are the most dependent on the email promotion and homepage featured. This is helping the Centre to scale their business and works like a  catalysis in the growth'\n",
        "\n",
        "3)The category and the cuisine offfered is same across all the centres.\n",
        "\n"
      ]
    },
    {
      "cell_type": "code",
      "metadata": {
        "id": "igGPvDDhNyZY",
        "colab_type": "code",
        "outputId": "03c904c2-7eb7-41c8-b901-f4159fad5125",
        "colab": {
          "base_uri": "https://localhost:8080/",
          "height": 334
        }
      },
      "source": [
        "train.groupby(train.center_type)['num_orders'].sum().plot(kind='bar',color=['blue','orange','green'])"
      ],
      "execution_count": 63,
      "outputs": [
        {
          "output_type": "execute_result",
          "data": {
            "text/plain": [
              "<matplotlib.axes._subplots.AxesSubplot at 0x7fc5875fb320>"
            ]
          },
          "metadata": {
            "tags": []
          },
          "execution_count": 63
        },
        {
          "output_type": "display_data",
          "data": {
            "image/png": "[encoded data removed]",
            "text/plain": [
              "<Figure size 432x288 with 1 Axes>"
            ]
          },
          "metadata": {
            "tags": []
          }
        }
      ]
    },
    {
      "cell_type": "code",
      "metadata": {
        "id": "YWYGx4pGUVN3",
        "colab_type": "code",
        "outputId": "686f7c4f-e456-4bd5-f92f-242af86edb79",
        "colab": {
          "base_uri": "https://localhost:8080/",
          "height": 312
        }
      },
      "source": [
        "train[train.num_orders!=24299]['center_type'].value_counts().plot(kind='bar',color=['blue','orange','green'])"
      ],
      "execution_count": 64,
      "outputs": [
        {
          "output_type": "execute_result",
          "data": {
            "text/plain": [
              "<matplotlib.axes._subplots.AxesSubplot at 0x7fc5875477f0>"
            ]
          },
          "metadata": {
            "tags": []
          },
          "execution_count": 64
        },
        {
          "output_type": "display_data",
          "data": {
            "image/png": "[encoded data removed]",
            "text/plain": [
              "<Figure size 432x288 with 1 Axes>"
            ]
          },
          "metadata": {
            "tags": []
          }
        }
      ]
    },
    {
      "cell_type": "code",
      "metadata": {
        "id": "AZBp-AbgVxG0",
        "colab_type": "code",
        "outputId": "fc36b3a3-8608-4881-9dd0-18936c4d62b1",
        "colab": {
          "base_uri": "https://localhost:8080/",
          "height": 301
        }
      },
      "source": [
        "sns.lineplot(x=train.checkout_price,y=train.num_orders, hue=train.center_type)"
      ],
      "execution_count": 65,
      "outputs": [
        {
          "output_type": "execute_result",
          "data": {
            "text/plain": [
              "<matplotlib.axes._subplots.AxesSubplot at 0x7fc5874b95f8>"
            ]
          },
          "metadata": {
            "tags": []
          },
          "execution_count": 65
        },
        {
          "output_type": "display_data",
          "data": {
            "image/png": "[encoded data removed]",
            "text/plain": [
              "<Figure size 432x288 with 1 Axes>"
            ]
          },
          "metadata": {
            "tags": []
          }
        }
      ]
    },
    {
      "cell_type": "markdown",
      "metadata": {
        "id": "ZpvH_HtpVf8y",
        "colab_type": "text"
      },
      "source": [
        "# Observations: \n",
        "\n",
        "Out of all the centres and basic barplot,lineplot, scatter plot followed by the boxplot, the barplot gives the mean. We can also conclude that Type A nad Type B are the most contributing one for the orders\n"
      ]
    },
    {
      "cell_type": "code",
      "metadata": {
        "id": "xAIL9sszVaPD",
        "colab_type": "code",
        "outputId": "773c3b6a-c9b6-4f20-a8ed-c4b7ecf195ac",
        "colab": {
          "base_uri": "https://localhost:8080/",
          "height": 170
        }
      },
      "source": [
        "train.region_code.value_counts() # 8 regions and 3 centre_types"
      ],
      "execution_count": 66,
      "outputs": [
        {
          "output_type": "execute_result",
          "data": {
            "text/plain": [
              "56    191228\n",
              "34    116713\n",
              "77     94612\n",
              "85     30283\n",
              "23      6434\n",
              "71      6293\n",
              "93      5721\n",
              "35      5264\n",
              "Name: region_code, dtype: int64"
            ]
          },
          "metadata": {
            "tags": []
          },
          "execution_count": 66
        }
      ]
    },
    {
      "cell_type": "code",
      "metadata": {
        "id": "T0TmDU4jWj_m",
        "colab_type": "code",
        "outputId": "7cf79fe4-fc59-4678-e8be-1adda00cf47f",
        "colab": {
          "base_uri": "https://localhost:8080/",
          "height": 170
        }
      },
      "source": [
        "train.region_code.value_counts(normalize=True)"
      ],
      "execution_count": 67,
      "outputs": [
        {
          "output_type": "execute_result",
          "data": {
            "text/plain": [
              "56    0.418856\n",
              "34    0.255642\n",
              "77    0.207233\n",
              "85    0.066330\n",
              "23    0.014093\n",
              "71    0.013784\n",
              "93    0.012531\n",
              "35    0.011530\n",
              "Name: region_code, dtype: float64"
            ]
          },
          "metadata": {
            "tags": []
          },
          "execution_count": 67
        }
      ]
    },
    {
      "cell_type": "code",
      "metadata": {
        "id": "h-KiG7SOW8K0",
        "colab_type": "code",
        "outputId": "b1609d26-125d-4233-cca9-f5e914d35832",
        "colab": {
          "base_uri": "https://localhost:8080/",
          "height": 328
        }
      },
      "source": [
        "pd.crosstab(train.region_code,train.center_type)"
      ],
      "execution_count": 68,
      "outputs": [
        {
          "output_type": "execute_result",
          "data": {
            "text/html": [
              "<div>\n",
              "<style scoped>\n",
              "    .dataframe tbody tr th:only-of-type {\n",
              "        vertical-align: middle;\n",
              "    }\n",
              "\n",
              "    .dataframe tbody tr th {\n",
              "        vertical-align: top;\n",
              "    }\n",
              "\n",
              "    .dataframe thead th {\n",
              "        text-align: right;\n",
              "    }\n",
              "</style>\n",
              "<table border=\"1\" class=\"dataframe\">\n",
              "  <thead>\n",
              "    <tr style=\"text-align: right;\">\n",
              "      <th>center_type</th>\n",
              "      <th>TYPE_A</th>\n",
              "      <th>TYPE_B</th>\n",
              "      <th>TYPE_C</th>\n",
              "    </tr>\n",
              "    <tr>\n",
              "      <th>region_code</th>\n",
              "      <th></th>\n",
              "      <th></th>\n",
              "      <th></th>\n",
              "    </tr>\n",
              "  </thead>\n",
              "  <tbody>\n",
              "    <tr>\n",
              "      <th>23</th>\n",
              "      <td>6434</td>\n",
              "      <td>0</td>\n",
              "      <td>0</td>\n",
              "    </tr>\n",
              "    <tr>\n",
              "      <th>34</th>\n",
              "      <td>57407</td>\n",
              "      <td>29494</td>\n",
              "      <td>29812</td>\n",
              "    </tr>\n",
              "    <tr>\n",
              "      <th>35</th>\n",
              "      <td>5264</td>\n",
              "      <td>0</td>\n",
              "      <td>0</td>\n",
              "    </tr>\n",
              "    <tr>\n",
              "      <th>56</th>\n",
              "      <td>112218</td>\n",
              "      <td>41588</td>\n",
              "      <td>37422</td>\n",
              "    </tr>\n",
              "    <tr>\n",
              "      <th>71</th>\n",
              "      <td>6293</td>\n",
              "      <td>0</td>\n",
              "      <td>0</td>\n",
              "    </tr>\n",
              "    <tr>\n",
              "      <th>77</th>\n",
              "      <td>56592</td>\n",
              "      <td>17759</td>\n",
              "      <td>20261</td>\n",
              "    </tr>\n",
              "    <tr>\n",
              "      <th>85</th>\n",
              "      <td>12952</td>\n",
              "      <td>5233</td>\n",
              "      <td>12098</td>\n",
              "    </tr>\n",
              "    <tr>\n",
              "      <th>93</th>\n",
              "      <td>5721</td>\n",
              "      <td>0</td>\n",
              "      <td>0</td>\n",
              "    </tr>\n",
              "  </tbody>\n",
              "</table>\n",
              "</div>"
            ],
            "text/plain": [
              "center_type  TYPE_A  TYPE_B  TYPE_C\n",
              "region_code                        \n",
              "23             6434       0       0\n",
              "34            57407   29494   29812\n",
              "35             5264       0       0\n",
              "56           112218   41588   37422\n",
              "71             6293       0       0\n",
              "77            56592   17759   20261\n",
              "85            12952    5233   12098\n",
              "93             5721       0       0"
            ]
          },
          "metadata": {
            "tags": []
          },
          "execution_count": 68
        }
      ]
    },
    {
      "cell_type": "markdown",
      "metadata": {
        "id": "9aAAGM7Wms-7",
        "colab_type": "text"
      },
      "source": [
        "Observations:-\n",
        "\n",
        "Type A has lesser outkets where Type C and Type B doesnt exist in region codes. This means that the region code 23,35,71 and 93 are smaller regions/cities\n",
        "\n",
        "we can make a probable column of sales with the multiplication of amount and number of orders. But here we cannot do it as the test dataset does not have any target"
      ]
    },
    {
      "cell_type": "code",
      "metadata": {
        "id": "QI76oVkWXkTT",
        "colab_type": "code",
        "colab": {}
      },
      "source": [
        "\n",
        "# Try to create a cluster with meal id/clusterid in relation to number of orders\n",
        "from sklearn.cluster import KMeans\n",
        "\n",
        "km = KMeans(\n",
        "    n_clusters=3, init='random',\n",
        "    n_init=10, max_iter=300, \n",
        "    tol=1e-04, random_state=0\n",
        ")"
      ],
      "execution_count": 0,
      "outputs": []
    },
    {
      "cell_type": "code",
      "metadata": {
        "id": "AfMI6w81nCv5",
        "colab_type": "code",
        "outputId": "965d1b2e-782e-4f0b-c26f-3cb5250a5abb",
        "colab": {
          "base_uri": "https://localhost:8080/",
          "height": 170
        }
      },
      "source": [
        "train.op_area.describe() # Business fells int the min of 0.9 "
      ],
      "execution_count": 70,
      "outputs": [
        {
          "output_type": "execute_result",
          "data": {
            "text/plain": [
              "count    456548.000000\n",
              "mean          4.083590\n",
              "std           1.091686\n",
              "min           0.900000\n",
              "25%           3.600000\n",
              "50%           4.000000\n",
              "75%           4.500000\n",
              "max           7.000000\n",
              "Name: op_area, dtype: float64"
            ]
          },
          "metadata": {
            "tags": []
          },
          "execution_count": 70
        }
      ]
    },
    {
      "cell_type": "code",
      "metadata": {
        "id": "rYgNeTmBvRBg",
        "colab_type": "code",
        "colab": {
          "base_uri": "https://localhost:8080/",
          "height": 204
        },
        "outputId": "8883f384-a9c1-418a-d86f-bae445dd08d3"
      },
      "source": [
        "train.head()"
      ],
      "execution_count": 71,
      "outputs": [
        {
          "output_type": "execute_result",
          "data": {
            "text/html": [
              "<div>\n",
              "<style scoped>\n",
              "    .dataframe tbody tr th:only-of-type {\n",
              "        vertical-align: middle;\n",
              "    }\n",
              "\n",
              "    .dataframe tbody tr th {\n",
              "        vertical-align: top;\n",
              "    }\n",
              "\n",
              "    .dataframe thead th {\n",
              "        text-align: right;\n",
              "    }\n",
              "</style>\n",
              "<table border=\"1\" class=\"dataframe\">\n",
              "  <thead>\n",
              "    <tr style=\"text-align: right;\">\n",
              "      <th></th>\n",
              "      <th>id</th>\n",
              "      <th>week</th>\n",
              "      <th>center_id</th>\n",
              "      <th>meal_id</th>\n",
              "      <th>checkout_price</th>\n",
              "      <th>base_price</th>\n",
              "      <th>emailer_for_promotion</th>\n",
              "      <th>homepage_featured</th>\n",
              "      <th>num_orders</th>\n",
              "      <th>category</th>\n",
              "      <th>cuisine</th>\n",
              "      <th>city_code</th>\n",
              "      <th>region_code</th>\n",
              "      <th>center_type</th>\n",
              "      <th>op_area</th>\n",
              "    </tr>\n",
              "  </thead>\n",
              "  <tbody>\n",
              "    <tr>\n",
              "      <th>0</th>\n",
              "      <td>1379560</td>\n",
              "      <td>1</td>\n",
              "      <td>55</td>\n",
              "      <td>1885</td>\n",
              "      <td>136.83</td>\n",
              "      <td>152.29</td>\n",
              "      <td>0</td>\n",
              "      <td>0</td>\n",
              "      <td>177</td>\n",
              "      <td>Beverages</td>\n",
              "      <td>Thai</td>\n",
              "      <td>647</td>\n",
              "      <td>56</td>\n",
              "      <td>TYPE_C</td>\n",
              "      <td>2.0</td>\n",
              "    </tr>\n",
              "    <tr>\n",
              "      <th>1</th>\n",
              "      <td>1018704</td>\n",
              "      <td>2</td>\n",
              "      <td>55</td>\n",
              "      <td>1885</td>\n",
              "      <td>135.83</td>\n",
              "      <td>152.29</td>\n",
              "      <td>0</td>\n",
              "      <td>0</td>\n",
              "      <td>323</td>\n",
              "      <td>Beverages</td>\n",
              "      <td>Thai</td>\n",
              "      <td>647</td>\n",
              "      <td>56</td>\n",
              "      <td>TYPE_C</td>\n",
              "      <td>2.0</td>\n",
              "    </tr>\n",
              "    <tr>\n",
              "      <th>2</th>\n",
              "      <td>1196273</td>\n",
              "      <td>3</td>\n",
              "      <td>55</td>\n",
              "      <td>1885</td>\n",
              "      <td>132.92</td>\n",
              "      <td>133.92</td>\n",
              "      <td>0</td>\n",
              "      <td>0</td>\n",
              "      <td>96</td>\n",
              "      <td>Beverages</td>\n",
              "      <td>Thai</td>\n",
              "      <td>647</td>\n",
              "      <td>56</td>\n",
              "      <td>TYPE_C</td>\n",
              "      <td>2.0</td>\n",
              "    </tr>\n",
              "    <tr>\n",
              "      <th>3</th>\n",
              "      <td>1116527</td>\n",
              "      <td>4</td>\n",
              "      <td>55</td>\n",
              "      <td>1885</td>\n",
              "      <td>135.86</td>\n",
              "      <td>134.86</td>\n",
              "      <td>0</td>\n",
              "      <td>0</td>\n",
              "      <td>163</td>\n",
              "      <td>Beverages</td>\n",
              "      <td>Thai</td>\n",
              "      <td>647</td>\n",
              "      <td>56</td>\n",
              "      <td>TYPE_C</td>\n",
              "      <td>2.0</td>\n",
              "    </tr>\n",
              "    <tr>\n",
              "      <th>4</th>\n",
              "      <td>1343872</td>\n",
              "      <td>5</td>\n",
              "      <td>55</td>\n",
              "      <td>1885</td>\n",
              "      <td>146.50</td>\n",
              "      <td>147.50</td>\n",
              "      <td>0</td>\n",
              "      <td>0</td>\n",
              "      <td>215</td>\n",
              "      <td>Beverages</td>\n",
              "      <td>Thai</td>\n",
              "      <td>647</td>\n",
              "      <td>56</td>\n",
              "      <td>TYPE_C</td>\n",
              "      <td>2.0</td>\n",
              "    </tr>\n",
              "  </tbody>\n",
              "</table>\n",
              "</div>"
            ],
            "text/plain": [
              "        id  week  center_id  ...  region_code  center_type  op_area\n",
              "0  1379560     1         55  ...           56       TYPE_C      2.0\n",
              "1  1018704     2         55  ...           56       TYPE_C      2.0\n",
              "2  1196273     3         55  ...           56       TYPE_C      2.0\n",
              "3  1116527     4         55  ...           56       TYPE_C      2.0\n",
              "4  1343872     5         55  ...           56       TYPE_C      2.0\n",
              "\n",
              "[5 rows x 15 columns]"
            ]
          },
          "metadata": {
            "tags": []
          },
          "execution_count": 71
        }
      ]
    },
    {
      "cell_type": "code",
      "metadata": {
        "id": "MdyrvoQZoECS",
        "colab_type": "code",
        "outputId": "b40a73f0-e5e2-4503-d534-92f4d4b64d12",
        "colab": {
          "base_uri": "https://localhost:8080/",
          "height": 269
        }
      },
      "source": [
        "sns.distplot(train.base_price-train.checkout_price)\n",
        "plt.show()"
      ],
      "execution_count": 72,
      "outputs": [
        {
          "output_type": "display_data",
          "data": {
            "image/png": "[encoded data removed]",
            "text/plain": [
              "<Figure size 432x288 with 1 Axes>"
            ]
          },
          "metadata": {
            "tags": []
          }
        }
      ]
    },
    {
      "cell_type": "markdown",
      "metadata": {
        "id": "NZBjMTwQJrGn",
        "colab_type": "text"
      },
      "source": [
        "# Feature Engineering"
      ]
    },
    {
      "cell_type": "code",
      "metadata": {
        "id": "1-KMem0tujlf",
        "colab_type": "code",
        "colab": {
          "base_uri": "https://localhost:8080/",
          "height": 357
        },
        "outputId": "74bf780a-9df5-4dab-85df-0fdd20af5af7"
      },
      "source": [
        "train.info()\n"
      ],
      "execution_count": 73,
      "outputs": [
        {
          "output_type": "stream",
          "text": [
            "<class 'pandas.core.frame.DataFrame'>\n",
            "Int64Index: 456548 entries, 0 to 456547\n",
            "Data columns (total 15 columns):\n",
            "id                       456548 non-null int64\n",
            "week                     456548 non-null int64\n",
            "center_id                456548 non-null int64\n",
            "meal_id                  456548 non-null int64\n",
            "checkout_price           456548 non-null float64\n",
            "base_price               456548 non-null float64\n",
            "emailer_for_promotion    456548 non-null int64\n",
            "homepage_featured        456548 non-null int64\n",
            "num_orders               456548 non-null int64\n",
            "category                 456548 non-null object\n",
            "cuisine                  456548 non-null object\n",
            "city_code                456548 non-null int64\n",
            "region_code              456548 non-null int64\n",
            "center_type              456548 non-null object\n",
            "op_area                  456548 non-null float64\n",
            "dtypes: float64(3), int64(9), object(3)\n",
            "memory usage: 75.7+ MB\n"
          ],
          "name": "stdout"
        }
      ]
    },
    {
      "cell_type": "code",
      "metadata": {
        "id": "VUgOiw8Auj1b",
        "colab_type": "code",
        "colab": {
          "base_uri": "https://localhost:8080/",
          "height": 289
        },
        "outputId": "a6f80797-ee84-4f79-f955-98039beb40a5"
      },
      "source": [
        "train.isnull().sum()"
      ],
      "execution_count": 74,
      "outputs": [
        {
          "output_type": "execute_result",
          "data": {
            "text/plain": [
              "id                       0\n",
              "week                     0\n",
              "center_id                0\n",
              "meal_id                  0\n",
              "checkout_price           0\n",
              "base_price               0\n",
              "emailer_for_promotion    0\n",
              "homepage_featured        0\n",
              "num_orders               0\n",
              "category                 0\n",
              "cuisine                  0\n",
              "city_code                0\n",
              "region_code              0\n",
              "center_type              0\n",
              "op_area                  0\n",
              "dtype: int64"
            ]
          },
          "metadata": {
            "tags": []
          },
          "execution_count": 74
        }
      ]
    },
    {
      "cell_type": "code",
      "metadata": {
        "id": "C-XoQiptReNh",
        "colab_type": "code",
        "colab": {}
      },
      "source": [
        "train=train.drop(['id','center_id', 'meal_id'], axis=1)\n"
      ],
      "execution_count": 0,
      "outputs": []
    },
    {
      "cell_type": "code",
      "metadata": {
        "id": "7LhYR3UdVXdx",
        "colab_type": "code",
        "colab": {}
      },
      "source": [
        "test = test.drop(['meal_id', 'center_id'], axis=1)"
      ],
      "execution_count": 0,
      "outputs": []
    },
    {
      "cell_type": "code",
      "metadata": {
        "id": "pyBj5GzIR4aO",
        "colab_type": "code",
        "colab": {}
      },
      "source": [
        "from sklearn.preprocessing import LabelEncoder"
      ],
      "execution_count": 0,
      "outputs": []
    },
    {
      "cell_type": "code",
      "metadata": {
        "id": "KUlYIX1CNQ7u",
        "colab_type": "code",
        "colab": {}
      },
      "source": [
        "lb1 = LabelEncoder()\n",
        "train['center_type'] = lb1.fit_transform(train['center_type'])\n",
        "\n",
        "lb2 = LabelEncoder()\n",
        "train['category'] = lb1.fit_transform(train['category'])\n",
        "\n",
        "lb3 = LabelEncoder()\n",
        "train['cuisine'] = lb1.fit_transform(train['cuisine'])"
      ],
      "execution_count": 0,
      "outputs": []
    },
    {
      "cell_type": "code",
      "metadata": {
        "id": "Omtxyk6MawBi",
        "colab_type": "code",
        "colab": {}
      },
      "source": [
        "lb1 = LabelEncoder()\n",
        "test['center_type'] = lb1.fit_transform(test['center_type'])\n",
        "\n",
        "lb2 = LabelEncoder()\n",
        "test['category'] = lb1.fit_transform(test['category'])\n",
        "\n",
        "lb3 = LabelEncoder()\n",
        "test['cuisine'] = lb1.fit_transform(test['cuisine'])"
      ],
      "execution_count": 0,
      "outputs": []
    },
    {
      "cell_type": "code",
      "metadata": {
        "id": "gFK_yn2NqJ5E",
        "colab_type": "code",
        "colab": {
          "base_uri": "https://localhost:8080/",
          "height": 34
        },
        "outputId": "03731cfa-eeb2-471f-d263-6988f54f4113"
      },
      "source": [
        "print(train.shape)"
      ],
      "execution_count": 80,
      "outputs": [
        {
          "output_type": "stream",
          "text": [
            "(456548, 12)\n"
          ],
          "name": "stdout"
        }
      ]
    },
    {
      "cell_type": "code",
      "metadata": {
        "id": "3ZXC7el5qNT5",
        "colab_type": "code",
        "colab": {
          "base_uri": "https://localhost:8080/",
          "height": 34
        },
        "outputId": "c09b7d39-770d-439c-b5b6-f77ebbb2dfbd"
      },
      "source": [
        "print(test.shape)"
      ],
      "execution_count": 81,
      "outputs": [
        {
          "output_type": "stream",
          "text": [
            "(32573, 12)\n"
          ],
          "name": "stdout"
        }
      ]
    },
    {
      "cell_type": "markdown",
      "metadata": {
        "id": "Ioeznp5JJ3hr",
        "colab_type": "text"
      },
      "source": [
        "# Observations\n",
        " There are no null values in the dataset\n",
        " "
      ]
    },
    {
      "cell_type": "code",
      "metadata": {
        "id": "S28_j0wTJ3Nh",
        "colab_type": "code",
        "colab": {}
      },
      "source": [
        "from sklearn.model_selection import train_test_split"
      ],
      "execution_count": 0,
      "outputs": []
    },
    {
      "cell_type": "code",
      "metadata": {
        "id": "Hr0tNE0tJyuV",
        "colab_type": "code",
        "colab": {}
      },
      "source": [
        "X=train.drop('num_orders',axis=1)\n",
        "y=train.num_orders"
      ],
      "execution_count": 0,
      "outputs": []
    },
    {
      "cell_type": "code",
      "metadata": {
        "id": "SoPmfdbaMMyt",
        "colab_type": "code",
        "colab": {}
      },
      "source": [
        "#xtrain,xtest,ytrain,ytest=train_test_split(X,y,test_size=0.30,random_state=123)"
      ],
      "execution_count": 0,
      "outputs": []
    },
    {
      "cell_type": "code",
      "metadata": {
        "id": "g-z42WlEMYU_",
        "colab_type": "code",
        "colab": {}
      },
      "source": [
        "from sklearn.naive_bayes import GaussianNB\n",
        "from sklearn.ensemble import RandomForestRegressor\n",
        "from sklearn.linear_model import LinearRegression,LogisticRegression\n",
        "from sklearn.tree import DecisionTreeRegressor\n",
        "from sklearn.neighbors import KNeighborsRegressor\n",
        "from sklearn.ensemble import BaggingRegressor, AdaBoostRegressor"
      ],
      "execution_count": 0,
      "outputs": []
    },
    {
      "cell_type": "code",
      "metadata": {
        "id": "nGAqdSAQMp0O",
        "colab_type": "code",
        "colab": {}
      },
      "source": [
        "gb=GaussianNB()\n",
        "rfr=RandomForestRegressor()\n",
        "dtree=DecisionTreeRegressor()\n",
        "bgr=BaggingRegressor()\n",
        "adb=AdaBoostRegressor()\n",
        "knn=KNeighborsRegressor()"
      ],
      "execution_count": 0,
      "outputs": []
    },
    {
      "cell_type": "code",
      "metadata": {
        "id": "Xe2vr2pMNEFR",
        "colab_type": "code",
        "colab": {}
      },
      "source": [
        "pred=gb.fit(X,y).predict(test.drop('id',axis=1))"
      ],
      "execution_count": 0,
      "outputs": []
    },
    {
      "cell_type": "code",
      "metadata": {
        "id": "hIFQDSKb02vu",
        "colab_type": "code",
        "colab": {}
      },
      "source": [
        "pred1=rfr.fit(X,y).predict(test.drop('id',axis=1))"
      ],
      "execution_count": 0,
      "outputs": []
    },
    {
      "cell_type": "code",
      "metadata": {
        "id": "FRthLY3V7MNu",
        "colab_type": "code",
        "colab": {}
      },
      "source": [
        "pred2=dtree.fit(X,y).predict(test.drop('id',axis=1))"
      ],
      "execution_count": 0,
      "outputs": []
    },
    {
      "cell_type": "code",
      "metadata": {
        "id": "Db4aOQSgF-IW",
        "colab_type": "code",
        "colab": {}
      },
      "source": [
        "pred3=bgr.fit(X,y).predict(test.drop('id',axis=1))"
      ],
      "execution_count": 0,
      "outputs": []
    },
    {
      "cell_type": "code",
      "metadata": {
        "id": "Br2mYuveITXc",
        "colab_type": "code",
        "colab": {}
      },
      "source": [
        "pred4=adb.fit(X,y).predict(test.drop('id',axis=1))"
      ],
      "execution_count": 0,
      "outputs": []
    },
    {
      "cell_type": "code",
      "metadata": {
        "id": "JUzs2pAoLLk5",
        "colab_type": "code",
        "colab": {}
      },
      "source": [
        "pred5=knn.fit(X,y).predict(test.drop('id',axis=1))"
      ],
      "execution_count": 0,
      "outputs": []
    },
    {
      "cell_type": "code",
      "metadata": {
        "id": "qq_oreecPIQf",
        "colab_type": "code",
        "colab": {}
      },
      "source": [
        " my_submission = pd.DataFrame({'id': test.id, 'num_orders': pred})                                    # The RMSLE score is 208.3412399500686.\n",
        "# # you could use any filename. We choose submission here\n",
        " my_submission.to_csv('/content/drive/My Drive/Colab Notebooks/Unsupervised Learning Classification/Food Demand Forecasting/submission.csv', index=False)"
      ],
      "execution_count": 0,
      "outputs": []
    },
    {
      "cell_type": "code",
      "metadata": {
        "id": "5EBgo85bQG6w",
        "colab_type": "code",
        "colab": {}
      },
      "source": [
        " my_submission = pd.DataFrame({'id': test.id, 'num_orders': pred1})                                    # The RMSLE score is 63.9499966782511.\n",
        "# # you could use any filename. We choose submission here\n",
        " my_submission.to_csv('/content/drive/My Drive/Colab Notebooks/Unsupervised Learning Classification/Food Demand Forecasting/Random Forrest.csv', index=False)"
      ],
      "execution_count": 0,
      "outputs": []
    },
    {
      "cell_type": "code",
      "metadata": {
        "id": "MjRbzI3U51U3",
        "colab_type": "code",
        "colab": {}
      },
      "source": [
        " my_submission = pd.DataFrame({'id': test.id, 'num_orders': pred2})                                    # The RMSLE score is  77.14442046726796.\n",
        "# # you could use any filename. We choose submission here\n",
        " my_submission.to_csv('/content/drive/My Drive/Colab Notebooks/Unsupervised Learning Classification/Food Demand Forecasting/Decision Tree.csv', index=False)"
      ],
      "execution_count": 0,
      "outputs": []
    },
    {
      "cell_type": "code",
      "metadata": {
        "id": "eJZ1kn9aC3Yf",
        "colab_type": "code",
        "colab": {}
      },
      "source": [
        " my_submission = pd.DataFrame({'id': test.id, 'num_orders': pred3})                                    # The RMSLE score is   63.76057173615857.\n",
        "# # you could use any filename. We choose submission here\n",
        " my_submission.to_csv('/content/drive/My Drive/Colab Notebooks/Unsupervised Learning Classification/Food Demand Forecasting/Bagging Regressor.csv', index=False)"
      ],
      "execution_count": 0,
      "outputs": []
    },
    {
      "cell_type": "code",
      "metadata": {
        "id": "SHA3_Hi8Gef0",
        "colab_type": "code",
        "colab": {}
      },
      "source": [
        " my_submission = pd.DataFrame({'id': test.id, 'num_orders': pred4})                                    # The RMSLE score is   208.83782948422908.\n",
        "# # you could use any filename. We choose submission here\n",
        " my_submission.to_csv('/content/drive/My Drive/Colab Notebooks/Unsupervised Learning Classification/Food Demand Forecasting/Ada Boost Regressor.csv', index=False)"
      ],
      "execution_count": 0,
      "outputs": []
    },
    {
      "cell_type": "code",
      "metadata": {
        "id": "MxKTdX9PJ7oj",
        "colab_type": "code",
        "colab": {}
      },
      "source": [
        " my_submission = pd.DataFrame({'id': test.id, 'num_orders': pred5})                                    # The RMSLE score is    88.00705574236535.\n",
        "# # you could use any filename. We choose submission here\n",
        " my_submission.to_csv('/content/drive/My Drive/Colab Notebooks/Unsupervised Learning Classification/Food Demand Forecasting/K Nearest Neighbors Regressor.csv', index=False)"
      ],
      "execution_count": 0,
      "outputs": []
    },
    {
      "cell_type": "code",
      "metadata": {
        "id": "fzNYuw38L216",
        "colab_type": "code",
        "colab": {}
      },
      "source": [
        ""
      ],
      "execution_count": 0,
      "outputs": []
    }
  ]
}