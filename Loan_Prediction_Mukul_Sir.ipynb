{
  "nbformat": 4,
  "nbformat_minor": 0,
  "metadata": {
    "colab": {
      "name": "Loan_Prediction_Mukul_Sir.ipynb",
      "version": "0.3.2",
      "provenance": [],
      "collapsed_sections": [],
      "include_colab_link": true
    },
    "kernelspec": {
      "name": "python3",
      "display_name": "Python 3"
    }
  },
  "cells": [
    {
      "cell_type": "markdown",
      "metadata": {
        "id": "view-in-github",
        "colab_type": "text"
      },
      "source": [
        "<a href=\"https://colab.research.google.com/github/paragnayak/Data-Science/blob/master/Loan_Prediction_Mukul_Sir.ipynb\" target=\"_parent\"><img src=\"https://colab.research.google.com/assets/colab-badge.svg\" alt=\"Open In Colab\"/></a>"
      ]
    },
    {
      "cell_type": "code",
      "metadata": {
        "id": "GQ_PxCbwGrDk",
        "colab_type": "code",
        "outputId": "1c9e906a-1cca-4116-e1e3-c91cc4729a29",
        "colab": {
          "base_uri": "https://localhost:8080/",
          "height": 122
        }
      },
      "source": [
        "from google.colab import drive\n",
        "drive.mount('/content/drive')"
      ],
      "execution_count": 1,
      "outputs": [
        {
          "output_type": "stream",
          "text": [
            "Go to this URL in a browser: https://accounts.google.com/o/oauth2/auth?client_id=947318989803-6bn6qk8qdgf4n4g3pfee6491hc0brc4i.apps.googleusercontent.com&redirect_uri=urn%3Aietf%3Awg%3Aoauth%3A2.0%3Aoob&scope=email%20https%3A%2F%2Fwww.googleapis.com%2Fauth%2Fdocs.test%20https%3A%2F%2Fwww.googleapis.com%2Fauth%2Fdrive%20https%3A%2F%2Fwww.googleapis.com%2Fauth%2Fdrive.photos.readonly%20https%3A%2F%2Fwww.googleapis.com%2Fauth%2Fpeopleapi.readonly&response_type=code\n",
            "\n",
            "Enter your authorization code:\n",
            "··········\n",
            "Mounted at /content/drive\n"
          ],
          "name": "stdout"
        }
      ]
    },
    {
      "cell_type": "code",
      "metadata": {
        "id": "_WUpCZXi_6vw",
        "colab_type": "code",
        "colab": {}
      },
      "source": [
        "import pandas as pd \n",
        "import numpy as np\n",
        "import matplotlib.pyplot as plt\n",
        "from sklearn.preprocessing import LabelEncoder\n",
        "from sklearn.model_selection import train_test_split\n",
        "from sklearn.linear_model import LinearRegression\n",
        "from sklearn.metrics import mean_squared_error\n",
        "import seaborn as sns\n",
        "%matplotlib inline\n",
        "import warnings\n",
        "warnings.filterwarnings(\"ignore\")"
      ],
      "execution_count": 0,
      "outputs": []
    },
    {
      "cell_type": "markdown",
      "metadata": {
        "id": "9dGjBbU1B8br",
        "colab_type": "text"
      },
      "source": [
        "Problem Statement\n",
        "\n",
        "About Company\n",
        "\n",
        "Dream Housing Finance company deals in all home loans. They have presence across all urban, semi urban and rural areas. Customer first apply for home loan after that company validates the customer eligibility for loan.\n",
        "\n",
        "Problem\n",
        "\n",
        "Company wants to automate the loan eligibility process (real time) based on customer detail provided while filling online application form. These details are Gender, Marital Status, Education, Number of Dependents, Income, Loan Amount, Credit History and others. To automate this process, they have given a problem to identify the customers segments, those are eligible for loan amount so that they can specifically target these customers. Here they have provided a partial data set."
      ]
    },
    {
      "cell_type": "markdown",
      "metadata": {
        "id": "PDrBjkAUCDdi",
        "colab_type": "text"
      },
      "source": [
        "## Framing The Hypothesis\n",
        "\n",
        "1) Credit Score\n",
        "\n",
        "2) Income-Credited In Bank Account\n",
        "\n",
        "3) Recent Transactions List\n",
        "\n",
        "4) Salaried/Self-Employed\n",
        "\n",
        "5) Networth\n",
        "\n",
        "6) Industry-Govt or Private Sector\n",
        "\n",
        "7) Age of the Applicant\n",
        "\n",
        "8) Gurantor\n",
        "\n",
        "9) Loan Amount\n",
        "\n",
        "10) Education\n",
        "\n",
        "11) Marital Status\n",
        "\n",
        "12) Type Of Loan\n",
        "\n",
        "13) Gender\n",
        "\n",
        "14) Tenure of the Loan and ROI\n",
        "\n",
        "15) Regions\n",
        "\n",
        "16) Existing Loans and loan balance"
      ]
    },
    {
      "cell_type": "code",
      "metadata": {
        "id": "Du8R8GFc_-Gw",
        "colab_type": "code",
        "colab": {}
      },
      "source": [
        "train=pd.read_csv('/content/drive/My Drive/Colab Notebooks/Unsupervised Learning Classification/Loan Prediction/train_ctrUa4K.csv')"
      ],
      "execution_count": 0,
      "outputs": []
    },
    {
      "cell_type": "code",
      "metadata": {
        "id": "WAAGa5J7ABXe",
        "colab_type": "code",
        "colab": {}
      },
      "source": [
        "test=pd.read_csv('/content/drive/My Drive/Colab Notebooks/Unsupervised Learning Classification/Loan Prediction/test_lAUu6dG.csv')"
      ],
      "execution_count": 0,
      "outputs": []
    },
    {
      "cell_type": "code",
      "metadata": {
        "id": "oxy1I3hnBR0h",
        "colab_type": "code",
        "outputId": "7a026cac-683d-4cef-9995-3b2e654cfcdf",
        "colab": {
          "base_uri": "https://localhost:8080/",
          "height": 204
        }
      },
      "source": [
        "train.head()"
      ],
      "execution_count": 5,
      "outputs": [
        {
          "output_type": "execute_result",
          "data": {
            "text/html": [
              "<div>\n",
              "<style scoped>\n",
              "    .dataframe tbody tr th:only-of-type {\n",
              "        vertical-align: middle;\n",
              "    }\n",
              "\n",
              "    .dataframe tbody tr th {\n",
              "        vertical-align: top;\n",
              "    }\n",
              "\n",
              "    .dataframe thead th {\n",
              "        text-align: right;\n",
              "    }\n",
              "</style>\n",
              "<table border=\"1\" class=\"dataframe\">\n",
              "  <thead>\n",
              "    <tr style=\"text-align: right;\">\n",
              "      <th></th>\n",
              "      <th>Loan_ID</th>\n",
              "      <th>Gender</th>\n",
              "      <th>Married</th>\n",
              "      <th>Dependents</th>\n",
              "      <th>Education</th>\n",
              "      <th>Self_Employed</th>\n",
              "      <th>ApplicantIncome</th>\n",
              "      <th>CoapplicantIncome</th>\n",
              "      <th>LoanAmount</th>\n",
              "      <th>Loan_Amount_Term</th>\n",
              "      <th>Credit_History</th>\n",
              "      <th>Property_Area</th>\n",
              "      <th>Loan_Status</th>\n",
              "    </tr>\n",
              "  </thead>\n",
              "  <tbody>\n",
              "    <tr>\n",
              "      <th>0</th>\n",
              "      <td>LP001002</td>\n",
              "      <td>Male</td>\n",
              "      <td>No</td>\n",
              "      <td>0</td>\n",
              "      <td>Graduate</td>\n",
              "      <td>No</td>\n",
              "      <td>5849</td>\n",
              "      <td>0.0</td>\n",
              "      <td>NaN</td>\n",
              "      <td>360.0</td>\n",
              "      <td>1.0</td>\n",
              "      <td>Urban</td>\n",
              "      <td>Y</td>\n",
              "    </tr>\n",
              "    <tr>\n",
              "      <th>1</th>\n",
              "      <td>LP001003</td>\n",
              "      <td>Male</td>\n",
              "      <td>Yes</td>\n",
              "      <td>1</td>\n",
              "      <td>Graduate</td>\n",
              "      <td>No</td>\n",
              "      <td>4583</td>\n",
              "      <td>1508.0</td>\n",
              "      <td>128.0</td>\n",
              "      <td>360.0</td>\n",
              "      <td>1.0</td>\n",
              "      <td>Rural</td>\n",
              "      <td>N</td>\n",
              "    </tr>\n",
              "    <tr>\n",
              "      <th>2</th>\n",
              "      <td>LP001005</td>\n",
              "      <td>Male</td>\n",
              "      <td>Yes</td>\n",
              "      <td>0</td>\n",
              "      <td>Graduate</td>\n",
              "      <td>Yes</td>\n",
              "      <td>3000</td>\n",
              "      <td>0.0</td>\n",
              "      <td>66.0</td>\n",
              "      <td>360.0</td>\n",
              "      <td>1.0</td>\n",
              "      <td>Urban</td>\n",
              "      <td>Y</td>\n",
              "    </tr>\n",
              "    <tr>\n",
              "      <th>3</th>\n",
              "      <td>LP001006</td>\n",
              "      <td>Male</td>\n",
              "      <td>Yes</td>\n",
              "      <td>0</td>\n",
              "      <td>Not Graduate</td>\n",
              "      <td>No</td>\n",
              "      <td>2583</td>\n",
              "      <td>2358.0</td>\n",
              "      <td>120.0</td>\n",
              "      <td>360.0</td>\n",
              "      <td>1.0</td>\n",
              "      <td>Urban</td>\n",
              "      <td>Y</td>\n",
              "    </tr>\n",
              "    <tr>\n",
              "      <th>4</th>\n",
              "      <td>LP001008</td>\n",
              "      <td>Male</td>\n",
              "      <td>No</td>\n",
              "      <td>0</td>\n",
              "      <td>Graduate</td>\n",
              "      <td>No</td>\n",
              "      <td>6000</td>\n",
              "      <td>0.0</td>\n",
              "      <td>141.0</td>\n",
              "      <td>360.0</td>\n",
              "      <td>1.0</td>\n",
              "      <td>Urban</td>\n",
              "      <td>Y</td>\n",
              "    </tr>\n",
              "  </tbody>\n",
              "</table>\n",
              "</div>"
            ],
            "text/plain": [
              "    Loan_ID Gender Married  ... Credit_History Property_Area Loan_Status\n",
              "0  LP001002   Male      No  ...            1.0         Urban           Y\n",
              "1  LP001003   Male     Yes  ...            1.0         Rural           N\n",
              "2  LP001005   Male     Yes  ...            1.0         Urban           Y\n",
              "3  LP001006   Male     Yes  ...            1.0         Urban           Y\n",
              "4  LP001008   Male      No  ...            1.0         Urban           Y\n",
              "\n",
              "[5 rows x 13 columns]"
            ]
          },
          "metadata": {
            "tags": []
          },
          "execution_count": 5
        }
      ]
    },
    {
      "cell_type": "markdown",
      "metadata": {
        "id": "9swW3PnaDyT_",
        "colab_type": "text"
      },
      "source": [
        "# Exploring the Dataset"
      ]
    },
    {
      "cell_type": "code",
      "metadata": {
        "id": "cwx9ncQUDiKG",
        "colab_type": "code",
        "outputId": "23791699-2926-4222-8fe0-65326aede9b9",
        "colab": {
          "base_uri": "https://localhost:8080/",
          "height": 51
        }
      },
      "source": [
        "print('The Total Rows are ', train.shape[0],'in train set and',test.shape[0],'in test set')\n",
        "print('The Total Columns are ', train.shape[1],'in train set and',test.shape[1],'in test set')"
      ],
      "execution_count": 6,
      "outputs": [
        {
          "output_type": "stream",
          "text": [
            "The Total Rows are  614 in train set and 367 in test set\n",
            "The Total Columns are  13 in train set and 12 in test set\n"
          ],
          "name": "stdout"
        }
      ]
    },
    {
      "cell_type": "code",
      "metadata": {
        "id": "hjrn5d0iEIiE",
        "colab_type": "code",
        "outputId": "38943e70-7842-4ee3-c8c4-be407ed4d74c",
        "colab": {
          "base_uri": "https://localhost:8080/",
          "height": 323
        }
      },
      "source": [
        "train.info()"
      ],
      "execution_count": 7,
      "outputs": [
        {
          "output_type": "stream",
          "text": [
            "<class 'pandas.core.frame.DataFrame'>\n",
            "RangeIndex: 614 entries, 0 to 613\n",
            "Data columns (total 13 columns):\n",
            "Loan_ID              614 non-null object\n",
            "Gender               601 non-null object\n",
            "Married              611 non-null object\n",
            "Dependents           599 non-null object\n",
            "Education            614 non-null object\n",
            "Self_Employed        582 non-null object\n",
            "ApplicantIncome      614 non-null int64\n",
            "CoapplicantIncome    614 non-null float64\n",
            "LoanAmount           592 non-null float64\n",
            "Loan_Amount_Term     600 non-null float64\n",
            "Credit_History       564 non-null float64\n",
            "Property_Area        614 non-null object\n",
            "Loan_Status          614 non-null object\n",
            "dtypes: float64(4), int64(1), object(8)\n",
            "memory usage: 62.4+ KB\n"
          ],
          "name": "stdout"
        }
      ]
    },
    {
      "cell_type": "markdown",
      "metadata": {
        "id": "UVGjloF_EYWY",
        "colab_type": "text"
      },
      "source": [
        "# Univariate Analysis"
      ]
    },
    {
      "cell_type": "code",
      "metadata": {
        "id": "hnjCz6yWES9b",
        "colab_type": "code",
        "outputId": "f20ec605-c16d-4db2-d148-d034f6add5f8",
        "colab": {
          "base_uri": "https://localhost:8080/",
          "height": 85
        }
      },
      "source": [
        "train.columns"
      ],
      "execution_count": 8,
      "outputs": [
        {
          "output_type": "execute_result",
          "data": {
            "text/plain": [
              "Index(['Loan_ID', 'Gender', 'Married', 'Dependents', 'Education',\n",
              "       'Self_Employed', 'ApplicantIncome', 'CoapplicantIncome', 'LoanAmount',\n",
              "       'Loan_Amount_Term', 'Credit_History', 'Property_Area', 'Loan_Status'],\n",
              "      dtype='object')"
            ]
          },
          "metadata": {
            "tags": []
          },
          "execution_count": 8
        }
      ]
    },
    {
      "cell_type": "code",
      "metadata": {
        "id": "clCnu4OREdtl",
        "colab_type": "code",
        "outputId": "b6f2a8de-4319-4a20-830b-f6586cdf43c2",
        "colab": {
          "base_uri": "https://localhost:8080/",
          "height": 463
        }
      },
      "source": [
        "# Independent variables and categorical\n",
        "plt.figure(1)\n",
        "plt.figure(figsize=[7,7])\n",
        "plt.subplot(221) # PLot address 221\n",
        "sns.countplot(train.Gender)\n",
        "plt.subplot(222) # PLot address 222\n",
        "sns.countplot(train.Married)\n",
        "plt.subplot(223) # PLot address 223\n",
        "sns.countplot(train.Dependents)\n",
        "plt.subplot(224) # PLot address 224\n",
        "sns.countplot(train.Education)\n",
        "\n",
        "plt.show()"
      ],
      "execution_count": 9,
      "outputs": [
        {
          "output_type": "display_data",
          "data": {
            "text/plain": [
              "<Figure size 432x288 with 0 Axes>"
            ]
          },
          "metadata": {
            "tags": []
          }
        },
        {
          "output_type": "display_data",
          "data": {
            "image/png": "[encoded data removed]",
            "text/plain": [
              "<Figure size 504x504 with 4 Axes>"
            ]
          },
          "metadata": {
            "tags": []
          }
        }
      ]
    },
    {
      "cell_type": "markdown",
      "metadata": {
        "id": "4TgXcSheGMCi",
        "colab_type": "text"
      },
      "source": [
        "## Observations\n",
        "\n",
        "1) More Males in comparison to Females i.e. 81% are males and 19% are females.\n",
        "\n",
        "\n",
        "2) Married People count is more in comparison to Bachelors/Spinsters. 65% if them are married and 35% of them are unmarried.\n",
        "\n",
        "3) In dependents, The count of 0 is more. 57% of them dont have kids\n",
        "\n",
        "4) The Level of Education is Higher. 78% of them are graduates\n",
        "\n",
        "5) 14% People are Self-Employed  whereas 86% arent\n",
        "\n",
        "6) 84% people have 1s and 16% people have 0s\n",
        "\n",
        "7) 38% are semi_Urban,33% are URban and 29% are Rural\n"
      ]
    },
    {
      "cell_type": "code",
      "metadata": {
        "id": "WQSwbWhNFLbX",
        "colab_type": "code",
        "outputId": "6ac67bf9-b75f-4653-e87e-57fb5bebb63d",
        "colab": {
          "base_uri": "https://localhost:8080/",
          "height": 68
        }
      },
      "source": [
        "#ratio of females vs males\n",
        "train.Gender.value_counts(normalize=True)"
      ],
      "execution_count": 10,
      "outputs": [
        {
          "output_type": "execute_result",
          "data": {
            "text/plain": [
              "Male      0.813644\n",
              "Female    0.186356\n",
              "Name: Gender, dtype: float64"
            ]
          },
          "metadata": {
            "tags": []
          },
          "execution_count": 10
        }
      ]
    },
    {
      "cell_type": "code",
      "metadata": {
        "id": "VCp2NcoCGobT",
        "colab_type": "code",
        "outputId": "ade3286c-1d10-460a-fed5-8c931d90275a",
        "colab": {
          "base_uri": "https://localhost:8080/",
          "height": 68
        }
      },
      "source": [
        "train.Married.value_counts(normalize=True)"
      ],
      "execution_count": 11,
      "outputs": [
        {
          "output_type": "execute_result",
          "data": {
            "text/plain": [
              "Yes    0.651391\n",
              "No     0.348609\n",
              "Name: Married, dtype: float64"
            ]
          },
          "metadata": {
            "tags": []
          },
          "execution_count": 11
        }
      ]
    },
    {
      "cell_type": "code",
      "metadata": {
        "id": "bE-TVeBIGsMv",
        "colab_type": "code",
        "outputId": "eb5b95ff-e277-4cd9-f5fa-ea3cd710bd02",
        "colab": {
          "base_uri": "https://localhost:8080/",
          "height": 102
        }
      },
      "source": [
        "train.Dependents.value_counts(normalize=True)"
      ],
      "execution_count": 12,
      "outputs": [
        {
          "output_type": "execute_result",
          "data": {
            "text/plain": [
              "0     0.575960\n",
              "1     0.170284\n",
              "2     0.168614\n",
              "3+    0.085142\n",
              "Name: Dependents, dtype: float64"
            ]
          },
          "metadata": {
            "tags": []
          },
          "execution_count": 12
        }
      ]
    },
    {
      "cell_type": "code",
      "metadata": {
        "id": "COP2ComdGupk",
        "colab_type": "code",
        "outputId": "5e18995c-db4f-42d1-ebd5-2322986e785d",
        "colab": {
          "base_uri": "https://localhost:8080/",
          "height": 68
        }
      },
      "source": [
        "train.Education.value_counts(normalize=True)"
      ],
      "execution_count": 13,
      "outputs": [
        {
          "output_type": "execute_result",
          "data": {
            "text/plain": [
              "Graduate        0.781759\n",
              "Not Graduate    0.218241\n",
              "Name: Education, dtype: float64"
            ]
          },
          "metadata": {
            "tags": []
          },
          "execution_count": 13
        }
      ]
    },
    {
      "cell_type": "code",
      "metadata": {
        "id": "A0gLzI4GGzd7",
        "colab_type": "code",
        "outputId": "065f434d-95dd-4fe7-a9eb-65b2beba5f55",
        "colab": {
          "base_uri": "https://localhost:8080/",
          "height": 610
        }
      },
      "source": [
        "# Independent Categorical Variables\n",
        "plt.figure(figsize=[10,10])\n",
        "plt.subplot(221)\n",
        "sns.countplot(train.Self_Employed)\n",
        "plt.subplot(222)\n",
        "sns.countplot(train.Credit_History)\n",
        "plt.subplot(223)\n",
        "sns.countplot(train.Property_Area)\n",
        "plt.show()"
      ],
      "execution_count": 14,
      "outputs": [
        {
          "output_type": "display_data",
          "data": {
            "image/png": "[encoded data removed]",
            "text/plain": [
              "<Figure size 720x720 with 3 Axes>"
            ]
          },
          "metadata": {
            "tags": []
          }
        }
      ]
    },
    {
      "cell_type": "code",
      "metadata": {
        "id": "XOL3A1X-H0nx",
        "colab_type": "code",
        "outputId": "1124a11e-2776-470c-f2cc-707d19e37a92",
        "colab": {
          "base_uri": "https://localhost:8080/",
          "height": 68
        }
      },
      "source": [
        "train.Self_Employed.value_counts(normalize=True)"
      ],
      "execution_count": 15,
      "outputs": [
        {
          "output_type": "execute_result",
          "data": {
            "text/plain": [
              "No     0.859107\n",
              "Yes    0.140893\n",
              "Name: Self_Employed, dtype: float64"
            ]
          },
          "metadata": {
            "tags": []
          },
          "execution_count": 15
        }
      ]
    },
    {
      "cell_type": "code",
      "metadata": {
        "id": "3yg80sn1Iu-S",
        "colab_type": "code",
        "outputId": "50aadc22-8846-4f7b-fea0-7d481392935d",
        "colab": {
          "base_uri": "https://localhost:8080/",
          "height": 85
        }
      },
      "source": [
        "train.Property_Area.value_counts(normalize=True)"
      ],
      "execution_count": 16,
      "outputs": [
        {
          "output_type": "execute_result",
          "data": {
            "text/plain": [
              "Semiurban    0.379479\n",
              "Urban        0.328990\n",
              "Rural        0.291531\n",
              "Name: Property_Area, dtype: float64"
            ]
          },
          "metadata": {
            "tags": []
          },
          "execution_count": 16
        }
      ]
    },
    {
      "cell_type": "code",
      "metadata": {
        "id": "kgbZbEG2I1YC",
        "colab_type": "code",
        "outputId": "ed6233ec-2e27-4b8a-f4ac-c07a4d6a08b4",
        "colab": {
          "base_uri": "https://localhost:8080/",
          "height": 68
        }
      },
      "source": [
        "train.Credit_History.value_counts(normalize=True)"
      ],
      "execution_count": 17,
      "outputs": [
        {
          "output_type": "execute_result",
          "data": {
            "text/plain": [
              "1.0    0.842199\n",
              "0.0    0.157801\n",
              "Name: Credit_History, dtype: float64"
            ]
          },
          "metadata": {
            "tags": []
          },
          "execution_count": 17
        }
      ]
    },
    {
      "cell_type": "code",
      "metadata": {
        "id": "3EHp5OxcJpGN",
        "colab_type": "code",
        "outputId": "12648f4a-d3f1-44cb-c49b-6e4fc6fe35b5",
        "colab": {
          "base_uri": "https://localhost:8080/",
          "height": 330
        }
      },
      "source": [
        "# Applicant Income\n",
        "plt.figure(1)\n",
        "plt.figure(figsize=[10,10])\n",
        "plt.subplot(221)\n",
        "sns.distplot(train.ApplicantIncome)\n",
        "#plt.title('Distplot: Applicant Income')\n",
        "\n",
        "plt.subplot(222)\n",
        "sns.boxplot(y=train.ApplicantIncome,x=train.Loan_Status)\n",
        "#plt.title('Applicant Income Boxplot')\n",
        "plt.show()"
      ],
      "execution_count": 18,
      "outputs": [
        {
          "output_type": "display_data",
          "data": {
            "text/plain": [
              "<Figure size 432x288 with 0 Axes>"
            ]
          },
          "metadata": {
            "tags": []
          }
        },
        {
          "output_type": "display_data",
          "data": {
            "image/png": "[encoded data removed]",
            "text/plain": [
              "<Figure size 720x720 with 2 Axes>"
            ]
          },
          "metadata": {
            "tags": []
          }
        }
      ]
    },
    {
      "cell_type": "code",
      "metadata": {
        "id": "Axx6MZrcLCEZ",
        "colab_type": "code",
        "outputId": "93e8c3b1-7efe-426e-b9c8-534276321ff5",
        "colab": {
          "base_uri": "https://localhost:8080/",
          "height": 170
        }
      },
      "source": [
        "\n",
        "train.ApplicantIncome.describe()"
      ],
      "execution_count": 19,
      "outputs": [
        {
          "output_type": "execute_result",
          "data": {
            "text/plain": [
              "count      614.000000\n",
              "mean      5403.459283\n",
              "std       6109.041673\n",
              "min        150.000000\n",
              "25%       2877.500000\n",
              "50%       3812.500000\n",
              "75%       5795.000000\n",
              "max      81000.000000\n",
              "Name: ApplicantIncome, dtype: float64"
            ]
          },
          "metadata": {
            "tags": []
          },
          "execution_count": 19
        }
      ]
    },
    {
      "cell_type": "markdown",
      "metadata": {
        "id": "BxA-VH_3LqqA",
        "colab_type": "text"
      },
      "source": [
        "# Observation\n",
        "\n",
        "Applicant Income appears to be skewed in nature and then can be log transformed to bring it in the normal state.\n",
        "\n",
        "The Boxplot in the other side explains the existence of the outlier in the income. This shows that there is disparity in the income in society"
      ]
    },
    {
      "cell_type": "code",
      "metadata": {
        "id": "ylB7-NFVNWZl",
        "colab_type": "code",
        "outputId": "818ccc82-e5b7-4ed7-ad8a-99af04decda3",
        "colab": {
          "base_uri": "https://localhost:8080/",
          "height": 330
        }
      },
      "source": [
        "# CoApplicant Income\n",
        "plt.figure(1)\n",
        "plt.figure(figsize=[10,10])\n",
        "plt.subplot(221)\n",
        "sns.distplot(train.CoapplicantIncome)\n",
        "#plt.title('Distplot: Applicant Income')\n",
        "\n",
        "plt.subplot(222)\n",
        "sns.boxplot(y=train.CoapplicantIncome,x=train.Loan_Status)\n",
        "#plt.title('Applicant Income Boxplot')\n",
        "plt.show()"
      ],
      "execution_count": 20,
      "outputs": [
        {
          "output_type": "display_data",
          "data": {
            "text/plain": [
              "<Figure size 432x288 with 0 Axes>"
            ]
          },
          "metadata": {
            "tags": []
          }
        },
        {
          "output_type": "display_data",
          "data": {
            "image/png": "[encoded data removed]",
            "text/plain": [
              "<Figure size 720x720 with 2 Axes>"
            ]
          },
          "metadata": {
            "tags": []
          }
        }
      ]
    },
    {
      "cell_type": "code",
      "metadata": {
        "id": "CiVhDFfWMR3P",
        "colab_type": "code",
        "outputId": "034fd815-3bc5-4015-8634-b791822ce8a8",
        "colab": {
          "base_uri": "https://localhost:8080/",
          "height": 283
        }
      },
      "source": [
        "# education\n",
        "sns.boxplot(y=train.CoapplicantIncome,x=train.Education)\n",
        "#train.boxplot(column=\"ApplicantIncome\", by='Education')\n",
        "#plt.suptitle(\" \")\n",
        "plt.show()"
      ],
      "execution_count": 21,
      "outputs": [
        {
          "output_type": "display_data",
          "data": {
            "image/png": "[encoded data removed]",
            "text/plain": [
              "<Figure size 432x288 with 1 Axes>"
            ]
          },
          "metadata": {
            "tags": []
          }
        }
      ]
    },
    {
      "cell_type": "code",
      "metadata": {
        "id": "PAhialDjPBfi",
        "colab_type": "code",
        "outputId": "a4b34a53-f137-4fd4-c869-851524ae92b6",
        "colab": {
          "base_uri": "https://localhost:8080/",
          "height": 170
        }
      },
      "source": [
        "train.CoapplicantIncome.describe()"
      ],
      "execution_count": 24,
      "outputs": [
        {
          "output_type": "execute_result",
          "data": {
            "text/plain": [
              "count      614.000000\n",
              "mean      1621.245798\n",
              "std       2926.248369\n",
              "min          0.000000\n",
              "25%          0.000000\n",
              "50%       1188.500000\n",
              "75%       2297.250000\n",
              "max      41667.000000\n",
              "Name: CoapplicantIncome, dtype: float64"
            ]
          },
          "metadata": {
            "tags": []
          },
          "execution_count": 24
        }
      ]
    },
    {
      "cell_type": "markdown",
      "metadata": {
        "id": "n5uPROqpM-6A",
        "colab_type": "text"
      },
      "source": [
        "# Observations\n",
        "\n",
        "Graduates are commanding a better pay packet in comparison to Non Grads\n",
        "\n",
        "majority of co applicants income is of 5K\n"
      ]
    },
    {
      "cell_type": "code",
      "metadata": {
        "id": "_LaSC-0aNMRu",
        "colab_type": "code",
        "outputId": "8df74f03-0133-4596-fe6e-bc56b88d6be8",
        "colab": {
          "base_uri": "https://localhost:8080/",
          "height": 283
        }
      },
      "source": [
        "sns.boxplot(y=train.CoapplicantIncome,x=train.Education)\n",
        "#train.boxplot(column=\"ApplicantIncome\", by='Education')\n",
        "#plt.suptitle(\" \")\n",
        "plt.show()"
      ],
      "execution_count": 25,
      "outputs": [
        {
          "output_type": "display_data",
          "data": {
            "image/png": "[encoded data removed]",
            "text/plain": [
              "<Figure size 432x288 with 1 Axes>"
            ]
          },
          "metadata": {
            "tags": []
          }
        }
      ]
    },
    {
      "cell_type": "markdown",
      "metadata": {
        "id": "YKXwZ-CfPXgF",
        "colab_type": "text"
      },
      "source": [
        "# Bi Variate Analysis"
      ]
    },
    {
      "cell_type": "code",
      "metadata": {
        "id": "Bt3P_ljUV-OD",
        "colab_type": "code",
        "outputId": "8513e106-84e5-40a3-98cc-7dd1986de3e8",
        "colab": {
          "base_uri": "https://localhost:8080/",
          "height": 284
        }
      },
      "source": [
        "# Applicant Income vs Loan status\n",
        "sns.boxplot(x=train.Loan_Status,y=train.ApplicantIncome)\n",
        "plt.show()"
      ],
      "execution_count": 26,
      "outputs": [
        {
          "output_type": "display_data",
          "data": {
            "image/png": "[encoded data removed]",
            "text/plain": [
              "<Figure size 432x288 with 1 Axes>"
            ]
          },
          "metadata": {
            "tags": []
          }
        }
      ]
    },
    {
      "cell_type": "markdown",
      "metadata": {
        "id": "639un3WJWYjT",
        "colab_type": "text"
      },
      "source": [
        "Good Acceptance Score for High Income group in comparison to low income\n"
      ]
    },
    {
      "cell_type": "code",
      "metadata": {
        "id": "SrHUknpRWe0H",
        "colab_type": "code",
        "outputId": "a563723e-0368-4e5f-f240-894434b3c2f5",
        "colab": {
          "base_uri": "https://localhost:8080/",
          "height": 1000
        }
      },
      "source": [
        "plt.figure(1)\n",
        "\n",
        "gender=pd.crosstab(train.Gender,train.Loan_Status)\n",
        "gender.plot(kind='bar')\n",
        "\n",
        "\n",
        "edu=pd.crosstab(train.Education,train.Loan_Status)\n",
        "edu.plot(kind='bar')\n",
        "\n",
        "cred=pd.crosstab(train.Credit_History,train.Loan_Status)\n",
        "cred.plot(kind='bar')\n",
        "\n",
        "prop=pd.crosstab(train.Property_Area,train.Loan_Status)\n",
        "prop.plot(kind='bar')\n",
        "\n",
        "plt.show()"
      ],
      "execution_count": 27,
      "outputs": [
        {
          "output_type": "display_data",
          "data": {
            "text/plain": [
              "<Figure size 432x288 with 0 Axes>"
            ]
          },
          "metadata": {
            "tags": []
          }
        },
        {
          "output_type": "display_data",
          "data": {
            "image/png": "[encoded data removed]",
            "text/plain": [
              "<Figure size 432x288 with 1 Axes>"
            ]
          },
          "metadata": {
            "tags": []
          }
        },
        {
          "output_type": "display_data",
          "data": {
            "image/png": "[encoded data removed]",
            "text/plain": [
              "<Figure size 432x288 with 1 Axes>"
            ]
          },
          "metadata": {
            "tags": []
          }
        },
        {
          "output_type": "display_data",
          "data": {
            "image/png": "[encoded data removed]",
            "text/plain": [
              "<Figure size 432x288 with 1 Axes>"
            ]
          },
          "metadata": {
            "tags": []
          }
        },
        {
          "output_type": "display_data",
          "data": {
            "image/png": "[encoded data removed]",
            "text/plain": [
              "<Figure size 432x288 with 1 Axes>"
            ]
          },
          "metadata": {
            "tags": []
          }
        }
      ]
    },
    {
      "cell_type": "markdown",
      "metadata": {
        "id": "MKcC_iH1W81S",
        "colab_type": "text"
      },
      "source": [
        "# Observations  Gender Vs Loan Status\n",
        "\n",
        "1) Males get more loans in comparison to females\n",
        "\n",
        "2) Graduates get more loans then Non grads\n",
        "\n",
        "3) High Loan Frequency for the people having Credit History of 1.0\n",
        "\n",
        "4) Priority of disbursal of loan is more on Semi-Urban and then Urban...\n"
      ]
    },
    {
      "cell_type": "code",
      "metadata": {
        "id": "krfpaWVMYp6h",
        "colab_type": "code",
        "outputId": "64faf470-7978-43df-f8d9-43201fdb040f",
        "colab": {
          "base_uri": "https://localhost:8080/",
          "height": 102
        }
      },
      "source": [
        "# Dependents\n",
        "train.Dependents.value_counts() # Rectify 3+ to 3"
      ],
      "execution_count": 28,
      "outputs": [
        {
          "output_type": "execute_result",
          "data": {
            "text/plain": [
              "0     345\n",
              "1     102\n",
              "2     101\n",
              "3+     51\n",
              "Name: Dependents, dtype: int64"
            ]
          },
          "metadata": {
            "tags": []
          },
          "execution_count": 28
        }
      ]
    },
    {
      "cell_type": "code",
      "metadata": {
        "id": "CL37FXDTYwuI",
        "colab_type": "code",
        "colab": {}
      },
      "source": [
        "\n",
        "train.Dependents.replace(to_replace='3+',value=3,inplace=True)"
      ],
      "execution_count": 0,
      "outputs": []
    },
    {
      "cell_type": "code",
      "metadata": {
        "id": "76QpYSOzY_Yw",
        "colab_type": "code",
        "outputId": "502ab346-109a-4ae8-b48c-176f6a249d0b",
        "colab": {
          "base_uri": "https://localhost:8080/",
          "height": 102
        }
      },
      "source": [
        "train.Dependents.value_counts()"
      ],
      "execution_count": 30,
      "outputs": [
        {
          "output_type": "execute_result",
          "data": {
            "text/plain": [
              "0    345\n",
              "1    102\n",
              "2    101\n",
              "3     51\n",
              "Name: Dependents, dtype: int64"
            ]
          },
          "metadata": {
            "tags": []
          },
          "execution_count": 30
        }
      ]
    },
    {
      "cell_type": "code",
      "metadata": {
        "id": "fOvLC7kGZbvX",
        "colab_type": "code",
        "colab": {}
      },
      "source": [
        "# # finding the co-relation\n",
        "correls=train.corr()"
      ],
      "execution_count": 0,
      "outputs": []
    },
    {
      "cell_type": "code",
      "metadata": {
        "id": "Ucnyf3RyZ2uO",
        "colab_type": "code",
        "outputId": "b1436ec8-ac99-4d71-e85f-1aeba841b71a",
        "colab": {
          "base_uri": "https://localhost:8080/",
          "height": 375
        }
      },
      "source": [
        "\n",
        "sns.heatmap(correls,annot=True)"
      ],
      "execution_count": 32,
      "outputs": [
        {
          "output_type": "execute_result",
          "data": {
            "text/plain": [
              "<matplotlib.axes._subplots.AxesSubplot at 0x7f42c598df28>"
            ]
          },
          "metadata": {
            "tags": []
          },
          "execution_count": 32
        },
        {
          "output_type": "display_data",
          "data": {
            "image/png": "[encoded data removed]",
            "text/plain": [
              "<Figure size 432x288 with 2 Axes>"
            ]
          },
          "metadata": {
            "tags": []
          }
        }
      ]
    },
    {
      "cell_type": "markdown",
      "metadata": {
        "id": "VOTQCxV-aWgW",
        "colab_type": "text"
      },
      "source": [
        "Correlations found out between Loan Amount and Applicant Income[0.57]\n",
        "\n",
        "Also found the corelatrion between Loan Amount and Co-Applicant Income [0.19]"
      ]
    },
    {
      "cell_type": "markdown",
      "metadata": {
        "id": "HvX_Apv0JdtE",
        "colab_type": "text"
      },
      "source": [
        "# Numerical Variables"
      ]
    },
    {
      "cell_type": "code",
      "metadata": {
        "id": "V-CwTIrjI5Oa",
        "colab_type": "code",
        "outputId": "1dbd85ab-b132-4d84-a629-ac0f8958314a",
        "colab": {
          "base_uri": "https://localhost:8080/",
          "height": 255
        }
      },
      "source": [
        "train.isnull().sum()"
      ],
      "execution_count": 33,
      "outputs": [
        {
          "output_type": "execute_result",
          "data": {
            "text/plain": [
              "Loan_ID               0\n",
              "Gender               13\n",
              "Married               3\n",
              "Dependents           15\n",
              "Education             0\n",
              "Self_Employed        32\n",
              "ApplicantIncome       0\n",
              "CoapplicantIncome     0\n",
              "LoanAmount           22\n",
              "Loan_Amount_Term     14\n",
              "Credit_History       50\n",
              "Property_Area         0\n",
              "Loan_Status           0\n",
              "dtype: int64"
            ]
          },
          "metadata": {
            "tags": []
          },
          "execution_count": 33
        }
      ]
    },
    {
      "cell_type": "code",
      "metadata": {
        "id": "whCIsbW9Jlys",
        "colab_type": "code",
        "outputId": "90ebc61d-f0dc-4b96-af92-52f1a07ed73a",
        "colab": {
          "base_uri": "https://localhost:8080/",
          "height": 238
        }
      },
      "source": [
        "test.isnull().sum()"
      ],
      "execution_count": 34,
      "outputs": [
        {
          "output_type": "execute_result",
          "data": {
            "text/plain": [
              "Loan_ID               0\n",
              "Gender               11\n",
              "Married               0\n",
              "Dependents           10\n",
              "Education             0\n",
              "Self_Employed        23\n",
              "ApplicantIncome       0\n",
              "CoapplicantIncome     0\n",
              "LoanAmount            5\n",
              "Loan_Amount_Term      6\n",
              "Credit_History       29\n",
              "Property_Area         0\n",
              "dtype: int64"
            ]
          },
          "metadata": {
            "tags": []
          },
          "execution_count": 34
        }
      ]
    },
    {
      "cell_type": "code",
      "metadata": {
        "id": "x84tDUkva0_r",
        "colab_type": "code",
        "colab": {}
      },
      "source": [
        "train.Gender.fillna(train.Gender.mode()[0],inplace=True)\n",
        "train.Married.fillna(train.Married.mode()[0],inplace=True)\n",
        "train.Dependents.fillna(train.Dependents.mode()[0],inplace=True)\n",
        "train.Self_Employed.fillna(train.Self_Employed.mode()[0],inplace=True)\n",
        "train.Credit_History.fillna(train.Credit_History.mode()[0],inplace=True)\n",
        "train.Loan_Amount_Term.fillna(train.Loan_Amount_Term.mode()[0],inplace=True)\n",
        "train.LoanAmount.fillna(128,inplace=True)"
      ],
      "execution_count": 0,
      "outputs": []
    },
    {
      "cell_type": "code",
      "metadata": {
        "id": "qCHhWx7Bcdjb",
        "colab_type": "code",
        "colab": {}
      },
      "source": [
        "test.Gender.fillna(test.Gender.mode()[0],inplace=True)\n",
        "test.Dependents.fillna(test.Dependents.mode()[0],inplace=True)\n",
        "test.Self_Employed.fillna(test.Self_Employed.mode()[0],inplace=True)\n",
        "test.Credit_History.fillna(test.Credit_History.mode()[0],inplace=True)\n",
        "test.Loan_Amount_Term.fillna(test.Loan_Amount_Term.mode()[0],inplace=True)\n",
        "test.LoanAmount.fillna(125,inplace=True)"
      ],
      "execution_count": 0,
      "outputs": []
    },
    {
      "cell_type": "code",
      "metadata": {
        "id": "o58asBdmdVY0",
        "colab_type": "code",
        "outputId": "3b23d027-6558-441e-dfff-f6a2d1a2df6f",
        "colab": {
          "base_uri": "https://localhost:8080/",
          "height": 255
        }
      },
      "source": [
        "train.isnull().sum()"
      ],
      "execution_count": 37,
      "outputs": [
        {
          "output_type": "execute_result",
          "data": {
            "text/plain": [
              "Loan_ID              0\n",
              "Gender               0\n",
              "Married              0\n",
              "Dependents           0\n",
              "Education            0\n",
              "Self_Employed        0\n",
              "ApplicantIncome      0\n",
              "CoapplicantIncome    0\n",
              "LoanAmount           0\n",
              "Loan_Amount_Term     0\n",
              "Credit_History       0\n",
              "Property_Area        0\n",
              "Loan_Status          0\n",
              "dtype: int64"
            ]
          },
          "metadata": {
            "tags": []
          },
          "execution_count": 37
        }
      ]
    },
    {
      "cell_type": "code",
      "metadata": {
        "id": "mpo6bvLwdX6G",
        "colab_type": "code",
        "outputId": "e6ff6908-8819-4b94-cfe3-c6e7e06c4323",
        "colab": {
          "base_uri": "https://localhost:8080/",
          "height": 238
        }
      },
      "source": [
        "test.isnull().sum()"
      ],
      "execution_count": 38,
      "outputs": [
        {
          "output_type": "execute_result",
          "data": {
            "text/plain": [
              "Loan_ID              0\n",
              "Gender               0\n",
              "Married              0\n",
              "Dependents           0\n",
              "Education            0\n",
              "Self_Employed        0\n",
              "ApplicantIncome      0\n",
              "CoapplicantIncome    0\n",
              "LoanAmount           0\n",
              "Loan_Amount_Term     0\n",
              "Credit_History       0\n",
              "Property_Area        0\n",
              "dtype: int64"
            ]
          },
          "metadata": {
            "tags": []
          },
          "execution_count": 38
        }
      ]
    },
    {
      "cell_type": "markdown",
      "metadata": {
        "id": "ZxnX_w8i5fTW",
        "colab_type": "text"
      },
      "source": [
        "# Exploratory Data Analysis"
      ]
    },
    {
      "cell_type": "code",
      "metadata": {
        "id": "XdDjwWQwdh_Z",
        "colab_type": "code",
        "outputId": "ec8d8295-3637-41a8-99a6-367a75c93eb6",
        "colab": {
          "base_uri": "https://localhost:8080/",
          "height": 255
        }
      },
      "source": [
        "# Checking for the unique values \n",
        "train.nunique() "
      ],
      "execution_count": 39,
      "outputs": [
        {
          "output_type": "execute_result",
          "data": {
            "text/plain": [
              "Loan_ID              614\n",
              "Gender                 2\n",
              "Married                2\n",
              "Dependents             4\n",
              "Education              2\n",
              "Self_Employed          2\n",
              "ApplicantIncome      505\n",
              "CoapplicantIncome    287\n",
              "LoanAmount           203\n",
              "Loan_Amount_Term      10\n",
              "Credit_History         2\n",
              "Property_Area          3\n",
              "Loan_Status            2\n",
              "dtype: int64"
            ]
          },
          "metadata": {
            "tags": []
          },
          "execution_count": 39
        }
      ]
    },
    {
      "cell_type": "markdown",
      "metadata": {
        "id": "O4Mt-f7bEJuj",
        "colab_type": "text"
      },
      "source": [
        "## Observations\n",
        "\n",
        "As we can see that the loan_id does not contain any duplicate values.\n"
      ]
    },
    {
      "cell_type": "code",
      "metadata": {
        "id": "JnokM0xHD_A9",
        "colab_type": "code",
        "colab": {}
      },
      "source": [
        "def loan_stats(x):\n",
        "  if (x=='Y'):\n",
        "    return (1)\n",
        "  else:\n",
        "    return(0)"
      ],
      "execution_count": 0,
      "outputs": []
    },
    {
      "cell_type": "code",
      "metadata": {
        "id": "15YZzHHmJKrT",
        "colab_type": "code",
        "colab": {}
      },
      "source": [
        "train['Loan_Status']=train.Loan_Status.apply(loan_stats)"
      ],
      "execution_count": 0,
      "outputs": []
    },
    {
      "cell_type": "markdown",
      "metadata": {
        "id": "K5OKKeDsLhjM",
        "colab_type": "text"
      },
      "source": [
        "## Feature Engineering\n",
        "\n",
        "1) Creating a new column EMI"
      ]
    },
    {
      "cell_type": "code",
      "metadata": {
        "id": "U5-V7eSOJV5d",
        "colab_type": "code",
        "colab": {}
      },
      "source": [
        "train['EMI']=round((train.LoanAmount*1000)/train.Loan_Amount_Term,2)"
      ],
      "execution_count": 0,
      "outputs": []
    },
    {
      "cell_type": "code",
      "metadata": {
        "id": "ZWgoxfabLWzs",
        "colab_type": "code",
        "outputId": "8186fdc7-6da4-4d45-9dcd-0ab492fb8fcc",
        "colab": {
          "base_uri": "https://localhost:8080/",
          "height": 1000
        }
      },
      "source": [
        "train['EMI']"
      ],
      "execution_count": 43,
      "outputs": [
        {
          "output_type": "execute_result",
          "data": {
            "text/plain": [
              "0       355.56\n",
              "1       355.56\n",
              "2       183.33\n",
              "3       333.33\n",
              "4       391.67\n",
              "5       741.67\n",
              "6       263.89\n",
              "7       438.89\n",
              "8       466.67\n",
              "9       969.44\n",
              "10      194.44\n",
              "11      302.78\n",
              "12      555.56\n",
              "13      316.67\n",
              "14      141.67\n",
              "15      347.22\n",
              "16      416.67\n",
              "17      211.11\n",
              "18      369.44\n",
              "19      319.44\n",
              "20      288.89\n",
              "21      875.00\n",
              "22      322.22\n",
              "23      311.11\n",
              "24      419.44\n",
              "25      530.56\n",
              "26      338.89\n",
              "27      305.56\n",
              "28       97.22\n",
              "29      333.33\n",
              "        ...   \n",
              "584     405.56\n",
              "585    2047.62\n",
              "586     288.89\n",
              "587     194.44\n",
              "588     261.11\n",
              "589     294.44\n",
              "590     311.11\n",
              "591     854.17\n",
              "592     811.11\n",
              "593     788.89\n",
              "594     722.22\n",
              "595     305.56\n",
              "596     519.44\n",
              "597     244.44\n",
              "598     500.00\n",
              "599     533.33\n",
              "600    1944.44\n",
              "601     430.56\n",
              "602     355.56\n",
              "603     477.78\n",
              "604    1377.78\n",
              "605     711.11\n",
              "606     480.56\n",
              "607     436.11\n",
              "608     300.00\n",
              "609     197.22\n",
              "610     222.22\n",
              "611     702.78\n",
              "612     519.44\n",
              "613     369.44\n",
              "Name: EMI, Length: 614, dtype: float64"
            ]
          },
          "metadata": {
            "tags": []
          },
          "execution_count": 43
        }
      ]
    },
    {
      "cell_type": "code",
      "metadata": {
        "id": "83xzk-ULLZg7",
        "colab_type": "code",
        "outputId": "44e9a0a1-ff62-4053-a4e2-0632e3ba4648",
        "colab": {
          "base_uri": "https://localhost:8080/",
          "height": 274
        }
      },
      "source": [
        "plt.figure(1)\n",
        "plt.figure(figsize=[7,7])\n",
        "plt.subplot(221)\n",
        "sns.distplot(np.log(train.LoanAmount))\n",
        "\n",
        "plt.subplot(222)\n",
        "sns.distplot(train.Loan_Amount_Term)\n",
        "plt.show"
      ],
      "execution_count": 44,
      "outputs": [
        {
          "output_type": "execute_result",
          "data": {
            "text/plain": [
              "<function matplotlib.pyplot.show>"
            ]
          },
          "metadata": {
            "tags": []
          },
          "execution_count": 44
        },
        {
          "output_type": "display_data",
          "data": {
            "text/plain": [
              "<Figure size 432x288 with 0 Axes>"
            ]
          },
          "metadata": {
            "tags": []
          }
        },
        {
          "output_type": "display_data",
          "data": {
            "image/png": "[encoded data removed]",
            "text/plain": [
              "<Figure size 504x504 with 2 Axes>"
            ]
          },
          "metadata": {
            "tags": []
          }
        }
      ]
    },
    {
      "cell_type": "code",
      "metadata": {
        "id": "elUVZnZuLxrV",
        "colab_type": "code",
        "colab": {}
      },
      "source": [
        "# Transformation of loan amount\n",
        "train['LoanAmount_log']=np.log(train.LoanAmount)"
      ],
      "execution_count": 0,
      "outputs": []
    },
    {
      "cell_type": "code",
      "metadata": {
        "id": "5rmAMq0UMOMP",
        "colab_type": "code",
        "colab": {}
      },
      "source": [
        "# Transformation of EMI\n",
        "train['EMI_log']=np.log(train.EMI)"
      ],
      "execution_count": 0,
      "outputs": []
    },
    {
      "cell_type": "code",
      "metadata": {
        "id": "IGPs8fzIMZZM",
        "colab_type": "code",
        "colab": {}
      },
      "source": [
        "# Total Income\n",
        "train['TotalIncome']=train.ApplicantIncome+train.CoapplicantIncome"
      ],
      "execution_count": 0,
      "outputs": []
    },
    {
      "cell_type": "code",
      "metadata": {
        "id": "wb0TzjzKM7Uq",
        "colab_type": "code",
        "outputId": "353ac9f1-5408-4a09-8058-01cbbf6c5b15",
        "colab": {
          "base_uri": "https://localhost:8080/",
          "height": 300
        }
      },
      "source": [
        "sns.distplot(train.TotalIncome)"
      ],
      "execution_count": 48,
      "outputs": [
        {
          "output_type": "execute_result",
          "data": {
            "text/plain": [
              "<matplotlib.axes._subplots.AxesSubplot at 0x7f42c99e0ba8>"
            ]
          },
          "metadata": {
            "tags": []
          },
          "execution_count": 48
        },
        {
          "output_type": "display_data",
          "data": {
            "image/png": "[encoded data removed]",
            "text/plain": [
              "<Figure size 432x288 with 1 Axes>"
            ]
          },
          "metadata": {
            "tags": []
          }
        }
      ]
    },
    {
      "cell_type": "code",
      "metadata": {
        "id": "HD1eKwR-NFhc",
        "colab_type": "code",
        "colab": {}
      },
      "source": [
        "\n",
        "train['TotalIncome_log']=np.log(train.TotalIncome)"
      ],
      "execution_count": 0,
      "outputs": []
    },
    {
      "cell_type": "code",
      "metadata": {
        "id": "aK9pp7XiNQno",
        "colab_type": "code",
        "outputId": "78054c9b-952e-434e-d80c-044c56cdd1dc",
        "colab": {
          "base_uri": "https://localhost:8080/",
          "height": 241
        }
      },
      "source": [
        "train.head()"
      ],
      "execution_count": 50,
      "outputs": [
        {
          "output_type": "execute_result",
          "data": {
            "text/html": [
              "<div>\n",
              "<style scoped>\n",
              "    .dataframe tbody tr th:only-of-type {\n",
              "        vertical-align: middle;\n",
              "    }\n",
              "\n",
              "    .dataframe tbody tr th {\n",
              "        vertical-align: top;\n",
              "    }\n",
              "\n",
              "    .dataframe thead th {\n",
              "        text-align: right;\n",
              "    }\n",
              "</style>\n",
              "<table border=\"1\" class=\"dataframe\">\n",
              "  <thead>\n",
              "    <tr style=\"text-align: right;\">\n",
              "      <th></th>\n",
              "      <th>Loan_ID</th>\n",
              "      <th>Gender</th>\n",
              "      <th>Married</th>\n",
              "      <th>Dependents</th>\n",
              "      <th>Education</th>\n",
              "      <th>Self_Employed</th>\n",
              "      <th>ApplicantIncome</th>\n",
              "      <th>CoapplicantIncome</th>\n",
              "      <th>LoanAmount</th>\n",
              "      <th>Loan_Amount_Term</th>\n",
              "      <th>Credit_History</th>\n",
              "      <th>Property_Area</th>\n",
              "      <th>Loan_Status</th>\n",
              "      <th>EMI</th>\n",
              "      <th>LoanAmount_log</th>\n",
              "      <th>EMI_log</th>\n",
              "      <th>TotalIncome</th>\n",
              "      <th>TotalIncome_log</th>\n",
              "    </tr>\n",
              "  </thead>\n",
              "  <tbody>\n",
              "    <tr>\n",
              "      <th>0</th>\n",
              "      <td>LP001002</td>\n",
              "      <td>Male</td>\n",
              "      <td>No</td>\n",
              "      <td>0</td>\n",
              "      <td>Graduate</td>\n",
              "      <td>No</td>\n",
              "      <td>5849</td>\n",
              "      <td>0.0</td>\n",
              "      <td>128.0</td>\n",
              "      <td>360.0</td>\n",
              "      <td>1.0</td>\n",
              "      <td>Urban</td>\n",
              "      <td>1</td>\n",
              "      <td>355.56</td>\n",
              "      <td>4.852030</td>\n",
              "      <td>5.873694</td>\n",
              "      <td>5849.0</td>\n",
              "      <td>8.674026</td>\n",
              "    </tr>\n",
              "    <tr>\n",
              "      <th>1</th>\n",
              "      <td>LP001003</td>\n",
              "      <td>Male</td>\n",
              "      <td>Yes</td>\n",
              "      <td>1</td>\n",
              "      <td>Graduate</td>\n",
              "      <td>No</td>\n",
              "      <td>4583</td>\n",
              "      <td>1508.0</td>\n",
              "      <td>128.0</td>\n",
              "      <td>360.0</td>\n",
              "      <td>1.0</td>\n",
              "      <td>Rural</td>\n",
              "      <td>0</td>\n",
              "      <td>355.56</td>\n",
              "      <td>4.852030</td>\n",
              "      <td>5.873694</td>\n",
              "      <td>6091.0</td>\n",
              "      <td>8.714568</td>\n",
              "    </tr>\n",
              "    <tr>\n",
              "      <th>2</th>\n",
              "      <td>LP001005</td>\n",
              "      <td>Male</td>\n",
              "      <td>Yes</td>\n",
              "      <td>0</td>\n",
              "      <td>Graduate</td>\n",
              "      <td>Yes</td>\n",
              "      <td>3000</td>\n",
              "      <td>0.0</td>\n",
              "      <td>66.0</td>\n",
              "      <td>360.0</td>\n",
              "      <td>1.0</td>\n",
              "      <td>Urban</td>\n",
              "      <td>1</td>\n",
              "      <td>183.33</td>\n",
              "      <td>4.189655</td>\n",
              "      <td>5.211288</td>\n",
              "      <td>3000.0</td>\n",
              "      <td>8.006368</td>\n",
              "    </tr>\n",
              "    <tr>\n",
              "      <th>3</th>\n",
              "      <td>LP001006</td>\n",
              "      <td>Male</td>\n",
              "      <td>Yes</td>\n",
              "      <td>0</td>\n",
              "      <td>Not Graduate</td>\n",
              "      <td>No</td>\n",
              "      <td>2583</td>\n",
              "      <td>2358.0</td>\n",
              "      <td>120.0</td>\n",
              "      <td>360.0</td>\n",
              "      <td>1.0</td>\n",
              "      <td>Urban</td>\n",
              "      <td>1</td>\n",
              "      <td>333.33</td>\n",
              "      <td>4.787492</td>\n",
              "      <td>5.809133</td>\n",
              "      <td>4941.0</td>\n",
              "      <td>8.505323</td>\n",
              "    </tr>\n",
              "    <tr>\n",
              "      <th>4</th>\n",
              "      <td>LP001008</td>\n",
              "      <td>Male</td>\n",
              "      <td>No</td>\n",
              "      <td>0</td>\n",
              "      <td>Graduate</td>\n",
              "      <td>No</td>\n",
              "      <td>6000</td>\n",
              "      <td>0.0</td>\n",
              "      <td>141.0</td>\n",
              "      <td>360.0</td>\n",
              "      <td>1.0</td>\n",
              "      <td>Urban</td>\n",
              "      <td>1</td>\n",
              "      <td>391.67</td>\n",
              "      <td>4.948760</td>\n",
              "      <td>5.970420</td>\n",
              "      <td>6000.0</td>\n",
              "      <td>8.699515</td>\n",
              "    </tr>\n",
              "  </tbody>\n",
              "</table>\n",
              "</div>"
            ],
            "text/plain": [
              "    Loan_ID Gender Married  ...   EMI_log TotalIncome TotalIncome_log\n",
              "0  LP001002   Male      No  ...  5.873694      5849.0        8.674026\n",
              "1  LP001003   Male     Yes  ...  5.873694      6091.0        8.714568\n",
              "2  LP001005   Male     Yes  ...  5.211288      3000.0        8.006368\n",
              "3  LP001006   Male     Yes  ...  5.809133      4941.0        8.505323\n",
              "4  LP001008   Male      No  ...  5.970420      6000.0        8.699515\n",
              "\n",
              "[5 rows x 18 columns]"
            ]
          },
          "metadata": {
            "tags": []
          },
          "execution_count": 50
        }
      ]
    },
    {
      "cell_type": "code",
      "metadata": {
        "id": "7oV56hLCNYbB",
        "colab_type": "code",
        "outputId": "e8f845e3-792e-4c0c-fe38-bcb2ebb8fa8f",
        "colab": {
          "base_uri": "https://localhost:8080/",
          "height": 204
        }
      },
      "source": [
        "test.head()"
      ],
      "execution_count": 51,
      "outputs": [
        {
          "output_type": "execute_result",
          "data": {
            "text/html": [
              "<div>\n",
              "<style scoped>\n",
              "    .dataframe tbody tr th:only-of-type {\n",
              "        vertical-align: middle;\n",
              "    }\n",
              "\n",
              "    .dataframe tbody tr th {\n",
              "        vertical-align: top;\n",
              "    }\n",
              "\n",
              "    .dataframe thead th {\n",
              "        text-align: right;\n",
              "    }\n",
              "</style>\n",
              "<table border=\"1\" class=\"dataframe\">\n",
              "  <thead>\n",
              "    <tr style=\"text-align: right;\">\n",
              "      <th></th>\n",
              "      <th>Loan_ID</th>\n",
              "      <th>Gender</th>\n",
              "      <th>Married</th>\n",
              "      <th>Dependents</th>\n",
              "      <th>Education</th>\n",
              "      <th>Self_Employed</th>\n",
              "      <th>ApplicantIncome</th>\n",
              "      <th>CoapplicantIncome</th>\n",
              "      <th>LoanAmount</th>\n",
              "      <th>Loan_Amount_Term</th>\n",
              "      <th>Credit_History</th>\n",
              "      <th>Property_Area</th>\n",
              "    </tr>\n",
              "  </thead>\n",
              "  <tbody>\n",
              "    <tr>\n",
              "      <th>0</th>\n",
              "      <td>LP001015</td>\n",
              "      <td>Male</td>\n",
              "      <td>Yes</td>\n",
              "      <td>0</td>\n",
              "      <td>Graduate</td>\n",
              "      <td>No</td>\n",
              "      <td>5720</td>\n",
              "      <td>0</td>\n",
              "      <td>110.0</td>\n",
              "      <td>360.0</td>\n",
              "      <td>1.0</td>\n",
              "      <td>Urban</td>\n",
              "    </tr>\n",
              "    <tr>\n",
              "      <th>1</th>\n",
              "      <td>LP001022</td>\n",
              "      <td>Male</td>\n",
              "      <td>Yes</td>\n",
              "      <td>1</td>\n",
              "      <td>Graduate</td>\n",
              "      <td>No</td>\n",
              "      <td>3076</td>\n",
              "      <td>1500</td>\n",
              "      <td>126.0</td>\n",
              "      <td>360.0</td>\n",
              "      <td>1.0</td>\n",
              "      <td>Urban</td>\n",
              "    </tr>\n",
              "    <tr>\n",
              "      <th>2</th>\n",
              "      <td>LP001031</td>\n",
              "      <td>Male</td>\n",
              "      <td>Yes</td>\n",
              "      <td>2</td>\n",
              "      <td>Graduate</td>\n",
              "      <td>No</td>\n",
              "      <td>5000</td>\n",
              "      <td>1800</td>\n",
              "      <td>208.0</td>\n",
              "      <td>360.0</td>\n",
              "      <td>1.0</td>\n",
              "      <td>Urban</td>\n",
              "    </tr>\n",
              "    <tr>\n",
              "      <th>3</th>\n",
              "      <td>LP001035</td>\n",
              "      <td>Male</td>\n",
              "      <td>Yes</td>\n",
              "      <td>2</td>\n",
              "      <td>Graduate</td>\n",
              "      <td>No</td>\n",
              "      <td>2340</td>\n",
              "      <td>2546</td>\n",
              "      <td>100.0</td>\n",
              "      <td>360.0</td>\n",
              "      <td>1.0</td>\n",
              "      <td>Urban</td>\n",
              "    </tr>\n",
              "    <tr>\n",
              "      <th>4</th>\n",
              "      <td>LP001051</td>\n",
              "      <td>Male</td>\n",
              "      <td>No</td>\n",
              "      <td>0</td>\n",
              "      <td>Not Graduate</td>\n",
              "      <td>No</td>\n",
              "      <td>3276</td>\n",
              "      <td>0</td>\n",
              "      <td>78.0</td>\n",
              "      <td>360.0</td>\n",
              "      <td>1.0</td>\n",
              "      <td>Urban</td>\n",
              "    </tr>\n",
              "  </tbody>\n",
              "</table>\n",
              "</div>"
            ],
            "text/plain": [
              "    Loan_ID Gender Married  ... Loan_Amount_Term Credit_History Property_Area\n",
              "0  LP001015   Male     Yes  ...            360.0            1.0         Urban\n",
              "1  LP001022   Male     Yes  ...            360.0            1.0         Urban\n",
              "2  LP001031   Male     Yes  ...            360.0            1.0         Urban\n",
              "3  LP001035   Male     Yes  ...            360.0            1.0         Urban\n",
              "4  LP001051   Male      No  ...            360.0            1.0         Urban\n",
              "\n",
              "[5 rows x 12 columns]"
            ]
          },
          "metadata": {
            "tags": []
          },
          "execution_count": 51
        }
      ]
    },
    {
      "cell_type": "code",
      "metadata": {
        "id": "9fnU6bjdSfSA",
        "colab_type": "code",
        "colab": {}
      },
      "source": [
        "test['EMI']=round((test.LoanAmount*1000)/test.Loan_Amount_Term,2)"
      ],
      "execution_count": 0,
      "outputs": []
    },
    {
      "cell_type": "code",
      "metadata": {
        "id": "9nxX246TSqb9",
        "colab_type": "code",
        "colab": {}
      },
      "source": [
        "test['EMI_log']=np.log(test.EMI)"
      ],
      "execution_count": 0,
      "outputs": []
    },
    {
      "cell_type": "code",
      "metadata": {
        "id": "BQnq3rMZSwPL",
        "colab_type": "code",
        "colab": {}
      },
      "source": [
        "\n",
        "test['TotalIncome']=test.ApplicantIncome+test.CoapplicantIncome"
      ],
      "execution_count": 0,
      "outputs": []
    },
    {
      "cell_type": "code",
      "metadata": {
        "id": "JYoK6Lz6S5iP",
        "colab_type": "code",
        "colab": {}
      },
      "source": [
        "test['TotalIncome_log']=np.log(test.TotalIncome)"
      ],
      "execution_count": 0,
      "outputs": []
    },
    {
      "cell_type": "code",
      "metadata": {
        "id": "NcNYHXnQS878",
        "colab_type": "code",
        "colab": {}
      },
      "source": [
        "test['LoanAmount_log']=np.log(test.LoanAmount)"
      ],
      "execution_count": 0,
      "outputs": []
    },
    {
      "cell_type": "code",
      "metadata": {
        "id": "flvNZy3OTEwj",
        "colab_type": "code",
        "colab": {}
      },
      "source": [
        "test.Dependents.replace(to_replace='3+',value=3,inplace=True)"
      ],
      "execution_count": 0,
      "outputs": []
    },
    {
      "cell_type": "code",
      "metadata": {
        "id": "YpiCBN_KTVe_",
        "colab_type": "code",
        "outputId": "99624cb9-2952-4c59-8587-f666d13f93e8",
        "colab": {
          "base_uri": "https://localhost:8080/",
          "height": 34
        }
      },
      "source": [
        "train.shape"
      ],
      "execution_count": 58,
      "outputs": [
        {
          "output_type": "execute_result",
          "data": {
            "text/plain": [
              "(614, 18)"
            ]
          },
          "metadata": {
            "tags": []
          },
          "execution_count": 58
        }
      ]
    },
    {
      "cell_type": "code",
      "metadata": {
        "id": "E80QSjtwTYP5",
        "colab_type": "code",
        "outputId": "6a2135b7-a192-4976-d3ba-84f0475e69e6",
        "colab": {
          "base_uri": "https://localhost:8080/",
          "height": 34
        }
      },
      "source": [
        "test.shape"
      ],
      "execution_count": 59,
      "outputs": [
        {
          "output_type": "execute_result",
          "data": {
            "text/plain": [
              "(367, 17)"
            ]
          },
          "metadata": {
            "tags": []
          },
          "execution_count": 59
        }
      ]
    },
    {
      "cell_type": "code",
      "metadata": {
        "id": "Z9xeufP3TZrx",
        "colab_type": "code",
        "outputId": "78c93d3b-d627-4a2f-91e1-523adbc656cc",
        "colab": {
          "base_uri": "https://localhost:8080/",
          "height": 102
        }
      },
      "source": [
        "train.columns"
      ],
      "execution_count": 60,
      "outputs": [
        {
          "output_type": "execute_result",
          "data": {
            "text/plain": [
              "Index(['Loan_ID', 'Gender', 'Married', 'Dependents', 'Education',\n",
              "       'Self_Employed', 'ApplicantIncome', 'CoapplicantIncome', 'LoanAmount',\n",
              "       'Loan_Amount_Term', 'Credit_History', 'Property_Area', 'Loan_Status',\n",
              "       'EMI', 'LoanAmount_log', 'EMI_log', 'TotalIncome', 'TotalIncome_log'],\n",
              "      dtype='object')"
            ]
          },
          "metadata": {
            "tags": []
          },
          "execution_count": 60
        }
      ]
    },
    {
      "cell_type": "code",
      "metadata": {
        "id": "bNHsju3RTdDp",
        "colab_type": "code",
        "outputId": "c81be9b0-d467-4863-9941-73b36e8dc35b",
        "colab": {
          "base_uri": "https://localhost:8080/",
          "height": 102
        }
      },
      "source": [
        "test.columns"
      ],
      "execution_count": 61,
      "outputs": [
        {
          "output_type": "execute_result",
          "data": {
            "text/plain": [
              "Index(['Loan_ID', 'Gender', 'Married', 'Dependents', 'Education',\n",
              "       'Self_Employed', 'ApplicantIncome', 'CoapplicantIncome', 'LoanAmount',\n",
              "       'Loan_Amount_Term', 'Credit_History', 'Property_Area', 'EMI', 'EMI_log',\n",
              "       'TotalIncome', 'TotalIncome_log', 'LoanAmount_log'],\n",
              "      dtype='object')"
            ]
          },
          "metadata": {
            "tags": []
          },
          "execution_count": 61
        }
      ]
    },
    {
      "cell_type": "code",
      "metadata": {
        "id": "mEk-5lCrTeev",
        "colab_type": "code",
        "colab": {}
      },
      "source": [
        "from sklearn.preprocessing import StandardScaler"
      ],
      "execution_count": 0,
      "outputs": []
    },
    {
      "cell_type": "code",
      "metadata": {
        "id": "6_uHsyFSUMRo",
        "colab_type": "code",
        "colab": {}
      },
      "source": [
        "sc=StandardScaler()"
      ],
      "execution_count": 0,
      "outputs": []
    },
    {
      "cell_type": "code",
      "metadata": {
        "id": "CEplzElHUN8f",
        "colab_type": "code",
        "colab": {}
      },
      "source": [
        "newtrain=train.drop(['ApplicantIncome', 'CoapplicantIncome',\"Loan_ID\",'LoanAmount','Loan_Status','EMI', 'TotalIncome'],axis=1)"
      ],
      "execution_count": 0,
      "outputs": []
    },
    {
      "cell_type": "code",
      "metadata": {
        "id": "a8g9EALrUXzm",
        "colab_type": "code",
        "colab": {}
      },
      "source": [
        "\n",
        "newtest=test.drop(['ApplicantIncome', 'CoapplicantIncome',\"Loan_ID\",'LoanAmount','EMI', 'TotalIncome'],axis=1)"
      ],
      "execution_count": 0,
      "outputs": []
    },
    {
      "cell_type": "code",
      "metadata": {
        "id": "H6S8kJ86Udn1",
        "colab_type": "code",
        "outputId": "bb8a06fc-00b1-4d74-ae48-bbfc33f0e7ee",
        "colab": {
          "base_uri": "https://localhost:8080/",
          "height": 34
        }
      },
      "source": [
        "newtrain.columns.value_counts().sum()"
      ],
      "execution_count": 66,
      "outputs": [
        {
          "output_type": "execute_result",
          "data": {
            "text/plain": [
              "11"
            ]
          },
          "metadata": {
            "tags": []
          },
          "execution_count": 66
        }
      ]
    },
    {
      "cell_type": "code",
      "metadata": {
        "id": "FIfxG3iVUjzF",
        "colab_type": "code",
        "outputId": "45b67ebd-0d0e-4ef7-a2d4-fac8c000b404",
        "colab": {
          "base_uri": "https://localhost:8080/",
          "height": 34
        }
      },
      "source": [
        "newtest.columns.value_counts().sum()"
      ],
      "execution_count": 67,
      "outputs": [
        {
          "output_type": "execute_result",
          "data": {
            "text/plain": [
              "11"
            ]
          },
          "metadata": {
            "tags": []
          },
          "execution_count": 67
        }
      ]
    },
    {
      "cell_type": "code",
      "metadata": {
        "id": "EI-hSG5pUqaG",
        "colab_type": "code",
        "colab": {}
      },
      "source": [
        "#One Hot Encoding\n",
        "dummytrain=pd.get_dummies(newtrain)\n",
        "dummytest=pd.get_dummies(newtest)"
      ],
      "execution_count": 0,
      "outputs": []
    },
    {
      "cell_type": "code",
      "metadata": {
        "id": "gHyQrHo-VZdx",
        "colab_type": "code",
        "outputId": "ed49f709-a45f-4bdf-8141-a789da5853ef",
        "colab": {
          "base_uri": "https://localhost:8080/",
          "height": 34
        }
      },
      "source": [
        "dummytest.shape"
      ],
      "execution_count": 69,
      "outputs": [
        {
          "output_type": "execute_result",
          "data": {
            "text/plain": [
              "(367, 20)"
            ]
          },
          "metadata": {
            "tags": []
          },
          "execution_count": 69
        }
      ]
    },
    {
      "cell_type": "code",
      "metadata": {
        "id": "9gH6rbUjVdZ8",
        "colab_type": "code",
        "outputId": "b413b3c0-8ce4-4206-d7cf-5e33400b59f5",
        "colab": {
          "base_uri": "https://localhost:8080/",
          "height": 34
        }
      },
      "source": [
        "dummytrain.shape"
      ],
      "execution_count": 70,
      "outputs": [
        {
          "output_type": "execute_result",
          "data": {
            "text/plain": [
              "(614, 20)"
            ]
          },
          "metadata": {
            "tags": []
          },
          "execution_count": 70
        }
      ]
    },
    {
      "cell_type": "code",
      "metadata": {
        "id": "YgKQFMBYVfIL",
        "colab_type": "code",
        "colab": {}
      },
      "source": [
        "#Scaling\n",
        "\n",
        "sc=StandardScaler()\n",
        "scaled_train=pd.DataFrame(sc.fit_transform(dummytrain),columns=dummytrain.columns)"
      ],
      "execution_count": 0,
      "outputs": []
    },
    {
      "cell_type": "code",
      "metadata": {
        "id": "P8TP0WAyVu9E",
        "colab_type": "code",
        "colab": {}
      },
      "source": [
        "scaled_test=pd.DataFrame(sc.fit_transform(dummytest),columns=dummytest.columns)"
      ],
      "execution_count": 0,
      "outputs": []
    },
    {
      "cell_type": "markdown",
      "metadata": {
        "id": "fz2_CniseCQq",
        "colab_type": "text"
      },
      "source": [
        "# Decision Tree With Criterion Entropy"
      ]
    },
    {
      "cell_type": "code",
      "metadata": {
        "id": "Q9EPdJcAV0hU",
        "colab_type": "code",
        "colab": {}
      },
      "source": [
        "\n",
        "from sklearn.tree import DecisionTreeClassifier"
      ],
      "execution_count": 0,
      "outputs": []
    },
    {
      "cell_type": "code",
      "metadata": {
        "id": "7m-tKRgRWJPR",
        "colab_type": "code",
        "colab": {}
      },
      "source": [
        "dtree=DecisionTreeClassifier(criterion='entropy')"
      ],
      "execution_count": 0,
      "outputs": []
    },
    {
      "cell_type": "code",
      "metadata": {
        "id": "guzCvRvdWNQ3",
        "colab_type": "code",
        "colab": {}
      },
      "source": [
        "pred_tree=dtree.fit(scaled_train,train.Loan_Status).predict(scaled_test)"
      ],
      "execution_count": 0,
      "outputs": []
    },
    {
      "cell_type": "code",
      "metadata": {
        "id": "F4Wwnrs9W3Rf",
        "colab_type": "code",
        "colab": {}
      },
      "source": [
        "\n",
        "predlist=[]\n",
        "for i in range(0,len(pred_tree)):\n",
        "  if (pred_tree[i]==1):\n",
        "    predlist.append('Y')\n",
        "  else:\n",
        "    predlist.append('N')"
      ],
      "execution_count": 0,
      "outputs": []
    },
    {
      "cell_type": "code",
      "metadata": {
        "id": "fVEg1-qOWgj7",
        "colab_type": "code",
        "colab": {}
      },
      "source": [
        "# Submission\n",
        "#solution=pd.DataFrame({'Loan_ID':test.Loan_ID,'Loan_Status':predlist})"
      ],
      "execution_count": 0,
      "outputs": []
    },
    {
      "cell_type": "code",
      "metadata": {
        "id": "Z03feGbvYQtU",
        "colab_type": "code",
        "colab": {}
      },
      "source": [
        "# from google.colab import files\n",
        "# solution.to_csv('DT.csv',index=False)    # 0.680555555555556  0.631944444444444 accuracy with more columns removed\n",
        "# files.download('DT.csv')"
      ],
      "execution_count": 0,
      "outputs": []
    },
    {
      "cell_type": "markdown",
      "metadata": {
        "id": "Ds8Th201d-Ii",
        "colab_type": "text"
      },
      "source": [
        "# Decision Tree With Criterion Gini"
      ]
    },
    {
      "cell_type": "code",
      "metadata": {
        "id": "hHArKK3Md3vi",
        "colab_type": "code",
        "colab": {}
      },
      "source": [
        "dtreeg=DecisionTreeClassifier(criterion='gini')"
      ],
      "execution_count": 0,
      "outputs": []
    },
    {
      "cell_type": "code",
      "metadata": {
        "id": "jzlf_5Jkd3hO",
        "colab_type": "code",
        "colab": {}
      },
      "source": [
        "pred_tree1=dtreeg.fit(scaled_train,train.Loan_Status).predict(scaled_test)"
      ],
      "execution_count": 0,
      "outputs": []
    },
    {
      "cell_type": "code",
      "metadata": {
        "id": "gjCBPEl4eIUA",
        "colab_type": "code",
        "colab": {}
      },
      "source": [
        "predlist=[]\n",
        "for i in range(0,len(pred_tree1)):\n",
        "   if (pred_tree1[i]==1):\n",
        "      predlist.append('Y')\n",
        "   else:\n",
        "      predlist.append('N')"
      ],
      "execution_count": 0,
      "outputs": []
    },
    {
      "cell_type": "code",
      "metadata": {
        "id": "D0RTDO-DecmH",
        "colab_type": "code",
        "colab": {}
      },
      "source": [
        "# Submission\n",
        "# solution=pd.DataFrame({'Loan_ID':test.Loan_ID,'Loan_Status':predlist})"
      ],
      "execution_count": 0,
      "outputs": []
    },
    {
      "cell_type": "code",
      "metadata": {
        "id": "iYVtBMSleh5W",
        "colab_type": "code",
        "colab": {}
      },
      "source": [
        "#from google.colab import files\n",
        "#solution.to_csv('DTG.csv',index=False)    # 0.6458333333333334 \n",
        "#files.download('DTG.csv')"
      ],
      "execution_count": 0,
      "outputs": []
    },
    {
      "cell_type": "markdown",
      "metadata": {
        "id": "SR6ErJ8rgQ47",
        "colab_type": "text"
      },
      "source": [
        "# RAndom Forrest"
      ]
    },
    {
      "cell_type": "code",
      "metadata": {
        "id": "I-0wUn_EYiRJ",
        "colab_type": "code",
        "colab": {}
      },
      "source": [
        "from sklearn.ensemble import RandomForestClassifier"
      ],
      "execution_count": 0,
      "outputs": []
    },
    {
      "cell_type": "code",
      "metadata": {
        "id": "6-f4GWmwZced",
        "colab_type": "code",
        "colab": {}
      },
      "source": [
        "rfc=RandomForestClassifier()"
      ],
      "execution_count": 0,
      "outputs": []
    },
    {
      "cell_type": "code",
      "metadata": {
        "id": "W-WraYs8Ze-_",
        "colab_type": "code",
        "colab": {}
      },
      "source": [
        "pred_rf=rfc.fit(scaled_train,train.Loan_Status).predict(scaled_test)"
      ],
      "execution_count": 0,
      "outputs": []
    },
    {
      "cell_type": "code",
      "metadata": {
        "id": "LJUNbmy3Zoyd",
        "colab_type": "code",
        "colab": {}
      },
      "source": [
        "predlist_rf=[]\n",
        "for i in range(0,len(pred_rf)):\n",
        "  if (pred_rf[i]==1):\n",
        "    predlist_rf.append('Y')\n",
        "  else:\n",
        "    predlist_rf.append('N')"
      ],
      "execution_count": 0,
      "outputs": []
    },
    {
      "cell_type": "code",
      "metadata": {
        "id": "F8Q32iThZtqP",
        "colab_type": "code",
        "colab": {}
      },
      "source": [
        "#solution_rf=pd.DataFrame({'Loan_ID':test.Loan_ID,'Loan_Status':predlist_rf})"
      ],
      "execution_count": 0,
      "outputs": []
    },
    {
      "cell_type": "code",
      "metadata": {
        "id": "JtHklCXiZw9u",
        "colab_type": "code",
        "colab": {}
      },
      "source": [
        "#from google.colab import files\n",
        "#solution_rf.to_csv('RF.csv',index=False)    # 0.6875.\n",
        "#files.download('RF.csv')"
      ],
      "execution_count": 0,
      "outputs": []
    },
    {
      "cell_type": "markdown",
      "metadata": {
        "id": "fIhcI83ygVXL",
        "colab_type": "text"
      },
      "source": [
        "# Naive Bayes"
      ]
    },
    {
      "cell_type": "code",
      "metadata": {
        "id": "-K9VHQWRZ2WB",
        "colab_type": "code",
        "colab": {}
      },
      "source": [
        "from sklearn.naive_bayes import GaussianNB\n"
      ],
      "execution_count": 0,
      "outputs": []
    },
    {
      "cell_type": "code",
      "metadata": {
        "id": "D8ag0FaUhk-d",
        "colab_type": "code",
        "colab": {}
      },
      "source": [
        "gb=GaussianNB()"
      ],
      "execution_count": 0,
      "outputs": []
    },
    {
      "cell_type": "code",
      "metadata": {
        "id": "fgF03oTfhrOr",
        "colab_type": "code",
        "colab": {}
      },
      "source": [
        "pred_gb=gb.fit(scaled_train,train.Loan_Status).predict(scaled_test)"
      ],
      "execution_count": 0,
      "outputs": []
    },
    {
      "cell_type": "code",
      "metadata": {
        "id": "msm0_oBZhu2B",
        "colab_type": "code",
        "colab": {}
      },
      "source": [
        "predlist_gb=[]\n",
        "for i in range(0,len(pred_gb)):\n",
        "  if (pred_gb[i]==1):\n",
        "    predlist_gb.append('Y')\n",
        "  else:\n",
        "    predlist_gb.append('N')"
      ],
      "execution_count": 0,
      "outputs": []
    },
    {
      "cell_type": "code",
      "metadata": {
        "id": "LO9fDMn1h9GE",
        "colab_type": "code",
        "colab": {}
      },
      "source": [
        "#solution_gb=pd.DataFrame({'Loan_ID':test.Loan_ID,'Loan_Status':predlist_gb})"
      ],
      "execution_count": 0,
      "outputs": []
    },
    {
      "cell_type": "code",
      "metadata": {
        "id": "TEGWWbRNiJVi",
        "colab_type": "code",
        "colab": {}
      },
      "source": [
        "#from google.colab import files\n",
        "#solution_gb.to_csv('GB.csv',index=False)    # 0.784722222222222 \n",
        "#files.download('GB.csv')"
      ],
      "execution_count": 0,
      "outputs": []
    },
    {
      "cell_type": "markdown",
      "metadata": {
        "id": "nq2jTg-Gi5EP",
        "colab_type": "text"
      },
      "source": [
        "# K Nearest Neighbors"
      ]
    },
    {
      "cell_type": "code",
      "metadata": {
        "id": "4qm4TefJiO-z",
        "colab_type": "code",
        "colab": {}
      },
      "source": [
        "from sklearn.neighbors import KNeighborsClassifier"
      ],
      "execution_count": 0,
      "outputs": []
    },
    {
      "cell_type": "code",
      "metadata": {
        "id": "8gmZbbF4jBiR",
        "colab_type": "code",
        "colab": {}
      },
      "source": [
        "knn=KNeighborsClassifier()"
      ],
      "execution_count": 0,
      "outputs": []
    },
    {
      "cell_type": "code",
      "metadata": {
        "id": "1lMUWAmFjGGD",
        "colab_type": "code",
        "colab": {}
      },
      "source": [
        "pred_knn=knn.fit(scaled_train,train.Loan_Status).predict(scaled_test)"
      ],
      "execution_count": 0,
      "outputs": []
    },
    {
      "cell_type": "code",
      "metadata": {
        "id": "0Izy-IHsjLj4",
        "colab_type": "code",
        "colab": {}
      },
      "source": [
        "predlist_knn=[]\n",
        "for i in range(0,len(pred_knn)):\n",
        "  if (pred_knn[i]==1):\n",
        "    predlist_knn.append('Y')\n",
        "  else:\n",
        "    predlist_knn.append('N')"
      ],
      "execution_count": 0,
      "outputs": []
    },
    {
      "cell_type": "code",
      "metadata": {
        "id": "HboDM5O0jUpS",
        "colab_type": "code",
        "colab": {}
      },
      "source": [
        "#solution_knn=pd.DataFrame({'Loan_ID':test.Loan_ID,'Loan_Status':predlist_knn})"
      ],
      "execution_count": 0,
      "outputs": []
    },
    {
      "cell_type": "code",
      "metadata": {
        "id": "B6iJHNasjZIt",
        "colab_type": "code",
        "colab": {}
      },
      "source": [
        "#from google.colab import files\n",
        "#solution_knn.to_csv('KNN.csv',index=False)    # 0.701388888888889\n",
        "#files.download('KNN.csv')"
      ],
      "execution_count": 0,
      "outputs": []
    },
    {
      "cell_type": "markdown",
      "metadata": {
        "id": "4go_gvbpnNYW",
        "colab_type": "text"
      },
      "source": [
        "# Ensemble Techniques"
      ]
    },
    {
      "cell_type": "markdown",
      "metadata": {
        "id": "JRrVyln9nNA7",
        "colab_type": "text"
      },
      "source": [
        "# Bagging Classifier"
      ]
    },
    {
      "cell_type": "code",
      "metadata": {
        "id": "yl_4ilY4jsAu",
        "colab_type": "code",
        "colab": {}
      },
      "source": [
        "from sklearn.ensemble import BaggingClassifier"
      ],
      "execution_count": 0,
      "outputs": []
    },
    {
      "cell_type": "code",
      "metadata": {
        "id": "cA3lqQi6n0J2",
        "colab_type": "code",
        "colab": {}
      },
      "source": [
        "bgc=BaggingClassifier()"
      ],
      "execution_count": 0,
      "outputs": []
    },
    {
      "cell_type": "code",
      "metadata": {
        "id": "MRBImRqXn486",
        "colab_type": "code",
        "colab": {}
      },
      "source": [
        "pred_bgc=bgc.fit(scaled_train,train.Loan_Status).predict(scaled_test)"
      ],
      "execution_count": 0,
      "outputs": []
    },
    {
      "cell_type": "code",
      "metadata": {
        "id": "qKM9BhwJn9kh",
        "colab_type": "code",
        "colab": {}
      },
      "source": [
        "predlist_bgc=[]\n",
        "for i in range(0,len(pred_bgc)):\n",
        "  if (pred_bgc[i]==1):\n",
        "    predlist_bgc.append('Y')\n",
        "  else:\n",
        "    predlist_bgc.append('N')"
      ],
      "execution_count": 0,
      "outputs": []
    },
    {
      "cell_type": "code",
      "metadata": {
        "id": "2Pf42b55oLi6",
        "colab_type": "code",
        "colab": {}
      },
      "source": [
        "#solution_bgc=pd.DataFrame({'Loan_ID':test.Loan_ID,'Loan_Status':predlist_bgc})"
      ],
      "execution_count": 0,
      "outputs": []
    },
    {
      "cell_type": "code",
      "metadata": {
        "id": "iMGdokktoe9N",
        "colab_type": "code",
        "colab": {}
      },
      "source": [
        "#from google.colab import files\n",
        "#solution_bgc.to_csv('BGC.csv',index=False)    #  0.7152777777777778\n",
        "#files.download('BGC.csv')"
      ],
      "execution_count": 0,
      "outputs": []
    },
    {
      "cell_type": "markdown",
      "metadata": {
        "id": "YbJ4cA8vqlFC",
        "colab_type": "text"
      },
      "source": [
        "# Ada Boost Classifier"
      ]
    },
    {
      "cell_type": "code",
      "metadata": {
        "id": "qJvfISxPqV5J",
        "colab_type": "code",
        "colab": {}
      },
      "source": [
        "from sklearn.ensemble import AdaBoostClassifier"
      ],
      "execution_count": 0,
      "outputs": []
    },
    {
      "cell_type": "code",
      "metadata": {
        "id": "RLyXwaqwzjDH",
        "colab_type": "code",
        "colab": {}
      },
      "source": [
        "abc=AdaBoostClassifier()"
      ],
      "execution_count": 0,
      "outputs": []
    },
    {
      "cell_type": "code",
      "metadata": {
        "id": "yEG3c5ePzlza",
        "colab_type": "code",
        "colab": {}
      },
      "source": [
        "pred_abc=abc.fit(scaled_train,train.Loan_Status).predict(scaled_test)"
      ],
      "execution_count": 0,
      "outputs": []
    },
    {
      "cell_type": "code",
      "metadata": {
        "id": "FO__qyGEzpRu",
        "colab_type": "code",
        "colab": {}
      },
      "source": [
        "predlist_abc=[]\n",
        "for i in range(0,len(pred_abc)):\n",
        "  if (pred_abc[i]==1):\n",
        "    predlist_abc.append('Y')\n",
        "  else:\n",
        "    predlist_abc.append('N')"
      ],
      "execution_count": 0,
      "outputs": []
    },
    {
      "cell_type": "code",
      "metadata": {
        "id": "KJXJTkEFzvlH",
        "colab_type": "code",
        "colab": {}
      },
      "source": [
        "#solution_abc=pd.DataFrame({'Loan_ID':test.Loan_ID,'Loan_Status':predlist_abc})"
      ],
      "execution_count": 0,
      "outputs": []
    },
    {
      "cell_type": "code",
      "metadata": {
        "id": "HCaRWxqzzzG3",
        "colab_type": "code",
        "colab": {}
      },
      "source": [
        "\n",
        "#from google.colab import files\n",
        "#solution_abc.to_csv('ABC.csv',index=False)    #  0.7291666666666666\n",
        "#files.download('ABC.csv')"
      ],
      "execution_count": 0,
      "outputs": []
    },
    {
      "cell_type": "markdown",
      "metadata": {
        "id": "R92zFMU50N65",
        "colab_type": "text"
      },
      "source": [
        "# Gradient Boosting classifier"
      ]
    },
    {
      "cell_type": "code",
      "metadata": {
        "id": "GQ07uCTGz59C",
        "colab_type": "code",
        "colab": {}
      },
      "source": [
        "from sklearn.ensemble import GradientBoostingClassifier"
      ],
      "execution_count": 0,
      "outputs": []
    },
    {
      "cell_type": "code",
      "metadata": {
        "id": "_BhpuhZB1vrY",
        "colab_type": "code",
        "colab": {}
      },
      "source": [
        "gbc=GradientBoostingClassifier()"
      ],
      "execution_count": 0,
      "outputs": []
    },
    {
      "cell_type": "code",
      "metadata": {
        "id": "y6YpHDGb1yL-",
        "colab_type": "code",
        "colab": {}
      },
      "source": [
        "pred_gbc=gbc.fit(scaled_train,train.Loan_Status).predict(scaled_test)"
      ],
      "execution_count": 0,
      "outputs": []
    },
    {
      "cell_type": "code",
      "metadata": {
        "id": "G0UR8S1p14Dx",
        "colab_type": "code",
        "colab": {}
      },
      "source": [
        "predlist_gbc=[]\n",
        "for i in range(0,len(pred_gbc)):\n",
        "  if (pred_gbc[i]==1):\n",
        "    predlist_gbc.append('Y')\n",
        "  else:\n",
        "    predlist_gbc.append('N')"
      ],
      "execution_count": 0,
      "outputs": []
    },
    {
      "cell_type": "code",
      "metadata": {
        "id": "kAB0z1zg18CQ",
        "colab_type": "code",
        "colab": {}
      },
      "source": [
        "#solution_gbc=pd.DataFrame({'Loan_ID':test.Loan_ID,'Loan_Status':predlist_gbc})"
      ],
      "execution_count": 0,
      "outputs": []
    },
    {
      "cell_type": "code",
      "metadata": {
        "id": "9wKwRE691_D-",
        "colab_type": "code",
        "colab": {}
      },
      "source": [
        "#from google.colab import files\n",
        "#solution_gbc.to_csv('GBC.csv',index=False)    #  0.7638888888888888.\n",
        "#files.download('GBC.csv')"
      ],
      "execution_count": 0,
      "outputs": []
    },
    {
      "cell_type": "markdown",
      "metadata": {
        "id": "3LlambVj4R1Y",
        "colab_type": "text"
      },
      "source": [
        "# Using Ramdomized Search and Grid Search "
      ]
    },
    {
      "cell_type": "code",
      "metadata": {
        "id": "NnJHG8m44qub",
        "colab_type": "code",
        "colab": {}
      },
      "source": [
        "from sklearn.model_selection import RandomizedSearchCV,GridSearchCV"
      ],
      "execution_count": 0,
      "outputs": []
    },
    {
      "cell_type": "code",
      "metadata": {
        "id": "-6rGhoKw4J-I",
        "colab_type": "code",
        "outputId": "2aa5ed3a-4da0-4fd6-d9e9-c6c51cce8524",
        "colab": {
          "base_uri": "https://localhost:8080/",
          "height": 187
        }
      },
      "source": [
        "# Randomized Search for Decision Tree\n",
        "param={'criterion':['entropy','gini'],'max_depth':np.arange(1,10)}\n",
        "R=RandomizedSearchCV(dtree,param,cv=5,scoring='accuracy') \n",
        "print(R.fit(scaled_train,train.Loan_Status).predict(scaled_test))"
      ],
      "execution_count": 122,
      "outputs": [
        {
          "output_type": "stream",
          "text": [
            "[1 1 1 1 1 1 0 0 1 1 1 1 0 0 1 1 1 1 1 1 0 0 1 1 1 0 1 1 0 1 1 1 1 1 1 0 1\n",
            " 1 1 1 1 1 1 1 1 1 1 1 1 1 1 1 1 0 1 0 1 1 0 1 1 1 1 0 1 1 0 0 1 0 1 1 1 1\n",
            " 1 1 1 0 1 1 0 1 0 1 0 1 1 1 1 1 1 1 1 1 0 1 1 1 0 1 1 0 1 0 1 1 0 1 1 1 1\n",
            " 1 1 1 1 1 1 0 0 0 1 1 1 0 0 1 0 1 1 1 1 1 1 1 1 1 1 1 1 1 0 1 0 1 1 1 1 0\n",
            " 1 1 1 1 1 0 1 1 1 1 1 1 1 0 1 1 1 0 0 1 0 1 1 1 1 0 0 1 1 1 1 1 1 1 1 1 1\n",
            " 1 1 1 1 1 1 1 0 0 1 1 0 1 0 1 1 1 1 1 1 1 1 1 1 1 0 0 1 1 1 1 1 1 1 1 1 1\n",
            " 1 1 0 1 1 1 1 0 1 1 0 1 1 0 0 1 1 1 1 0 1 0 1 0 1 1 1 0 0 1 1 1 1 0 1 1 1\n",
            " 1 1 1 1 1 1 1 0 1 0 1 1 1 1 0 0 1 1 1 0 1 1 1 1 1 1 1 1 1 1 1 1 1 1 0 1 1\n",
            " 1 1 1 1 1 0 1 1 1 1 1 1 1 1 1 0 1 1 1 1 1 0 1 1 1 1 1 0 1 0 1 1 1 1 1 1 1\n",
            " 1 0 0 1 1 1 0 1 1 1 1 1 1 0 1 1 1 1 1 1 1 0 1 1 0 1 1 1 1 1 1 1 1 1]\n"
          ],
          "name": "stdout"
        }
      ]
    },
    {
      "cell_type": "code",
      "metadata": {
        "id": "lFB0bXGj3SFI",
        "colab_type": "code",
        "outputId": "04e278a8-6742-4821-9265-872f6c1b3039",
        "colab": {
          "base_uri": "https://localhost:8080/",
          "height": 34
        }
      },
      "source": [
        "R.best_params_"
      ],
      "execution_count": 123,
      "outputs": [
        {
          "output_type": "execute_result",
          "data": {
            "text/plain": [
              "{'criterion': 'entropy', 'max_depth': 2}"
            ]
          },
          "metadata": {
            "tags": []
          },
          "execution_count": 123
        }
      ]
    },
    {
      "cell_type": "code",
      "metadata": {
        "id": "xOxH-pBe5OzS",
        "colab_type": "code",
        "colab": {}
      },
      "source": [
        "dtree1=DecisionTreeClassifier(criterion='entropy',max_depth=1)"
      ],
      "execution_count": 0,
      "outputs": []
    },
    {
      "cell_type": "code",
      "metadata": {
        "id": "GE92Ileq5ZmN",
        "colab_type": "code",
        "colab": {}
      },
      "source": [
        "pred_dtree1=dtree1.fit(scaled_train,train.Loan_Status).predict(scaled_test)"
      ],
      "execution_count": 0,
      "outputs": []
    },
    {
      "cell_type": "code",
      "metadata": {
        "id": "fG9Gr0kv5drR",
        "colab_type": "code",
        "colab": {}
      },
      "source": [
        "predlist_dtree1=[]\n",
        "for i in range(0,len(pred_dtree1)):\n",
        "  if (pred_dtree1[i]==1):\n",
        "    predlist_dtree1.append('Y')\n",
        "  else:\n",
        "    predlist_dtree1.append('N')"
      ],
      "execution_count": 0,
      "outputs": []
    },
    {
      "cell_type": "code",
      "metadata": {
        "id": "8dvCEbEs5j3f",
        "colab_type": "code",
        "colab": {}
      },
      "source": [
        "#solution_dtree1=pd.DataFrame({'Loan_ID':test.Loan_ID,'Loan_Status':predlist_dtree1})"
      ],
      "execution_count": 0,
      "outputs": []
    },
    {
      "cell_type": "code",
      "metadata": {
        "id": "pcehQtYU5o4Y",
        "colab_type": "code",
        "colab": {}
      },
      "source": [
        "#from google.colab import files\n",
        "#solution_dtree1.to_csv('DTR.csv',index=False)    #   0.7777777777777778.\n",
        "#files.download('DTR.csv')"
      ],
      "execution_count": 0,
      "outputs": []
    },
    {
      "cell_type": "code",
      "metadata": {
        "id": "8AjQKM0t5uUb",
        "colab_type": "code",
        "outputId": "0c2423b2-5299-49f7-c2d3-70c1ad544c1f",
        "colab": {
          "base_uri": "https://localhost:8080/",
          "height": 187
        }
      },
      "source": [
        "# Randomized Search for Random Forrest\n",
        "param={'criterion':['entropy','gini'],'max_depth':np.arange(1,20),'n_estimators':np.arange(1,50),'max_features':['auto', 'sqrt']}\n",
        "R1=RandomizedSearchCV(rfc,param,cv=5,scoring='accuracy') \n",
        "print(R1.fit(scaled_train,train.Loan_Status).predict(scaled_test))"
      ],
      "execution_count": 129,
      "outputs": [
        {
          "output_type": "stream",
          "text": [
            "[1 1 1 1 1 1 1 0 1 1 1 1 0 0 1 1 1 1 1 1 1 1 1 1 1 0 1 1 1 1 1 1 1 1 1 0 1\n",
            " 1 1 1 1 1 1 1 1 1 1 1 1 1 1 1 1 1 1 0 1 1 0 1 1 1 1 0 1 1 0 0 1 0 1 1 1 1\n",
            " 1 1 1 1 1 1 0 1 0 1 0 1 1 1 1 1 1 1 1 1 0 1 1 1 1 1 1 0 1 0 1 1 0 1 1 1 1\n",
            " 1 1 1 1 1 1 0 0 0 1 1 1 0 0 1 0 1 1 1 1 1 1 1 1 1 1 1 1 1 0 1 0 1 1 1 1 0\n",
            " 1 1 1 1 1 0 1 1 1 1 1 1 1 0 1 1 1 0 0 1 0 1 1 1 1 0 0 1 1 1 1 1 1 1 1 1 1\n",
            " 1 1 1 1 1 1 1 0 0 1 1 0 1 0 1 1 1 1 1 1 1 1 1 1 1 1 0 1 1 1 1 1 1 1 1 1 1\n",
            " 1 1 0 1 1 1 1 0 1 1 0 1 1 0 0 1 1 1 1 0 1 0 1 0 1 1 1 0 0 1 1 1 1 0 1 1 1\n",
            " 1 1 1 1 1 1 1 0 1 0 1 1 1 1 0 0 1 1 1 0 1 1 1 1 1 1 1 1 1 1 1 1 1 1 0 1 1\n",
            " 1 1 1 1 1 0 1 1 1 1 1 1 1 1 1 0 1 1 1 1 1 0 1 1 1 1 1 1 1 0 1 1 1 1 1 1 1\n",
            " 1 1 1 1 1 1 0 1 1 1 1 1 1 0 1 1 1 1 1 1 1 0 1 1 1 1 1 1 1 1 1 1 1 1]\n"
          ],
          "name": "stdout"
        }
      ]
    },
    {
      "cell_type": "code",
      "metadata": {
        "id": "nUlqyg2k79qd",
        "colab_type": "code",
        "outputId": "f90314bd-93b0-40b4-f8e3-dff3d1f045fe",
        "colab": {
          "base_uri": "https://localhost:8080/",
          "height": 85
        }
      },
      "source": [
        "R1.best_params_"
      ],
      "execution_count": 130,
      "outputs": [
        {
          "output_type": "execute_result",
          "data": {
            "text/plain": [
              "{'criterion': 'gini',\n",
              " 'max_depth': 6,\n",
              " 'max_features': 'sqrt',\n",
              " 'n_estimators': 27}"
            ]
          },
          "metadata": {
            "tags": []
          },
          "execution_count": 130
        }
      ]
    },
    {
      "cell_type": "code",
      "metadata": {
        "id": "h7wkLY5h8xiU",
        "colab_type": "code",
        "colab": {}
      },
      "source": [
        "rfc1=RandomForestClassifier(criterion='entropy',max_depth=5,max_features='sqrt',n_estimators=34)"
      ],
      "execution_count": 0,
      "outputs": []
    },
    {
      "cell_type": "code",
      "metadata": {
        "id": "UKkoJarI_vti",
        "colab_type": "code",
        "colab": {}
      },
      "source": [
        "pred_rfc1=rfc1.fit(scaled_train,train.Loan_Status).predict(scaled_test)"
      ],
      "execution_count": 0,
      "outputs": []
    },
    {
      "cell_type": "code",
      "metadata": {
        "id": "qx690SxT_z10",
        "colab_type": "code",
        "colab": {}
      },
      "source": [
        "predlist_rfc1=[]\n",
        "for i in range(0,len(pred_rfc1)):\n",
        "  if (pred_rfc1[i]==1):\n",
        "    predlist_rfc1.append('Y')\n",
        "  else:\n",
        "    predlist_rfc1.append('N')"
      ],
      "execution_count": 0,
      "outputs": []
    },
    {
      "cell_type": "code",
      "metadata": {
        "id": "8xncy5Ns_7Ix",
        "colab_type": "code",
        "colab": {}
      },
      "source": [
        "#solution_rfc1=pd.DataFrame({'Loan_ID':test.Loan_ID,'Loan_Status':predlist_rfc1})"
      ],
      "execution_count": 0,
      "outputs": []
    },
    {
      "cell_type": "code",
      "metadata": {
        "id": "vqkS7iOVAZOe",
        "colab_type": "code",
        "colab": {}
      },
      "source": [
        "#from google.colab import files\n",
        "#solution_rfc1.to_csv('RFR.csv',index=False)    #   0.7777777777777778.\n",
        "#files.download('RFR.csv')"
      ],
      "execution_count": 0,
      "outputs": []
    },
    {
      "cell_type": "code",
      "metadata": {
        "id": "d_aAnayoBCf0",
        "colab_type": "code",
        "outputId": "25b7760a-64a3-431e-9d89-70d73e782ecd",
        "colab": {
          "base_uri": "https://localhost:8080/",
          "height": 187
        }
      },
      "source": [
        "# Randomized Search for KNN\n",
        "param={'n_neighbors':np.arange(1,10),'weights':['uniform','distance'],'leaf_size':[1,2,3,5],'algorithm':['auto', 'ball_tree','kd_tree','brute']}\n",
        "R2=RandomizedSearchCV(knn,param,cv=5,scoring='accuracy') \n",
        "print(R2.fit(scaled_train,train.Loan_Status).predict(scaled_test))"
      ],
      "execution_count": 136,
      "outputs": [
        {
          "output_type": "stream",
          "text": [
            "[1 1 1 1 1 1 1 0 1 1 1 1 1 1 1 1 1 1 1 1 1 1 1 1 1 0 1 1 1 1 1 1 1 1 1 0 1\n",
            " 1 1 1 1 1 1 1 1 1 1 1 1 1 1 1 1 1 1 1 1 1 1 1 1 1 1 1 1 1 0 1 1 0 1 1 1 1\n",
            " 1 1 1 1 1 1 1 1 0 1 1 1 1 1 1 1 1 1 1 1 0 1 1 1 1 1 1 1 1 1 1 1 1 1 1 1 1\n",
            " 1 1 1 1 1 1 0 0 1 1 1 1 0 0 1 0 1 1 1 1 1 1 1 1 1 1 1 1 1 0 1 0 1 1 1 1 0\n",
            " 1 1 1 1 1 1 1 1 1 1 0 1 1 0 1 1 1 1 1 1 1 1 1 1 1 1 0 1 1 1 1 1 1 1 1 1 1\n",
            " 1 1 1 1 1 1 1 0 0 0 1 0 1 0 1 1 1 1 1 1 1 1 1 1 1 1 0 1 1 1 1 1 1 1 1 1 1\n",
            " 1 1 1 1 1 1 1 0 1 1 1 1 1 1 0 1 1 0 1 1 1 0 1 1 1 1 1 1 1 1 1 1 1 0 0 1 1\n",
            " 1 1 1 1 1 1 1 1 1 0 1 1 0 1 0 0 1 1 1 0 1 1 1 1 1 1 1 1 1 1 1 1 1 1 0 1 1\n",
            " 1 1 1 1 1 0 1 0 1 1 1 1 1 1 1 1 1 1 1 1 0 0 1 1 1 1 1 1 1 1 1 1 1 1 1 1 1\n",
            " 1 1 1 1 1 1 1 1 1 0 1 1 1 0 1 1 1 1 1 1 1 0 1 1 1 1 1 1 1 1 1 1 1 1]\n"
          ],
          "name": "stdout"
        }
      ]
    },
    {
      "cell_type": "code",
      "metadata": {
        "id": "0fKI4rOxFBUJ",
        "colab_type": "code",
        "outputId": "ffb4da80-c7a0-4991-ea8e-6736c847e6ac",
        "colab": {
          "base_uri": "https://localhost:8080/",
          "height": 85
        }
      },
      "source": [
        "R2.best_params_"
      ],
      "execution_count": 137,
      "outputs": [
        {
          "output_type": "execute_result",
          "data": {
            "text/plain": [
              "{'algorithm': 'ball_tree',\n",
              " 'leaf_size': 5,\n",
              " 'n_neighbors': 9,\n",
              " 'weights': 'distance'}"
            ]
          },
          "metadata": {
            "tags": []
          },
          "execution_count": 137
        }
      ]
    },
    {
      "cell_type": "code",
      "metadata": {
        "id": "GkGNOgR5Hjny",
        "colab_type": "code",
        "colab": {}
      },
      "source": [
        "knn1=KNeighborsClassifier(algorithm='auto',leaf_size=2,n_neighbors=8,weights='distance')"
      ],
      "execution_count": 0,
      "outputs": []
    },
    {
      "cell_type": "code",
      "metadata": {
        "id": "Fa2eslRiH4lQ",
        "colab_type": "code",
        "colab": {}
      },
      "source": [
        "pred_knn1=knn1.fit(scaled_train,train.Loan_Status).predict(scaled_test)"
      ],
      "execution_count": 0,
      "outputs": []
    },
    {
      "cell_type": "code",
      "metadata": {
        "id": "zdfTqJt9H9L_",
        "colab_type": "code",
        "colab": {}
      },
      "source": [
        "predlist_knn1=[]\n",
        "for i in range(0,len(pred_knn1)):\n",
        "  if (pred_knn1[i]==1):\n",
        "    predlist_knn1.append('Y')\n",
        "  else:\n",
        "    predlist_knn1.append('N')"
      ],
      "execution_count": 0,
      "outputs": []
    },
    {
      "cell_type": "code",
      "metadata": {
        "id": "vAD9ZGn_ICOJ",
        "colab_type": "code",
        "colab": {}
      },
      "source": [
        "#solution_knn1=pd.DataFrame({'Loan_ID':test.Loan_ID,'Loan_Status':predlist_knn1})"
      ],
      "execution_count": 0,
      "outputs": []
    },
    {
      "cell_type": "code",
      "metadata": {
        "id": "fNJwTBEzIJm9",
        "colab_type": "code",
        "colab": {}
      },
      "source": [
        "#from google.colab import files\n",
        "#solution_knn1.to_csv('KNNR.csv',index=False)    # 0.6875.\n",
        "#files.download('KNNR.csv')"
      ],
      "execution_count": 0,
      "outputs": []
    },
    {
      "cell_type": "code",
      "metadata": {
        "id": "IH5n1G5WIQ87",
        "colab_type": "code",
        "outputId": "e0cfb467-45b8-44b9-c7f5-c9ebca23fefb",
        "colab": {
          "base_uri": "https://localhost:8080/",
          "height": 187
        }
      },
      "source": [
        "# Randomized Search for Bagging Classifier\n",
        "param={'n_estimators':np.arange(1,25),'max_samples':np.arange(1,25)}\n",
        "R3=RandomizedSearchCV(bgc,param,cv=5,scoring='accuracy') \n",
        "print(R3.fit(scaled_train,train.Loan_Status).predict(scaled_test))"
      ],
      "execution_count": 143,
      "outputs": [
        {
          "output_type": "stream",
          "text": [
            "[1 1 1 1 1 1 1 0 1 1 1 1 1 0 1 1 1 1 1 1 1 1 1 1 1 0 1 1 1 1 1 1 1 1 1 0 1\n",
            " 1 1 1 1 1 1 1 1 1 1 1 1 1 1 1 1 1 1 0 1 1 0 1 1 1 1 0 1 1 0 0 1 0 1 1 1 1\n",
            " 1 1 1 1 1 1 0 1 0 1 0 1 1 1 1 1 1 1 1 1 0 1 1 1 0 1 1 0 1 1 1 1 0 1 1 1 1\n",
            " 1 1 1 1 1 1 0 0 0 1 1 1 0 0 1 0 1 1 1 1 1 1 1 1 1 1 1 1 1 0 1 0 1 1 1 1 0\n",
            " 1 1 1 1 1 0 1 1 1 1 1 1 1 0 1 1 1 0 0 1 0 1 1 1 1 0 0 1 1 1 1 1 1 1 1 1 1\n",
            " 1 1 1 1 1 1 1 0 0 1 1 0 1 0 1 1 1 1 1 1 1 1 1 1 1 0 0 1 1 1 1 1 1 1 1 1 1\n",
            " 0 1 0 0 1 1 1 0 1 1 1 1 1 0 0 1 1 1 1 0 1 0 1 0 1 1 1 1 0 1 1 1 1 0 1 1 1\n",
            " 1 1 1 1 1 1 1 0 1 0 1 1 1 1 0 0 1 1 1 0 1 1 1 1 1 1 1 1 1 1 1 1 1 1 0 1 1\n",
            " 1 1 1 1 1 0 1 1 1 1 1 1 1 1 1 0 1 1 1 1 1 0 1 1 1 1 1 1 1 0 1 1 1 1 1 1 1\n",
            " 1 1 0 1 1 1 0 1 1 1 1 1 1 0 0 1 1 1 1 1 1 0 1 1 0 1 1 1 1 1 1 1 1 1]\n"
          ],
          "name": "stdout"
        }
      ]
    },
    {
      "cell_type": "code",
      "metadata": {
        "id": "cyWEsvMNMCqt",
        "colab_type": "code",
        "outputId": "2fda9daf-9d53-40da-f01a-1ccecefd01c9",
        "colab": {
          "base_uri": "https://localhost:8080/",
          "height": 34
        }
      },
      "source": [
        "R3.best_params_"
      ],
      "execution_count": 144,
      "outputs": [
        {
          "output_type": "execute_result",
          "data": {
            "text/plain": [
              "{'max_samples': 10, 'n_estimators': 24}"
            ]
          },
          "metadata": {
            "tags": []
          },
          "execution_count": 144
        }
      ]
    },
    {
      "cell_type": "code",
      "metadata": {
        "id": "fFaS9c-HXk4g",
        "colab_type": "code",
        "colab": {}
      },
      "source": [
        "  bgc1=BaggingClassifier(max_samples=13,n_estimators=18)"
      ],
      "execution_count": 0,
      "outputs": []
    },
    {
      "cell_type": "code",
      "metadata": {
        "id": "jpGqT_4SX6lN",
        "colab_type": "code",
        "colab": {}
      },
      "source": [
        "pred_bgc1=bgc1.fit(scaled_train,train.Loan_Status).predict(scaled_test)"
      ],
      "execution_count": 0,
      "outputs": []
    },
    {
      "cell_type": "code",
      "metadata": {
        "id": "1hl57m7MYCc1",
        "colab_type": "code",
        "colab": {}
      },
      "source": [
        "predlist_bgc1=[]\n",
        "for i in range(0,len(pred_bgc1)):\n",
        "  if (pred_bgc1[i]==1):\n",
        "    predlist_bgc1.append('Y')\n",
        "  else:\n",
        "    predlist_bgc1.append('N')"
      ],
      "execution_count": 0,
      "outputs": []
    },
    {
      "cell_type": "code",
      "metadata": {
        "id": "cC1NKOqTYK3D",
        "colab_type": "code",
        "colab": {}
      },
      "source": [
        "#solution_bgc1=pd.DataFrame({'Loan_ID':test.Loan_ID,'Loan_Status':predlist_bgc1})"
      ],
      "execution_count": 0,
      "outputs": []
    },
    {
      "cell_type": "code",
      "metadata": {
        "id": "uGEuXKOLYTrO",
        "colab_type": "code",
        "colab": {}
      },
      "source": [
        "#from google.colab import files\n",
        "#solution_bgc1.to_csv('BGCR.csv',index=False)    #0.7152777777777778.\n",
        "#files.download('BGCR.csv')"
      ],
      "execution_count": 0,
      "outputs": []
    },
    {
      "cell_type": "code",
      "metadata": {
        "id": "xL7yFRiyYhnR",
        "colab_type": "code",
        "outputId": "dd6f5322-2dfe-40e7-b0c7-2121335c8534",
        "colab": {
          "base_uri": "https://localhost:8080/",
          "height": 187
        }
      },
      "source": [
        "# Randomized Search for Adaboost Classifier\n",
        "param={'n_estimators':np.arange(1,50),'learning_rate':[.001,0.01,0.1,0.25,0.5,0.75,1.0]}\n",
        "R4=RandomizedSearchCV(abc,param,cv=5,scoring='accuracy') \n",
        "print(R4.fit(scaled_train,train.Loan_Status).predict(scaled_test))"
      ],
      "execution_count": 150,
      "outputs": [
        {
          "output_type": "stream",
          "text": [
            "[1 1 1 1 1 1 1 0 1 1 1 1 1 0 1 1 1 1 1 1 1 1 1 1 1 0 1 1 1 1 1 1 1 1 1 0 1\n",
            " 1 1 1 1 1 1 1 1 1 1 1 1 1 1 1 1 1 1 0 1 1 0 1 1 1 1 0 1 1 0 0 1 0 1 1 1 1\n",
            " 1 1 1 1 1 1 0 1 0 1 0 1 1 1 1 1 1 1 1 1 0 1 1 1 1 1 1 0 1 1 1 1 0 1 1 1 1\n",
            " 1 1 1 1 1 1 0 0 0 1 1 1 0 0 1 0 1 1 1 1 1 1 1 1 1 1 1 1 1 0 1 0 1 1 1 1 0\n",
            " 1 1 1 1 1 0 1 1 1 1 1 1 1 0 1 1 1 0 0 1 0 1 1 1 1 0 0 1 1 1 1 1 1 1 1 1 1\n",
            " 1 1 1 1 1 1 1 0 0 1 1 0 1 0 1 1 1 1 1 1 1 1 1 1 1 1 0 1 1 1 1 1 1 1 1 1 1\n",
            " 1 1 0 1 1 1 1 0 1 1 1 1 1 0 0 1 1 1 1 0 1 0 1 0 1 1 1 1 0 1 1 1 1 0 1 1 1\n",
            " 1 1 1 1 1 1 1 0 1 0 1 1 1 1 0 0 1 1 1 0 1 1 1 1 1 1 1 1 1 1 1 1 1 1 0 1 1\n",
            " 1 1 1 1 1 0 1 1 1 1 1 1 1 1 1 0 1 1 1 1 1 0 1 1 1 1 1 1 1 0 1 1 1 1 1 1 1\n",
            " 1 1 1 1 1 1 0 1 1 1 1 1 1 0 1 1 1 1 1 1 1 0 1 1 1 1 1 1 1 1 1 1 1 1]\n"
          ],
          "name": "stdout"
        }
      ]
    },
    {
      "cell_type": "code",
      "metadata": {
        "id": "8ON3gSRlaP5r",
        "colab_type": "code",
        "outputId": "5820e3a0-78ca-4ba3-f3df-0f8a1de1a08a",
        "colab": {
          "base_uri": "https://localhost:8080/",
          "height": 34
        }
      },
      "source": [
        "R4.best_params_"
      ],
      "execution_count": 151,
      "outputs": [
        {
          "output_type": "execute_result",
          "data": {
            "text/plain": [
              "{'learning_rate': 0.001, 'n_estimators': 46}"
            ]
          },
          "metadata": {
            "tags": []
          },
          "execution_count": 151
        }
      ]
    },
    {
      "cell_type": "code",
      "metadata": {
        "id": "QfMb0q36bHho",
        "colab_type": "code",
        "colab": {}
      },
      "source": [
        "abc1=AdaBoostClassifier(learning_rate=0.01,n_estimators=36)"
      ],
      "execution_count": 0,
      "outputs": []
    },
    {
      "cell_type": "code",
      "metadata": {
        "id": "_dj4FiTtbNPD",
        "colab_type": "code",
        "colab": {}
      },
      "source": [
        "pred_abc1=abc1.fit(scaled_train,train.Loan_Status).predict(scaled_test)"
      ],
      "execution_count": 0,
      "outputs": []
    },
    {
      "cell_type": "code",
      "metadata": {
        "id": "U9PZ_NGvbR_U",
        "colab_type": "code",
        "colab": {}
      },
      "source": [
        "predlist_abc1=[]\n",
        "for i in range(0,len(pred_abc1)):\n",
        "  if (pred_abc1[i]==1):\n",
        "    predlist_abc1.append('Y')\n",
        "  else:\n",
        "    predlist_abc1.append('N')"
      ],
      "execution_count": 0,
      "outputs": []
    },
    {
      "cell_type": "code",
      "metadata": {
        "id": "FghyShjrbUYI",
        "colab_type": "code",
        "colab": {}
      },
      "source": [
        "#solution_abc1=pd.DataFrame({'Loan_ID':test.Loan_ID,'Loan_Status':predlist_abc1})"
      ],
      "execution_count": 0,
      "outputs": []
    },
    {
      "cell_type": "code",
      "metadata": {
        "id": "sVMpoqaEbUIc",
        "colab_type": "code",
        "colab": {}
      },
      "source": [
        "#from google.colab import files\n",
        "#solution_abc1.to_csv('ABCR.csv',index=False)    #0.7777777777777778.\n",
        "#files.download('ABCR.csv')"
      ],
      "execution_count": 0,
      "outputs": []
    },
    {
      "cell_type": "code",
      "metadata": {
        "id": "_GvGNOBYbiES",
        "colab_type": "code",
        "outputId": "a293fd76-1e33-4cb1-e3ea-e5b64f760f39",
        "colab": {
          "base_uri": "https://localhost:8080/",
          "height": 187
        }
      },
      "source": [
        "# Randomized Search for Gradient Boosting Classifier\n",
        "param={'n_estimators':np.arange(1,50),'learning_rate':[.001,0.01,0.1,0.25,0.5,0.75,1.0],'max_depth':np.arange(1,25),'max_features':np.arange(1,10)}\n",
        "R5=RandomizedSearchCV(gbc,param,cv=5,scoring='accuracy') \n",
        "print(R5.fit(scaled_train,train.Loan_Status).predict(scaled_test))"
      ],
      "execution_count": 157,
      "outputs": [
        {
          "output_type": "stream",
          "text": [
            "[1 1 1 1 0 0 1 0 1 1 1 0 0 0 1 1 1 1 1 1 0 0 1 1 0 0 1 1 1 1 1 1 1 1 1 0 1\n",
            " 1 1 0 1 1 1 1 1 1 1 1 0 1 1 1 1 0 1 0 1 1 0 1 1 1 1 0 1 1 0 0 1 0 1 1 1 1\n",
            " 1 1 1 0 1 1 0 1 0 1 0 1 1 1 1 1 1 1 0 1 0 1 1 1 0 1 1 0 0 0 1 1 0 1 1 1 1\n",
            " 1 1 1 1 1 1 0 0 0 1 1 1 0 0 1 0 1 1 1 1 1 1 1 0 1 1 1 1 1 0 1 0 1 1 1 1 0\n",
            " 1 0 1 1 1 0 1 1 1 1 0 1 1 0 1 1 1 0 0 1 0 0 1 1 1 0 0 1 1 1 1 1 1 1 1 1 1\n",
            " 1 1 1 1 1 0 1 0 0 0 1 0 1 0 1 1 1 1 1 1 1 1 1 1 1 0 0 1 1 1 1 1 1 1 1 1 1\n",
            " 1 1 1 1 1 1 1 0 1 1 0 1 0 0 0 1 1 0 1 0 1 0 1 0 1 1 1 0 0 1 1 1 1 0 0 1 1\n",
            " 1 0 1 1 1 1 1 0 1 0 1 1 0 0 0 0 1 1 1 0 1 1 1 1 1 1 1 1 1 0 1 1 1 0 0 1 1\n",
            " 1 0 1 1 1 0 1 0 1 1 1 1 1 1 0 0 1 1 1 1 0 0 1 1 0 1 1 0 1 0 1 1 1 1 1 1 1\n",
            " 1 1 0 1 1 1 0 1 1 1 1 1 1 0 1 1 1 1 0 1 1 0 1 1 0 1 1 1 1 1 1 1 1 1]\n"
          ],
          "name": "stdout"
        }
      ]
    },
    {
      "cell_type": "code",
      "metadata": {
        "id": "8HVNI9Usd1J3",
        "colab_type": "code",
        "outputId": "1a2919c0-8284-4d88-f4c3-61469486e15c",
        "colab": {
          "base_uri": "https://localhost:8080/",
          "height": 34
        }
      },
      "source": [
        "R5.best_params_"
      ],
      "execution_count": 158,
      "outputs": [
        {
          "output_type": "execute_result",
          "data": {
            "text/plain": [
              "{'learning_rate': 0.25, 'max_depth': 20, 'max_features': 4, 'n_estimators': 46}"
            ]
          },
          "metadata": {
            "tags": []
          },
          "execution_count": 158
        }
      ]
    },
    {
      "cell_type": "code",
      "metadata": {
        "id": "5HX7VZfAekRq",
        "colab_type": "code",
        "colab": {}
      },
      "source": [
        "gbc1=GradientBoostingClassifier(learning_rate=0.1,max_depth=15,max_features=4,n_estimators=40)"
      ],
      "execution_count": 0,
      "outputs": []
    },
    {
      "cell_type": "code",
      "metadata": {
        "id": "6YQe4Aqjkyz7",
        "colab_type": "code",
        "colab": {}
      },
      "source": [
        "pred_gbc1=gbc1.fit(scaled_train,train.Loan_Status).predict(scaled_test)"
      ],
      "execution_count": 0,
      "outputs": []
    },
    {
      "cell_type": "code",
      "metadata": {
        "id": "ZcOrDISNk4tl",
        "colab_type": "code",
        "colab": {}
      },
      "source": [
        "predlist_gbc1=[]\n",
        "for i in range(0,len(pred_gbc1)):\n",
        "  if (pred_gbc1[i]==1):\n",
        "    predlist_gbc1.append('Y')\n",
        "  else:\n",
        "    predlist_gbc1.append('N')"
      ],
      "execution_count": 0,
      "outputs": []
    },
    {
      "cell_type": "code",
      "metadata": {
        "id": "KxGot9Rzk_bZ",
        "colab_type": "code",
        "colab": {}
      },
      "source": [
        "#solution_gbc1=pd.DataFrame({'Loan_ID':test.Loan_ID,'Loan_Status':predlist_gbc1})"
      ],
      "execution_count": 0,
      "outputs": []
    },
    {
      "cell_type": "code",
      "metadata": {
        "id": "B0jX7liRnkem",
        "colab_type": "code",
        "colab": {}
      },
      "source": [
        "#from google.colab import files\n",
        "#solution_gbc1.to_csv('GBCR.csv',index=False)    #0.7291666666666666.\n",
        "#files.download('GBCR.csv')"
      ],
      "execution_count": 0,
      "outputs": []
    },
    {
      "cell_type": "code",
      "metadata": {
        "id": "5JTwDC4RnotO",
        "colab_type": "code",
        "outputId": "fee67831-1b09-43d0-a401-ca90a208099a",
        "colab": {
          "base_uri": "https://localhost:8080/",
          "height": 187
        }
      },
      "source": [
        "# Grid Search for Random Forrest\n",
        "param={'criterion':['entropy','gini'],'max_depth':np.arange(1,20),'n_estimators':np.arange(1,50),'max_features':['auto', 'sqrt']}\n",
        "G=GridSearchCV(rfc,param,cv=5,scoring='accuracy') \n",
        "print(G.fit(scaled_train,train.Loan_Status).predict(scaled_test))"
      ],
      "execution_count": 164,
      "outputs": [
        {
          "output_type": "stream",
          "text": [
            "[1 1 1 1 1 1 1 0 1 1 1 1 1 0 1 1 1 1 1 1 1 1 1 1 1 0 1 1 1 1 1 1 1 1 1 0 1\n",
            " 1 1 1 1 1 1 1 1 1 1 1 1 1 1 1 1 1 1 0 1 1 0 1 1 1 1 0 1 1 0 0 1 0 1 1 1 1\n",
            " 1 1 1 1 1 1 0 1 0 1 0 1 1 1 1 1 1 1 1 1 0 1 1 1 1 1 1 0 1 1 1 1 0 1 1 1 1\n",
            " 1 1 1 1 1 1 0 0 0 1 1 1 0 0 1 0 1 1 1 1 1 1 1 1 1 1 1 1 1 0 1 0 1 1 1 1 0\n",
            " 1 1 1 1 1 0 1 1 1 1 1 1 1 0 1 1 1 0 0 1 0 1 1 1 1 0 0 1 1 1 1 1 1 1 1 1 1\n",
            " 1 1 1 1 1 1 1 0 0 1 1 0 1 0 1 1 1 1 1 1 1 1 1 1 1 1 0 1 1 1 1 1 1 1 1 1 1\n",
            " 1 1 0 1 1 1 1 0 1 1 1 1 1 0 0 1 1 1 1 0 1 0 1 0 1 1 1 1 0 1 1 1 1 0 1 1 1\n",
            " 1 1 1 1 1 1 1 0 1 0 1 1 1 1 0 0 1 1 1 0 1 1 1 1 1 1 1 1 1 1 1 1 1 1 0 1 1\n",
            " 1 1 1 1 1 0 1 1 1 1 1 1 1 1 1 0 1 1 1 1 1 0 1 1 1 1 1 1 1 0 1 1 1 1 1 1 1\n",
            " 1 1 1 1 1 1 0 1 1 1 1 1 1 0 1 1 1 1 1 1 1 1 1 1 1 1 1 1 1 1 1 1 1 1]\n"
          ],
          "name": "stdout"
        }
      ]
    },
    {
      "cell_type": "code",
      "metadata": {
        "id": "t6uOEud_tgn5",
        "colab_type": "code",
        "outputId": "21b852c4-8593-4c3c-b0c2-dd9794661872",
        "colab": {
          "base_uri": "https://localhost:8080/",
          "height": 85
        }
      },
      "source": [
        "G.best_params_"
      ],
      "execution_count": 165,
      "outputs": [
        {
          "output_type": "execute_result",
          "data": {
            "text/plain": [
              "{'criterion': 'entropy',\n",
              " 'max_depth': 3,\n",
              " 'max_features': 'sqrt',\n",
              " 'n_estimators': 22}"
            ]
          },
          "metadata": {
            "tags": []
          },
          "execution_count": 165
        }
      ]
    },
    {
      "cell_type": "code",
      "metadata": {
        "id": "VDCSc_fWuAV-",
        "colab_type": "code",
        "colab": {}
      },
      "source": [
        "rfcg=RandomForestClassifier(criterion='entropy',max_depth=4,max_features='auto',n_estimators=46)"
      ],
      "execution_count": 0,
      "outputs": []
    },
    {
      "cell_type": "code",
      "metadata": {
        "id": "g6CI0Rf92dpb",
        "colab_type": "code",
        "colab": {}
      },
      "source": [
        "pred_rfcg=rfcg.fit(scaled_train,train.Loan_Status).predict(scaled_test)"
      ],
      "execution_count": 0,
      "outputs": []
    },
    {
      "cell_type": "code",
      "metadata": {
        "id": "eGyYJQjF2lT6",
        "colab_type": "code",
        "colab": {}
      },
      "source": [
        "predlist_rfcg=[]\n",
        "for i in range(0,len(pred_rfcg)):\n",
        "  if (pred_rfcg[i]==1):\n",
        "    predlist_rfcg.append('Y')\n",
        "  else:\n",
        "    predlist_rfcg.append('N')"
      ],
      "execution_count": 0,
      "outputs": []
    },
    {
      "cell_type": "code",
      "metadata": {
        "id": "dGGAauiZ2sBz",
        "colab_type": "code",
        "colab": {}
      },
      "source": [
        "#solution_rfcg=pd.DataFrame({'Loan_ID':test.Loan_ID,'Loan_Status':predlist_rfcg})"
      ],
      "execution_count": 0,
      "outputs": []
    },
    {
      "cell_type": "code",
      "metadata": {
        "id": "fzL1RNVZ2wP4",
        "colab_type": "code",
        "colab": {}
      },
      "source": [
        "#from google.colab import files\n",
        "#solution_rfcg.to_csv('RFCG.csv',index=False)    #0.7708333333333334\n",
        "#files.download('RFCG.csv')"
      ],
      "execution_count": 0,
      "outputs": []
    },
    {
      "cell_type": "code",
      "metadata": {
        "id": "T_3sm6-U25wH",
        "colab_type": "code",
        "colab": {
          "base_uri": "https://localhost:8080/",
          "height": 187
        },
        "outputId": "17170079-0715-4cb8-9281-297a6ee25365"
      },
      "source": [
        "# Grid Search for KNN\n",
        "param={'n_neighbors':np.arange(1,10),'weights':['uniform','distance'],'leaf_size':[1,2,3,5],'algorithm':['auto', 'ball_tree','kd_tree','brute']}\n",
        "G1=GridSearchCV(knn,param,cv=5,scoring='accuracy') \n",
        "print(G1.fit(scaled_train,train.Loan_Status).predict(scaled_test))"
      ],
      "execution_count": 172,
      "outputs": [
        {
          "output_type": "stream",
          "text": [
            "[1 1 1 1 1 1 1 0 1 1 1 1 1 1 1 1 1 1 1 1 1 1 1 1 1 0 1 1 1 1 1 1 1 1 1 0 1\n",
            " 1 1 1 1 1 1 1 1 1 1 1 1 1 1 1 1 1 1 1 1 1 1 1 1 1 1 1 1 1 0 1 1 0 1 1 1 1\n",
            " 1 1 1 1 1 1 1 1 0 1 1 1 1 1 1 1 1 1 1 1 0 1 1 1 1 1 1 1 1 1 1 1 1 1 1 1 1\n",
            " 1 1 1 1 1 1 0 0 1 1 1 1 0 0 1 0 1 1 1 1 1 1 1 1 1 1 1 1 1 0 1 0 1 1 1 1 0\n",
            " 1 1 1 1 1 1 1 1 1 1 0 1 1 0 1 1 1 1 1 1 1 1 1 1 1 1 0 1 1 1 1 1 1 1 1 1 1\n",
            " 1 1 1 1 1 1 1 0 0 0 1 0 1 0 1 1 1 1 1 1 1 1 1 1 1 1 0 1 1 1 1 1 1 1 1 1 1\n",
            " 1 1 1 1 1 1 1 0 1 1 1 1 1 1 0 1 1 0 1 1 1 0 1 1 1 1 1 1 1 1 1 1 1 0 0 1 1\n",
            " 1 1 1 1 1 1 1 1 1 0 1 1 0 1 0 0 1 1 1 0 1 1 1 1 1 1 1 1 1 1 1 1 1 1 0 1 1\n",
            " 1 1 1 1 1 0 1 0 1 1 1 1 1 1 1 1 1 1 1 1 0 0 1 1 1 1 1 1 1 1 1 1 1 1 1 1 1\n",
            " 1 1 1 1 1 1 1 1 1 0 1 1 1 0 1 1 1 1 1 1 1 0 1 1 1 1 1 1 1 1 1 1 1 1]\n"
          ],
          "name": "stdout"
        }
      ]
    },
    {
      "cell_type": "code",
      "metadata": {
        "id": "dzUKbzh-14gq",
        "colab_type": "code",
        "colab": {
          "base_uri": "https://localhost:8080/",
          "height": 34
        },
        "outputId": "43afacb2-06a8-413d-e459-a0005ccbaa51"
      },
      "source": [
        "G1.best_params_"
      ],
      "execution_count": 173,
      "outputs": [
        {
          "output_type": "execute_result",
          "data": {
            "text/plain": [
              "{'algorithm': 'auto', 'leaf_size': 1, 'n_neighbors': 9, 'weights': 'distance'}"
            ]
          },
          "metadata": {
            "tags": []
          },
          "execution_count": 173
        }
      ]
    },
    {
      "cell_type": "code",
      "metadata": {
        "id": "sq3RmJ4-2okZ",
        "colab_type": "code",
        "colab": {}
      },
      "source": [
        "knng=KNeighborsClassifier(algorithm='auto',leaf_size=1,n_neighbors=9,weights='distance')"
      ],
      "execution_count": 0,
      "outputs": []
    },
    {
      "cell_type": "code",
      "metadata": {
        "id": "m7yo-xpY2-_M",
        "colab_type": "code",
        "colab": {}
      },
      "source": [
        "pred_knng=knng.fit(scaled_train,train.Loan_Status).predict(scaled_test)"
      ],
      "execution_count": 0,
      "outputs": []
    },
    {
      "cell_type": "code",
      "metadata": {
        "id": "vULqRCI-3CpT",
        "colab_type": "code",
        "colab": {}
      },
      "source": [
        "predlist_knng=[]\n",
        "for i in range(0,len(pred_knng)):\n",
        "  if (pred_knng[i]==1):\n",
        "    predlist_knng.append('Y')\n",
        "  else:\n",
        "    predlist_knng.append('N')"
      ],
      "execution_count": 0,
      "outputs": []
    },
    {
      "cell_type": "code",
      "metadata": {
        "id": "vyNzePQZ3Taz",
        "colab_type": "code",
        "colab": {}
      },
      "source": [
        "#solution_knng=pd.DataFrame({'Loan_ID':test.Loan_ID,'Loan_Status':predlist_knng})"
      ],
      "execution_count": 0,
      "outputs": []
    },
    {
      "cell_type": "code",
      "metadata": {
        "id": "X9ZetTgA3YnF",
        "colab_type": "code",
        "colab": {}
      },
      "source": [
        "#from google.colab import files\n",
        "#solution_knng.to_csv('KNNG.csv',index=False)    #0.6875\n",
        "#files.download('KNNG.csv')"
      ],
      "execution_count": 0,
      "outputs": []
    },
    {
      "cell_type": "code",
      "metadata": {
        "id": "-ev_ZAz33kMn",
        "colab_type": "code",
        "colab": {
          "base_uri": "https://localhost:8080/",
          "height": 187
        },
        "outputId": "b26d475b-3bdf-4d5c-b306-b2142cc508ca"
      },
      "source": [
        "# Grid Search for Bagging Classifier\n",
        "param={'n_estimators':np.arange(1,25),'max_samples':np.arange(1,25)}\n",
        "G2=GridSearchCV(bgc,param,cv=5,scoring='accuracy') \n",
        "print(G2.fit(scaled_train,train.Loan_Status).predict(scaled_test))"
      ],
      "execution_count": 181,
      "outputs": [
        {
          "output_type": "stream",
          "text": [
            "[1 1 1 1 1 1 0 0 1 1 1 1 0 0 1 1 1 1 1 1 0 0 1 1 1 0 1 1 0 1 1 1 1 1 1 0 1\n",
            " 1 1 1 1 1 1 1 1 1 1 1 1 1 1 1 1 0 1 0 1 1 0 1 1 1 1 0 1 1 0 0 1 0 1 1 1 1\n",
            " 1 1 1 0 1 1 0 1 0 1 0 1 1 1 1 1 1 1 1 1 0 1 1 1 0 1 1 0 1 0 1 1 0 1 1 1 1\n",
            " 1 1 1 1 1 1 0 0 0 1 1 1 0 0 1 0 1 1 0 1 1 1 1 1 1 1 1 1 1 0 1 0 1 1 1 1 0\n",
            " 1 1 1 1 1 0 0 1 1 1 1 1 1 0 1 0 0 0 0 1 0 1 1 1 1 0 0 1 1 0 1 1 1 1 1 1 1\n",
            " 1 1 1 0 1 1 1 0 0 1 1 0 1 0 1 0 1 1 1 1 1 1 1 1 1 0 0 1 1 0 1 1 1 1 1 1 1\n",
            " 1 1 0 1 1 1 1 0 1 1 0 1 1 0 0 0 1 0 1 0 1 0 0 0 1 1 1 0 0 1 1 1 1 0 1 1 1\n",
            " 0 1 1 1 1 1 1 0 0 0 1 1 1 1 0 0 1 1 1 0 1 1 1 1 0 1 1 1 1 1 1 1 1 1 0 1 1\n",
            " 1 0 1 1 0 0 1 0 1 1 1 1 1 1 1 0 1 1 1 1 1 0 1 1 1 1 1 0 1 0 1 1 1 1 1 1 1\n",
            " 1 1 0 1 1 1 0 1 1 1 1 1 1 0 0 1 1 1 1 1 1 0 1 1 0 0 1 1 1 1 1 1 1 1]\n"
          ],
          "name": "stdout"
        }
      ]
    },
    {
      "cell_type": "code",
      "metadata": {
        "id": "35QzyKvU63nq",
        "colab_type": "code",
        "colab": {
          "base_uri": "https://localhost:8080/",
          "height": 34
        },
        "outputId": "1496200c-9567-4f53-d6f8-750f46d8077e"
      },
      "source": [
        "G2.best_params_"
      ],
      "execution_count": 182,
      "outputs": [
        {
          "output_type": "execute_result",
          "data": {
            "text/plain": [
              "{'max_samples': 23, 'n_estimators': 18}"
            ]
          },
          "metadata": {
            "tags": []
          },
          "execution_count": 182
        }
      ]
    },
    {
      "cell_type": "code",
      "metadata": {
        "id": "t_o3nJxU8bae",
        "colab_type": "code",
        "colab": {}
      },
      "source": [
        "bgcg=BaggingClassifier(max_samples=23,n_estimators=18)"
      ],
      "execution_count": 0,
      "outputs": []
    },
    {
      "cell_type": "code",
      "metadata": {
        "id": "rzQ3q4bgAuJw",
        "colab_type": "code",
        "colab": {}
      },
      "source": [
        "pred_bgcg=bgcg.fit(scaled_train,train.Loan_Status).predict(scaled_test)"
      ],
      "execution_count": 0,
      "outputs": []
    },
    {
      "cell_type": "code",
      "metadata": {
        "id": "lCVWz8qjBU5u",
        "colab_type": "code",
        "colab": {}
      },
      "source": [
        "predlist_bgcg=[]\n",
        "for i in range(0,len(pred_bgcg)):\n",
        "  if (pred_bgcg[i]==1):\n",
        "    predlist_bgcg.append('Y')\n",
        "  else:\n",
        "    predlist_bgcg.append('N')"
      ],
      "execution_count": 0,
      "outputs": []
    },
    {
      "cell_type": "code",
      "metadata": {
        "id": "lEU7zEGNBpMo",
        "colab_type": "code",
        "colab": {}
      },
      "source": [
        "solution_bgcg=pd.DataFrame({'Loan_ID':test.Loan_ID,'Loan_Status':predlist_bgcg})"
      ],
      "execution_count": 0,
      "outputs": []
    },
    {
      "cell_type": "code",
      "metadata": {
        "id": "xmli_vERCQQQ",
        "colab_type": "code",
        "colab": {}
      },
      "source": [
        "from google.colab import files\n",
        "solution_bgcg.to_csv('BGCG.csv',index=False)    #0.770833333333333\n",
        "files.download('BGCG.csv')"
      ],
      "execution_count": 0,
      "outputs": []
    },
    {
      "cell_type": "code",
      "metadata": {
        "id": "DMDvk5h_CWF3",
        "colab_type": "code",
        "colab": {}
      },
      "source": [
        ""
      ],
      "execution_count": 0,
      "outputs": []
    }
  ]
}